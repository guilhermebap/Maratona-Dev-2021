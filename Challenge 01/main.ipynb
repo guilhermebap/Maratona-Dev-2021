{
 "cells": [
  {
   "cell_type": "markdown",
   "id": "563b178f",
   "metadata": {},
   "source": [
    "# Maratona DEV - Challenge 01\n",
    "## Link: https://github.com/maratonadev/desafio-1-2021"
   ]
  },
  {
   "cell_type": "markdown",
   "id": "2c1fbbc8",
   "metadata": {},
   "source": [
    "## 1- Importando as bibliotecas"
   ]
  },
  {
   "cell_type": "code",
   "execution_count": 284,
   "id": "e5ffdd86",
   "metadata": {},
   "outputs": [],
   "source": [
    "import numpy as np\n",
    "import pandas as pd\n",
    "import matplotlib.pyplot as plt\n",
    "import seaborn as sns\n",
    "\n",
    "from sklearn.impute import SimpleImputer\n",
    "from sklearn.preprocessing import OneHotEncoder, StandardScaler\n",
    "from sklearn.model_selection import train_test_split, RandomizedSearchCV, GridSearchCV\n",
    "from sklearn.dummy import DummyClassifier\n",
    "from sklearn.linear_model import LogisticRegression\n",
    "from sklearn.ensemble import AdaBoostClassifier, ExtraTreesClassifier, GradientBoostingClassifier, RandomForestClassifier\n",
    "from sklearn.pipeline import Pipeline, make_pipeline\n",
    "from sklearn.tree import DecisionTreeClassifier\n",
    "from sklearn.metrics import f1_score\n",
    "from sklearn.compose import ColumnTransformer\n",
    "from sklearn.feature_selection import SelectKBest,f_classif\n",
    "\n",
    "sns.set()"
   ]
  },
  {
   "cell_type": "markdown",
   "id": "c4833e8a",
   "metadata": {},
   "source": [
    "## 2 - Carregando a base de dados"
   ]
  },
  {
   "cell_type": "code",
   "execution_count": 261,
   "id": "73c25eeb",
   "metadata": {},
   "outputs": [
    {
     "data": {
      "text/html": [
       "<div>\n",
       "<style scoped>\n",
       "    .dataframe tbody tr th:only-of-type {\n",
       "        vertical-align: middle;\n",
       "    }\n",
       "\n",
       "    .dataframe tbody tr th {\n",
       "        vertical-align: top;\n",
       "    }\n",
       "\n",
       "    .dataframe thead th {\n",
       "        text-align: right;\n",
       "    }\n",
       "</style>\n",
       "<table border=\"1\" class=\"dataframe\">\n",
       "  <thead>\n",
       "    <tr style=\"text-align: right;\">\n",
       "      <th></th>\n",
       "      <th>ID</th>\n",
       "      <th>CHECKING_BALANCE</th>\n",
       "      <th>CREDIT_HISTORY</th>\n",
       "      <th>EXISTING_SAVINGS</th>\n",
       "      <th>EXISTING_CREDITS_COUNT</th>\n",
       "    </tr>\n",
       "  </thead>\n",
       "  <tbody>\n",
       "    <tr>\n",
       "      <th>0</th>\n",
       "      <td>291655</td>\n",
       "      <td>-566.53</td>\n",
       "      <td>ALL_CREDITS_PAID_BACK</td>\n",
       "      <td>36.42</td>\n",
       "      <td>1.0</td>\n",
       "    </tr>\n",
       "    <tr>\n",
       "      <th>1</th>\n",
       "      <td>657079</td>\n",
       "      <td>-1673.16</td>\n",
       "      <td>CREDITS_PAID_TO_DATE</td>\n",
       "      <td>22.9</td>\n",
       "      <td>1.0</td>\n",
       "    </tr>\n",
       "    <tr>\n",
       "      <th>2</th>\n",
       "      <td>256050</td>\n",
       "      <td>NO_CHECKING</td>\n",
       "      <td>CREDITS_PAID_TO_DATE</td>\n",
       "      <td>450.35</td>\n",
       "      <td>2.0</td>\n",
       "    </tr>\n",
       "    <tr>\n",
       "      <th>3</th>\n",
       "      <td>1039151</td>\n",
       "      <td>-1471.03</td>\n",
       "      <td>PRIOR_PAYMENTS_DELAYED</td>\n",
       "      <td>805.71</td>\n",
       "      <td>2.0</td>\n",
       "    </tr>\n",
       "    <tr>\n",
       "      <th>4</th>\n",
       "      <td>1002660</td>\n",
       "      <td>NO_CHECKING</td>\n",
       "      <td>CREDITS_PAID_TO_DATE</td>\n",
       "      <td>295.03</td>\n",
       "      <td>1.0</td>\n",
       "    </tr>\n",
       "  </tbody>\n",
       "</table>\n",
       "</div>"
      ],
      "text/plain": [
       "        ID CHECKING_BALANCE          CREDIT_HISTORY EXISTING_SAVINGS  \\\n",
       "0   291655          -566.53   ALL_CREDITS_PAID_BACK            36.42   \n",
       "1   657079         -1673.16    CREDITS_PAID_TO_DATE             22.9   \n",
       "2   256050      NO_CHECKING    CREDITS_PAID_TO_DATE           450.35   \n",
       "3  1039151         -1471.03  PRIOR_PAYMENTS_DELAYED           805.71   \n",
       "4  1002660      NO_CHECKING    CREDITS_PAID_TO_DATE           295.03   \n",
       "\n",
       "   EXISTING_CREDITS_COUNT  \n",
       "0                     1.0  \n",
       "1                     1.0  \n",
       "2                     2.0  \n",
       "3                     2.0  \n",
       "4                     1.0  "
      ]
     },
     "execution_count": 261,
     "metadata": {},
     "output_type": "execute_result"
    }
   ],
   "source": [
    "account = pd.read_csv('datasets/ACCOUNTS.csv')\n",
    "account.head()"
   ]
  },
  {
   "cell_type": "code",
   "execution_count": 262,
   "id": "83002a8d",
   "metadata": {},
   "outputs": [
    {
     "data": {
      "text/html": [
       "<div>\n",
       "<style scoped>\n",
       "    .dataframe tbody tr th:only-of-type {\n",
       "        vertical-align: middle;\n",
       "    }\n",
       "\n",
       "    .dataframe tbody tr th {\n",
       "        vertical-align: top;\n",
       "    }\n",
       "\n",
       "    .dataframe thead th {\n",
       "        text-align: right;\n",
       "    }\n",
       "</style>\n",
       "<table border=\"1\" class=\"dataframe\">\n",
       "  <thead>\n",
       "    <tr style=\"text-align: right;\">\n",
       "      <th></th>\n",
       "      <th>ID</th>\n",
       "      <th>PAYMENT_TERM</th>\n",
       "      <th>INSTALLMENT_PLANS</th>\n",
       "      <th>INSTALLMENT_PERCENT</th>\n",
       "      <th>LOAN_PURPOSE</th>\n",
       "      <th>LOAN_AMOUNT</th>\n",
       "      <th>OTHERS_ON_LOAN</th>\n",
       "      <th>ALLOW</th>\n",
       "    </tr>\n",
       "  </thead>\n",
       "  <tbody>\n",
       "    <tr>\n",
       "      <th>0</th>\n",
       "      <td>610339</td>\n",
       "      <td>713.0</td>\n",
       "      <td>STORES</td>\n",
       "      <td>3.0</td>\n",
       "      <td>CAR_USED</td>\n",
       "      <td>3103.0</td>\n",
       "      <td>NONE</td>\n",
       "      <td>1</td>\n",
       "    </tr>\n",
       "    <tr>\n",
       "      <th>1</th>\n",
       "      <td>109167</td>\n",
       "      <td>341.0</td>\n",
       "      <td>STORES</td>\n",
       "      <td>1.0</td>\n",
       "      <td>CAR_NEW</td>\n",
       "      <td>716.0</td>\n",
       "      <td>NONE</td>\n",
       "      <td>1</td>\n",
       "    </tr>\n",
       "    <tr>\n",
       "      <th>2</th>\n",
       "      <td>823322</td>\n",
       "      <td>868.0</td>\n",
       "      <td>NONE</td>\n",
       "      <td>4.0</td>\n",
       "      <td>APPLIANCES</td>\n",
       "      <td>4333.0</td>\n",
       "      <td>NONE</td>\n",
       "      <td>1</td>\n",
       "    </tr>\n",
       "    <tr>\n",
       "      <th>3</th>\n",
       "      <td>322224</td>\n",
       "      <td>310.0</td>\n",
       "      <td>STORES</td>\n",
       "      <td>2.0</td>\n",
       "      <td>FURNITURE</td>\n",
       "      <td>250.0</td>\n",
       "      <td>NONE</td>\n",
       "      <td>1</td>\n",
       "    </tr>\n",
       "    <tr>\n",
       "      <th>4</th>\n",
       "      <td>912693</td>\n",
       "      <td>620.0</td>\n",
       "      <td>NONE</td>\n",
       "      <td>2.0</td>\n",
       "      <td>CAR_USED</td>\n",
       "      <td>2454.0</td>\n",
       "      <td>NONE</td>\n",
       "      <td>0</td>\n",
       "    </tr>\n",
       "  </tbody>\n",
       "</table>\n",
       "</div>"
      ],
      "text/plain": [
       "       ID  PAYMENT_TERM INSTALLMENT_PLANS  INSTALLMENT_PERCENT LOAN_PURPOSE  \\\n",
       "0  610339         713.0            STORES                  3.0     CAR_USED   \n",
       "1  109167         341.0            STORES                  1.0      CAR_NEW   \n",
       "2  823322         868.0              NONE                  4.0   APPLIANCES   \n",
       "3  322224         310.0            STORES                  2.0    FURNITURE   \n",
       "4  912693         620.0              NONE                  2.0     CAR_USED   \n",
       "\n",
       "   LOAN_AMOUNT OTHERS_ON_LOAN  ALLOW  \n",
       "0       3103.0           NONE      1  \n",
       "1        716.0           NONE      1  \n",
       "2       4333.0           NONE      1  \n",
       "3        250.0           NONE      1  \n",
       "4       2454.0           NONE      0  "
      ]
     },
     "execution_count": 262,
     "metadata": {},
     "output_type": "execute_result"
    }
   ],
   "source": [
    "loans = pd.read_csv('datasets/loans.csv')\n",
    "loans.head()"
   ]
  },
  {
   "cell_type": "code",
   "execution_count": 263,
   "id": "d61da6f6",
   "metadata": {
    "scrolled": true
   },
   "outputs": [
    {
     "data": {
      "text/html": [
       "<div>\n",
       "<style scoped>\n",
       "    .dataframe tbody tr th:only-of-type {\n",
       "        vertical-align: middle;\n",
       "    }\n",
       "\n",
       "    .dataframe tbody tr th {\n",
       "        vertical-align: top;\n",
       "    }\n",
       "\n",
       "    .dataframe thead th {\n",
       "        text-align: right;\n",
       "    }\n",
       "</style>\n",
       "<table border=\"1\" class=\"dataframe\">\n",
       "  <thead>\n",
       "    <tr style=\"text-align: right;\">\n",
       "      <th></th>\n",
       "      <th>ID</th>\n",
       "      <th>SEX</th>\n",
       "      <th>AGE</th>\n",
       "      <th>JOB_TYPE</th>\n",
       "      <th>DEPENDENTS</th>\n",
       "      <th>TELEPHONE</th>\n",
       "      <th>FOREIGN_WORKER</th>\n",
       "      <th>EMPLOYMENT_DURATION</th>\n",
       "      <th>PROPERTY</th>\n",
       "      <th>HOUSING</th>\n",
       "      <th>CURRENT_RESIDENCE_DURATION</th>\n",
       "    </tr>\n",
       "  </thead>\n",
       "  <tbody>\n",
       "    <tr>\n",
       "      <th>0</th>\n",
       "      <td>24252</td>\n",
       "      <td>M</td>\n",
       "      <td>47.0</td>\n",
       "      <td>3.0</td>\n",
       "      <td>1.0</td>\n",
       "      <td>0.0</td>\n",
       "      <td>1.0</td>\n",
       "      <td>14.0</td>\n",
       "      <td>SAVINGS_INSURANCE</td>\n",
       "      <td>OWN</td>\n",
       "      <td>3.0</td>\n",
       "    </tr>\n",
       "    <tr>\n",
       "      <th>1</th>\n",
       "      <td>1002018</td>\n",
       "      <td>M</td>\n",
       "      <td>19.0</td>\n",
       "      <td>3.0</td>\n",
       "      <td>1.0</td>\n",
       "      <td>0.0</td>\n",
       "      <td>1.0</td>\n",
       "      <td>0.0</td>\n",
       "      <td>SAVINGS_INSURANCE</td>\n",
       "      <td>RENT</td>\n",
       "      <td>2.0</td>\n",
       "    </tr>\n",
       "    <tr>\n",
       "      <th>2</th>\n",
       "      <td>1240455</td>\n",
       "      <td>F</td>\n",
       "      <td>50.0</td>\n",
       "      <td>2.0</td>\n",
       "      <td>1.0</td>\n",
       "      <td>1.0</td>\n",
       "      <td>1.0</td>\n",
       "      <td>7.0</td>\n",
       "      <td>UNKNOWN</td>\n",
       "      <td>OWN</td>\n",
       "      <td>3.0</td>\n",
       "    </tr>\n",
       "    <tr>\n",
       "      <th>3</th>\n",
       "      <td>107799</td>\n",
       "      <td>M</td>\n",
       "      <td>35.0</td>\n",
       "      <td>3.0</td>\n",
       "      <td>1.0</td>\n",
       "      <td>0.0</td>\n",
       "      <td>1.0</td>\n",
       "      <td>0.0</td>\n",
       "      <td>REAL_ESTATE</td>\n",
       "      <td>OWN</td>\n",
       "      <td>2.0</td>\n",
       "    </tr>\n",
       "    <tr>\n",
       "      <th>4</th>\n",
       "      <td>184883</td>\n",
       "      <td>M</td>\n",
       "      <td>40.0</td>\n",
       "      <td>1.0</td>\n",
       "      <td>1.0</td>\n",
       "      <td>0.0</td>\n",
       "      <td>1.0</td>\n",
       "      <td>9.0</td>\n",
       "      <td>CAR_OTHER</td>\n",
       "      <td>OWN</td>\n",
       "      <td>4.0</td>\n",
       "    </tr>\n",
       "  </tbody>\n",
       "</table>\n",
       "</div>"
      ],
      "text/plain": [
       "        ID SEX   AGE  JOB_TYPE  DEPENDENTS  TELEPHONE  FOREIGN_WORKER  \\\n",
       "0    24252   M  47.0       3.0         1.0        0.0             1.0   \n",
       "1  1002018   M  19.0       3.0         1.0        0.0             1.0   \n",
       "2  1240455   F  50.0       2.0         1.0        1.0             1.0   \n",
       "3   107799   M  35.0       3.0         1.0        0.0             1.0   \n",
       "4   184883   M  40.0       1.0         1.0        0.0             1.0   \n",
       "\n",
       "   EMPLOYMENT_DURATION           PROPERTY HOUSING  CURRENT_RESIDENCE_DURATION  \n",
       "0                 14.0  SAVINGS_INSURANCE     OWN                         3.0  \n",
       "1                  0.0  SAVINGS_INSURANCE    RENT                         2.0  \n",
       "2                  7.0            UNKNOWN     OWN                         3.0  \n",
       "3                  0.0        REAL_ESTATE     OWN                         2.0  \n",
       "4                  9.0          CAR_OTHER     OWN                         4.0  "
      ]
     },
     "execution_count": 263,
     "metadata": {},
     "output_type": "execute_result"
    }
   ],
   "source": [
    "demo = pd.read_csv('datasets/DEMOGRAPHICS.csv')\n",
    "demo.head()"
   ]
  },
  {
   "cell_type": "code",
   "execution_count": 264,
   "id": "fe44e863",
   "metadata": {},
   "outputs": [
    {
     "data": {
      "text/html": [
       "<div>\n",
       "<style scoped>\n",
       "    .dataframe tbody tr th:only-of-type {\n",
       "        vertical-align: middle;\n",
       "    }\n",
       "\n",
       "    .dataframe tbody tr th {\n",
       "        vertical-align: top;\n",
       "    }\n",
       "\n",
       "    .dataframe thead th {\n",
       "        text-align: right;\n",
       "    }\n",
       "</style>\n",
       "<table border=\"1\" class=\"dataframe\">\n",
       "  <thead>\n",
       "    <tr style=\"text-align: right;\">\n",
       "      <th></th>\n",
       "      <th>ID</th>\n",
       "      <th>CHECKING_BALANCE</th>\n",
       "      <th>PAYMENT_TERM</th>\n",
       "      <th>CREDIT_HISTORY</th>\n",
       "      <th>LOAN_PURPOSE</th>\n",
       "      <th>LOAN_AMOUNT</th>\n",
       "      <th>EXISTING_SAVINGS</th>\n",
       "      <th>EMPLOYMENT_DURATION</th>\n",
       "      <th>INSTALLMENT_PERCENT</th>\n",
       "      <th>SEX</th>\n",
       "      <th>...</th>\n",
       "      <th>PROPERTY</th>\n",
       "      <th>AGE</th>\n",
       "      <th>INSTALLMENT_PLANS</th>\n",
       "      <th>HOUSING</th>\n",
       "      <th>EXISTING_CREDITS_COUNT</th>\n",
       "      <th>JOB_TYPE</th>\n",
       "      <th>DEPENDENTS</th>\n",
       "      <th>TELEPHONE</th>\n",
       "      <th>FOREIGN_WORKER</th>\n",
       "      <th>ALLOW</th>\n",
       "    </tr>\n",
       "  </thead>\n",
       "  <tbody>\n",
       "    <tr>\n",
       "      <th>0</th>\n",
       "      <td>1078506</td>\n",
       "      <td>25.84</td>\n",
       "      <td>465</td>\n",
       "      <td>NO_CREDITS</td>\n",
       "      <td>CAR_NEW</td>\n",
       "      <td>250</td>\n",
       "      <td>38.35</td>\n",
       "      <td>0</td>\n",
       "      <td>1</td>\n",
       "      <td>F</td>\n",
       "      <td>...</td>\n",
       "      <td>REAL_ESTATE</td>\n",
       "      <td>32</td>\n",
       "      <td>STORES</td>\n",
       "      <td>OWN</td>\n",
       "      <td>1</td>\n",
       "      <td>3</td>\n",
       "      <td>1</td>\n",
       "      <td>0</td>\n",
       "      <td>1</td>\n",
       "      <td>TO_FILL</td>\n",
       "    </tr>\n",
       "    <tr>\n",
       "      <th>1</th>\n",
       "      <td>947575</td>\n",
       "      <td>-439.72</td>\n",
       "      <td>120</td>\n",
       "      <td>ALL_CREDITS_PAID_BACK</td>\n",
       "      <td>CAR_NEW</td>\n",
       "      <td>250</td>\n",
       "      <td>1.62</td>\n",
       "      <td>0</td>\n",
       "      <td>2</td>\n",
       "      <td>M</td>\n",
       "      <td>...</td>\n",
       "      <td>REAL_ESTATE</td>\n",
       "      <td>25</td>\n",
       "      <td>STORES</td>\n",
       "      <td>RENT</td>\n",
       "      <td>1</td>\n",
       "      <td>3</td>\n",
       "      <td>1</td>\n",
       "      <td>0</td>\n",
       "      <td>1</td>\n",
       "      <td>TO_FILL</td>\n",
       "    </tr>\n",
       "    <tr>\n",
       "      <th>2</th>\n",
       "      <td>133043</td>\n",
       "      <td>169.45</td>\n",
       "      <td>527</td>\n",
       "      <td>PRIOR_PAYMENTS_DELAYED</td>\n",
       "      <td>RADIO_TV</td>\n",
       "      <td>2207</td>\n",
       "      <td>184.97</td>\n",
       "      <td>6</td>\n",
       "      <td>2</td>\n",
       "      <td>M</td>\n",
       "      <td>...</td>\n",
       "      <td>SAVINGS_INSURANCE</td>\n",
       "      <td>32</td>\n",
       "      <td>STORES</td>\n",
       "      <td>OWN</td>\n",
       "      <td>2</td>\n",
       "      <td>1</td>\n",
       "      <td>2</td>\n",
       "      <td>0</td>\n",
       "      <td>1</td>\n",
       "      <td>TO_FILL</td>\n",
       "    </tr>\n",
       "    <tr>\n",
       "      <th>3</th>\n",
       "      <td>1031383</td>\n",
       "      <td>NO_CHECKING</td>\n",
       "      <td>720</td>\n",
       "      <td>OUTSTANDING_CREDIT</td>\n",
       "      <td>CAR_USED</td>\n",
       "      <td>5064</td>\n",
       "      <td>731.03</td>\n",
       "      <td>6</td>\n",
       "      <td>4</td>\n",
       "      <td>M</td>\n",
       "      <td>...</td>\n",
       "      <td>CAR_OTHER</td>\n",
       "      <td>49</td>\n",
       "      <td>NONE</td>\n",
       "      <td>OWN</td>\n",
       "      <td>2</td>\n",
       "      <td>3</td>\n",
       "      <td>1</td>\n",
       "      <td>0</td>\n",
       "      <td>1</td>\n",
       "      <td>TO_FILL</td>\n",
       "    </tr>\n",
       "    <tr>\n",
       "      <th>4</th>\n",
       "      <td>491563</td>\n",
       "      <td>NO_CHECKING</td>\n",
       "      <td>420</td>\n",
       "      <td>OUTSTANDING_CREDIT</td>\n",
       "      <td>FURNITURE</td>\n",
       "      <td>3763</td>\n",
       "      <td>396.26</td>\n",
       "      <td>4</td>\n",
       "      <td>3</td>\n",
       "      <td>F</td>\n",
       "      <td>...</td>\n",
       "      <td>CAR_OTHER</td>\n",
       "      <td>46</td>\n",
       "      <td>STORES</td>\n",
       "      <td>OWN</td>\n",
       "      <td>1</td>\n",
       "      <td>1</td>\n",
       "      <td>2</td>\n",
       "      <td>1</td>\n",
       "      <td>1</td>\n",
       "      <td>TO_FILL</td>\n",
       "    </tr>\n",
       "  </tbody>\n",
       "</table>\n",
       "<p>5 rows × 22 columns</p>\n",
       "</div>"
      ],
      "text/plain": [
       "        ID CHECKING_BALANCE  PAYMENT_TERM          CREDIT_HISTORY  \\\n",
       "0  1078506            25.84           465              NO_CREDITS   \n",
       "1   947575          -439.72           120   ALL_CREDITS_PAID_BACK   \n",
       "2   133043           169.45           527  PRIOR_PAYMENTS_DELAYED   \n",
       "3  1031383      NO_CHECKING           720      OUTSTANDING_CREDIT   \n",
       "4   491563      NO_CHECKING           420      OUTSTANDING_CREDIT   \n",
       "\n",
       "  LOAN_PURPOSE  LOAN_AMOUNT EXISTING_SAVINGS  EMPLOYMENT_DURATION  \\\n",
       "0      CAR_NEW          250            38.35                    0   \n",
       "1      CAR_NEW          250             1.62                    0   \n",
       "2     RADIO_TV         2207           184.97                    6   \n",
       "3     CAR_USED         5064           731.03                    6   \n",
       "4    FURNITURE         3763           396.26                    4   \n",
       "\n",
       "   INSTALLMENT_PERCENT SEX  ...           PROPERTY  AGE INSTALLMENT_PLANS  \\\n",
       "0                    1   F  ...        REAL_ESTATE   32            STORES   \n",
       "1                    2   M  ...        REAL_ESTATE   25            STORES   \n",
       "2                    2   M  ...  SAVINGS_INSURANCE   32            STORES   \n",
       "3                    4   M  ...          CAR_OTHER   49              NONE   \n",
       "4                    3   F  ...          CAR_OTHER   46            STORES   \n",
       "\n",
       "   HOUSING EXISTING_CREDITS_COUNT JOB_TYPE  DEPENDENTS  TELEPHONE  \\\n",
       "0      OWN                      1        3           1          0   \n",
       "1     RENT                      1        3           1          0   \n",
       "2      OWN                      2        1           2          0   \n",
       "3      OWN                      2        3           1          0   \n",
       "4      OWN                      1        1           2          1   \n",
       "\n",
       "   FOREIGN_WORKER    ALLOW  \n",
       "0               1  TO_FILL  \n",
       "1               1  TO_FILL  \n",
       "2               1  TO_FILL  \n",
       "3               1  TO_FILL  \n",
       "4               1  TO_FILL  \n",
       "\n",
       "[5 rows x 22 columns]"
      ]
     },
     "execution_count": 264,
     "metadata": {},
     "output_type": "execute_result"
    }
   ],
   "source": [
    "answers = pd.read_csv('datasets/ANSWERS.csv')\n",
    "answers.head()"
   ]
  },
  {
   "cell_type": "markdown",
   "id": "de8bafc6",
   "metadata": {},
   "source": [
    "## 3 - Explorando os dados"
   ]
  },
  {
   "cell_type": "code",
   "execution_count": 265,
   "id": "99a09ded",
   "metadata": {},
   "outputs": [
    {
     "name": "stdout",
     "output_type": "stream",
     "text": [
      "O dataset account é formado por 2477 linhas e 5 atributos\n",
      "O dataset loans é formado por 3999 linhas e 8 atributos\n",
      "O dataset demographic é formado por 3936 linhas e 11 atributos\n",
      "O dataset answers é formado por 1000 linhas e 22 atributos\n"
     ]
    }
   ],
   "source": [
    "print(f'O dataset account é formado por {account.shape[0]} linhas e {account.shape[1]} atributos')\n",
    "print(f'O dataset loans é formado por {loans.shape[0]} linhas e {loans.shape[1]} atributos')\n",
    "print(f'O dataset demographic é formado por {demo.shape[0]} linhas e {demo.shape[1]} atributos')\n",
    "print(f'O dataset answers é formado por {answers.shape[0]} linhas e {answers.shape[1]} atributos')"
   ]
  },
  {
   "cell_type": "code",
   "execution_count": 266,
   "id": "bdd001c1",
   "metadata": {},
   "outputs": [
    {
     "name": "stdout",
     "output_type": "stream",
     "text": [
      "<class 'pandas.core.frame.DataFrame'>\n",
      "RangeIndex: 2477 entries, 0 to 2476\n",
      "Data columns (total 5 columns):\n",
      " #   Column                  Non-Null Count  Dtype  \n",
      "---  ------                  --------------  -----  \n",
      " 0   ID                      2477 non-null   int64  \n",
      " 1   CHECKING_BALANCE        2467 non-null   object \n",
      " 2   CREDIT_HISTORY          2462 non-null   object \n",
      " 3   EXISTING_SAVINGS        2467 non-null   object \n",
      " 4   EXISTING_CREDITS_COUNT  2463 non-null   float64\n",
      "dtypes: float64(1), int64(1), object(3)\n",
      "memory usage: 96.9+ KB\n",
      "None\n"
     ]
    }
   ],
   "source": [
    "print(account.info())"
   ]
  },
  {
   "cell_type": "code",
   "execution_count": 267,
   "id": "a271d761",
   "metadata": {},
   "outputs": [
    {
     "name": "stdout",
     "output_type": "stream",
     "text": [
      "<class 'pandas.core.frame.DataFrame'>\n",
      "RangeIndex: 3999 entries, 0 to 3998\n",
      "Data columns (total 8 columns):\n",
      " #   Column               Non-Null Count  Dtype  \n",
      "---  ------               --------------  -----  \n",
      " 0   ID                   3999 non-null   int64  \n",
      " 1   PAYMENT_TERM         3975 non-null   float64\n",
      " 2   INSTALLMENT_PLANS    3978 non-null   object \n",
      " 3   INSTALLMENT_PERCENT  3974 non-null   float64\n",
      " 4   LOAN_PURPOSE         3979 non-null   object \n",
      " 5   LOAN_AMOUNT          3981 non-null   float64\n",
      " 6   OTHERS_ON_LOAN       3977 non-null   object \n",
      " 7   ALLOW                3999 non-null   int64  \n",
      "dtypes: float64(3), int64(2), object(3)\n",
      "memory usage: 250.1+ KB\n",
      "None\n"
     ]
    }
   ],
   "source": [
    "print(loans.info())"
   ]
  },
  {
   "cell_type": "code",
   "execution_count": 268,
   "id": "78775b2d",
   "metadata": {},
   "outputs": [
    {
     "name": "stdout",
     "output_type": "stream",
     "text": [
      "<class 'pandas.core.frame.DataFrame'>\n",
      "RangeIndex: 3936 entries, 0 to 3935\n",
      "Data columns (total 11 columns):\n",
      " #   Column                      Non-Null Count  Dtype  \n",
      "---  ------                      --------------  -----  \n",
      " 0   ID                          3936 non-null   int64  \n",
      " 1   SEX                         3920 non-null   object \n",
      " 2   AGE                         3918 non-null   float64\n",
      " 3   JOB_TYPE                    3910 non-null   float64\n",
      " 4   DEPENDENTS                  3915 non-null   float64\n",
      " 5   TELEPHONE                   3915 non-null   float64\n",
      " 6   FOREIGN_WORKER              3909 non-null   float64\n",
      " 7   EMPLOYMENT_DURATION         3923 non-null   float64\n",
      " 8   PROPERTY                    3918 non-null   object \n",
      " 9   HOUSING                     3912 non-null   object \n",
      " 10  CURRENT_RESIDENCE_DURATION  3917 non-null   float64\n",
      "dtypes: float64(7), int64(1), object(3)\n",
      "memory usage: 338.4+ KB\n",
      "None\n"
     ]
    }
   ],
   "source": [
    "print(demo.info())"
   ]
  },
  {
   "cell_type": "code",
   "execution_count": 269,
   "id": "f68bc755",
   "metadata": {},
   "outputs": [
    {
     "name": "stdout",
     "output_type": "stream",
     "text": [
      "O número de IDs únicos no dataset account é: 2477\n",
      "O número de IDs únicos no dataset account é: 3999\n",
      "O número de IDs únicos no dataset account é: 3936\n"
     ]
    }
   ],
   "source": [
    "print(f'O número de IDs únicos no dataset account é: {account.ID.nunique()}')\n",
    "print(f'O número de IDs únicos no dataset account é: {loans.ID.nunique()}')\n",
    "print(f'O número de IDs únicos no dataset account é: {demo.ID.nunique()}')"
   ]
  },
  {
   "cell_type": "code",
   "execution_count": 270,
   "id": "6e70a09c",
   "metadata": {},
   "outputs": [
    {
     "name": "stdout",
     "output_type": "stream",
     "text": [
      "O número de IDs únicos no dataset account é: 2428\n",
      "O número de IDs únicos no dataset account é: 3870\n",
      "O número de IDs únicos no dataset account é: 3736\n"
     ]
    }
   ],
   "source": [
    "# Eliminando as linhas que possuem dados nulos\n",
    "account.dropna(inplace=True)\n",
    "loans.dropna(inplace=True)\n",
    "demo.dropna(inplace=True)\n",
    "\n",
    "print(f'O número de IDs únicos no dataset account é: {account.ID.nunique()}')\n",
    "print(f'O número de IDs únicos no dataset account é: {loans.ID.nunique()}')\n",
    "print(f'O número de IDs únicos no dataset account é: {demo.ID.nunique()}')"
   ]
  },
  {
   "cell_type": "code",
   "execution_count": 271,
   "id": "b8ee0bd8",
   "metadata": {},
   "outputs": [
    {
     "name": "stdout",
     "output_type": "stream",
     "text": [
      "A quantidade de linhas duplicadas no dataframe account é: 0\n",
      "A quantidade de linhas duplicadas no dataframe account é: 0\n",
      "A quantidade de linhas duplicadas no dataframe account é: 0\n"
     ]
    }
   ],
   "source": [
    "# Procurando saber se há dados duplicados\n",
    "\n",
    "print(f'A quantidade de linhas duplicadas no dataframe account é: {account.duplicated().sum()}')\n",
    "print(f'A quantidade de linhas duplicadas no dataframe account é: {loans.duplicated().sum()}')\n",
    "print(f'A quantidade de linhas duplicadas no dataframe account é: {demo.duplicated().sum()}')"
   ]
  },
  {
   "cell_type": "code",
   "execution_count": 272,
   "id": "5219bea0",
   "metadata": {},
   "outputs": [
    {
     "data": {
      "text/html": [
       "<div>\n",
       "<style scoped>\n",
       "    .dataframe tbody tr th:only-of-type {\n",
       "        vertical-align: middle;\n",
       "    }\n",
       "\n",
       "    .dataframe tbody tr th {\n",
       "        vertical-align: top;\n",
       "    }\n",
       "\n",
       "    .dataframe thead th {\n",
       "        text-align: right;\n",
       "    }\n",
       "</style>\n",
       "<table border=\"1\" class=\"dataframe\">\n",
       "  <thead>\n",
       "    <tr style=\"text-align: right;\">\n",
       "      <th></th>\n",
       "      <th>ID</th>\n",
       "      <th>CHECKING_BALANCE</th>\n",
       "      <th>CREDIT_HISTORY</th>\n",
       "      <th>EXISTING_SAVINGS</th>\n",
       "      <th>EXISTING_CREDITS_COUNT</th>\n",
       "      <th>SEX</th>\n",
       "      <th>AGE</th>\n",
       "      <th>JOB_TYPE</th>\n",
       "      <th>DEPENDENTS</th>\n",
       "      <th>TELEPHONE</th>\n",
       "      <th>...</th>\n",
       "      <th>PROPERTY</th>\n",
       "      <th>HOUSING</th>\n",
       "      <th>CURRENT_RESIDENCE_DURATION</th>\n",
       "      <th>PAYMENT_TERM</th>\n",
       "      <th>INSTALLMENT_PLANS</th>\n",
       "      <th>INSTALLMENT_PERCENT</th>\n",
       "      <th>LOAN_PURPOSE</th>\n",
       "      <th>LOAN_AMOUNT</th>\n",
       "      <th>OTHERS_ON_LOAN</th>\n",
       "      <th>ALLOW</th>\n",
       "    </tr>\n",
       "  </thead>\n",
       "  <tbody>\n",
       "    <tr>\n",
       "      <th>0</th>\n",
       "      <td>291655</td>\n",
       "      <td>-566.53</td>\n",
       "      <td>ALL_CREDITS_PAID_BACK</td>\n",
       "      <td>36.42</td>\n",
       "      <td>1.0</td>\n",
       "      <td>F</td>\n",
       "      <td>24.0</td>\n",
       "      <td>3.0</td>\n",
       "      <td>1.0</td>\n",
       "      <td>1.0</td>\n",
       "      <td>...</td>\n",
       "      <td>SAVINGS_INSURANCE</td>\n",
       "      <td>OWN</td>\n",
       "      <td>2.0</td>\n",
       "      <td>310.0</td>\n",
       "      <td>NONE</td>\n",
       "      <td>2.0</td>\n",
       "      <td>CAR_NEW</td>\n",
       "      <td>3503.0</td>\n",
       "      <td>NONE</td>\n",
       "      <td>1</td>\n",
       "    </tr>\n",
       "    <tr>\n",
       "      <th>1</th>\n",
       "      <td>657079</td>\n",
       "      <td>-1673.16</td>\n",
       "      <td>CREDITS_PAID_TO_DATE</td>\n",
       "      <td>22.9</td>\n",
       "      <td>1.0</td>\n",
       "      <td>F</td>\n",
       "      <td>30.0</td>\n",
       "      <td>3.0</td>\n",
       "      <td>1.0</td>\n",
       "      <td>0.0</td>\n",
       "      <td>...</td>\n",
       "      <td>CAR_OTHER</td>\n",
       "      <td>RENT</td>\n",
       "      <td>1.0</td>\n",
       "      <td>630.0</td>\n",
       "      <td>STORES</td>\n",
       "      <td>3.0</td>\n",
       "      <td>CAR_NEW</td>\n",
       "      <td>3729.0</td>\n",
       "      <td>NONE</td>\n",
       "      <td>1</td>\n",
       "    </tr>\n",
       "    <tr>\n",
       "      <th>2</th>\n",
       "      <td>256050</td>\n",
       "      <td>NO_CHECKING</td>\n",
       "      <td>CREDITS_PAID_TO_DATE</td>\n",
       "      <td>450.35</td>\n",
       "      <td>2.0</td>\n",
       "      <td>M</td>\n",
       "      <td>40.0</td>\n",
       "      <td>3.0</td>\n",
       "      <td>1.0</td>\n",
       "      <td>0.0</td>\n",
       "      <td>...</td>\n",
       "      <td>UNKNOWN</td>\n",
       "      <td>OWN</td>\n",
       "      <td>4.0</td>\n",
       "      <td>868.0</td>\n",
       "      <td>NONE</td>\n",
       "      <td>3.0</td>\n",
       "      <td>CAR_USED</td>\n",
       "      <td>8516.0</td>\n",
       "      <td>NONE</td>\n",
       "      <td>0</td>\n",
       "    </tr>\n",
       "    <tr>\n",
       "      <th>3</th>\n",
       "      <td>1039151</td>\n",
       "      <td>-1471.03</td>\n",
       "      <td>PRIOR_PAYMENTS_DELAYED</td>\n",
       "      <td>805.71</td>\n",
       "      <td>2.0</td>\n",
       "      <td>M</td>\n",
       "      <td>28.0</td>\n",
       "      <td>1.0</td>\n",
       "      <td>1.0</td>\n",
       "      <td>0.0</td>\n",
       "      <td>...</td>\n",
       "      <td>CAR_OTHER</td>\n",
       "      <td>OWN</td>\n",
       "      <td>3.0</td>\n",
       "      <td>403.0</td>\n",
       "      <td>BANK</td>\n",
       "      <td>3.0</td>\n",
       "      <td>FURNITURE</td>\n",
       "      <td>2577.0</td>\n",
       "      <td>NONE</td>\n",
       "      <td>1</td>\n",
       "    </tr>\n",
       "    <tr>\n",
       "      <th>4</th>\n",
       "      <td>1002660</td>\n",
       "      <td>NO_CHECKING</td>\n",
       "      <td>CREDITS_PAID_TO_DATE</td>\n",
       "      <td>295.03</td>\n",
       "      <td>1.0</td>\n",
       "      <td>M</td>\n",
       "      <td>19.0</td>\n",
       "      <td>2.0</td>\n",
       "      <td>1.0</td>\n",
       "      <td>0.0</td>\n",
       "      <td>...</td>\n",
       "      <td>REAL_ESTATE</td>\n",
       "      <td>OWN</td>\n",
       "      <td>3.0</td>\n",
       "      <td>810.0</td>\n",
       "      <td>NONE</td>\n",
       "      <td>4.0</td>\n",
       "      <td>BUSINESS</td>\n",
       "      <td>3750.0</td>\n",
       "      <td>NONE</td>\n",
       "      <td>1</td>\n",
       "    </tr>\n",
       "    <tr>\n",
       "      <th>5</th>\n",
       "      <td>1096578</td>\n",
       "      <td>NO_CHECKING</td>\n",
       "      <td>PRIOR_PAYMENTS_DELAYED</td>\n",
       "      <td>421.96</td>\n",
       "      <td>1.0</td>\n",
       "      <td>F</td>\n",
       "      <td>43.0</td>\n",
       "      <td>2.0</td>\n",
       "      <td>1.0</td>\n",
       "      <td>0.0</td>\n",
       "      <td>...</td>\n",
       "      <td>CAR_OTHER</td>\n",
       "      <td>OWN</td>\n",
       "      <td>4.0</td>\n",
       "      <td>806.0</td>\n",
       "      <td>NONE</td>\n",
       "      <td>3.0</td>\n",
       "      <td>RADIO_TV</td>\n",
       "      <td>5299.0</td>\n",
       "      <td>NONE</td>\n",
       "      <td>0</td>\n",
       "    </tr>\n",
       "    <tr>\n",
       "      <th>6</th>\n",
       "      <td>544178</td>\n",
       "      <td>-121.7</td>\n",
       "      <td>CREDITS_PAID_TO_DATE</td>\n",
       "      <td>22.44</td>\n",
       "      <td>1.0</td>\n",
       "      <td>M</td>\n",
       "      <td>26.0</td>\n",
       "      <td>3.0</td>\n",
       "      <td>1.0</td>\n",
       "      <td>0.0</td>\n",
       "      <td>...</td>\n",
       "      <td>SAVINGS_INSURANCE</td>\n",
       "      <td>RENT</td>\n",
       "      <td>3.0</td>\n",
       "      <td>480.0</td>\n",
       "      <td>NONE</td>\n",
       "      <td>2.0</td>\n",
       "      <td>FURNITURE</td>\n",
       "      <td>250.0</td>\n",
       "      <td>NONE</td>\n",
       "      <td>1</td>\n",
       "    </tr>\n",
       "    <tr>\n",
       "      <th>7</th>\n",
       "      <td>356107</td>\n",
       "      <td>-124.51</td>\n",
       "      <td>ALL_CREDITS_PAID_BACK</td>\n",
       "      <td>35.07</td>\n",
       "      <td>1.0</td>\n",
       "      <td>F</td>\n",
       "      <td>20.0</td>\n",
       "      <td>3.0</td>\n",
       "      <td>1.0</td>\n",
       "      <td>0.0</td>\n",
       "      <td>...</td>\n",
       "      <td>SAVINGS_INSURANCE</td>\n",
       "      <td>OWN</td>\n",
       "      <td>1.0</td>\n",
       "      <td>360.0</td>\n",
       "      <td>STORES</td>\n",
       "      <td>1.0</td>\n",
       "      <td>CAR_USED</td>\n",
       "      <td>250.0</td>\n",
       "      <td>NONE</td>\n",
       "      <td>1</td>\n",
       "    </tr>\n",
       "    <tr>\n",
       "      <th>8</th>\n",
       "      <td>72646</td>\n",
       "      <td>-1911.77</td>\n",
       "      <td>CREDITS_PAID_TO_DATE</td>\n",
       "      <td>56.22</td>\n",
       "      <td>1.0</td>\n",
       "      <td>M</td>\n",
       "      <td>33.0</td>\n",
       "      <td>3.0</td>\n",
       "      <td>1.0</td>\n",
       "      <td>0.0</td>\n",
       "      <td>...</td>\n",
       "      <td>SAVINGS_INSURANCE</td>\n",
       "      <td>OWN</td>\n",
       "      <td>1.0</td>\n",
       "      <td>300.0</td>\n",
       "      <td>STORES</td>\n",
       "      <td>2.0</td>\n",
       "      <td>CAR_USED</td>\n",
       "      <td>652.0</td>\n",
       "      <td>NONE</td>\n",
       "      <td>1</td>\n",
       "    </tr>\n",
       "    <tr>\n",
       "      <th>9</th>\n",
       "      <td>1136574</td>\n",
       "      <td>NO_CHECKING</td>\n",
       "      <td>PRIOR_PAYMENTS_DELAYED</td>\n",
       "      <td>383.57</td>\n",
       "      <td>1.0</td>\n",
       "      <td>M</td>\n",
       "      <td>43.0</td>\n",
       "      <td>2.0</td>\n",
       "      <td>1.0</td>\n",
       "      <td>0.0</td>\n",
       "      <td>...</td>\n",
       "      <td>SAVINGS_INSURANCE</td>\n",
       "      <td>OWN</td>\n",
       "      <td>3.0</td>\n",
       "      <td>806.0</td>\n",
       "      <td>NONE</td>\n",
       "      <td>4.0</td>\n",
       "      <td>CAR_USED</td>\n",
       "      <td>4274.0</td>\n",
       "      <td>NONE</td>\n",
       "      <td>0</td>\n",
       "    </tr>\n",
       "  </tbody>\n",
       "</table>\n",
       "<p>10 rows × 22 columns</p>\n",
       "</div>"
      ],
      "text/plain": [
       "        ID CHECKING_BALANCE          CREDIT_HISTORY EXISTING_SAVINGS  \\\n",
       "0   291655          -566.53   ALL_CREDITS_PAID_BACK            36.42   \n",
       "1   657079         -1673.16    CREDITS_PAID_TO_DATE             22.9   \n",
       "2   256050      NO_CHECKING    CREDITS_PAID_TO_DATE           450.35   \n",
       "3  1039151         -1471.03  PRIOR_PAYMENTS_DELAYED           805.71   \n",
       "4  1002660      NO_CHECKING    CREDITS_PAID_TO_DATE           295.03   \n",
       "5  1096578      NO_CHECKING  PRIOR_PAYMENTS_DELAYED           421.96   \n",
       "6   544178           -121.7    CREDITS_PAID_TO_DATE            22.44   \n",
       "7   356107          -124.51   ALL_CREDITS_PAID_BACK            35.07   \n",
       "8    72646         -1911.77    CREDITS_PAID_TO_DATE            56.22   \n",
       "9  1136574      NO_CHECKING  PRIOR_PAYMENTS_DELAYED           383.57   \n",
       "\n",
       "   EXISTING_CREDITS_COUNT SEX   AGE  JOB_TYPE  DEPENDENTS  TELEPHONE  ...  \\\n",
       "0                     1.0   F  24.0       3.0         1.0        1.0  ...   \n",
       "1                     1.0   F  30.0       3.0         1.0        0.0  ...   \n",
       "2                     2.0   M  40.0       3.0         1.0        0.0  ...   \n",
       "3                     2.0   M  28.0       1.0         1.0        0.0  ...   \n",
       "4                     1.0   M  19.0       2.0         1.0        0.0  ...   \n",
       "5                     1.0   F  43.0       2.0         1.0        0.0  ...   \n",
       "6                     1.0   M  26.0       3.0         1.0        0.0  ...   \n",
       "7                     1.0   F  20.0       3.0         1.0        0.0  ...   \n",
       "8                     1.0   M  33.0       3.0         1.0        0.0  ...   \n",
       "9                     1.0   M  43.0       2.0         1.0        0.0  ...   \n",
       "\n",
       "            PROPERTY  HOUSING CURRENT_RESIDENCE_DURATION PAYMENT_TERM  \\\n",
       "0  SAVINGS_INSURANCE      OWN                        2.0        310.0   \n",
       "1          CAR_OTHER     RENT                        1.0        630.0   \n",
       "2            UNKNOWN      OWN                        4.0        868.0   \n",
       "3          CAR_OTHER      OWN                        3.0        403.0   \n",
       "4        REAL_ESTATE      OWN                        3.0        810.0   \n",
       "5          CAR_OTHER      OWN                        4.0        806.0   \n",
       "6  SAVINGS_INSURANCE     RENT                        3.0        480.0   \n",
       "7  SAVINGS_INSURANCE      OWN                        1.0        360.0   \n",
       "8  SAVINGS_INSURANCE      OWN                        1.0        300.0   \n",
       "9  SAVINGS_INSURANCE      OWN                        3.0        806.0   \n",
       "\n",
       "   INSTALLMENT_PLANS  INSTALLMENT_PERCENT LOAN_PURPOSE  LOAN_AMOUNT  \\\n",
       "0               NONE                  2.0      CAR_NEW       3503.0   \n",
       "1             STORES                  3.0      CAR_NEW       3729.0   \n",
       "2               NONE                  3.0     CAR_USED       8516.0   \n",
       "3               BANK                  3.0    FURNITURE       2577.0   \n",
       "4               NONE                  4.0     BUSINESS       3750.0   \n",
       "5               NONE                  3.0     RADIO_TV       5299.0   \n",
       "6               NONE                  2.0    FURNITURE        250.0   \n",
       "7             STORES                  1.0     CAR_USED        250.0   \n",
       "8             STORES                  2.0     CAR_USED        652.0   \n",
       "9               NONE                  4.0     CAR_USED       4274.0   \n",
       "\n",
       "  OTHERS_ON_LOAN  ALLOW  \n",
       "0           NONE      1  \n",
       "1           NONE      1  \n",
       "2           NONE      0  \n",
       "3           NONE      1  \n",
       "4           NONE      1  \n",
       "5           NONE      0  \n",
       "6           NONE      1  \n",
       "7           NONE      1  \n",
       "8           NONE      1  \n",
       "9           NONE      0  \n",
       "\n",
       "[10 rows x 22 columns]"
      ]
     },
     "execution_count": 272,
     "metadata": {},
     "output_type": "execute_result"
    }
   ],
   "source": [
    "# Realizando o merge dos dataframe\n",
    "df = account.merge(demo, how='inner', on='ID')\n",
    "df = df.merge(loans, how='inner', on='ID')\n",
    "df.head(10)"
   ]
  },
  {
   "cell_type": "code",
   "execution_count": 273,
   "id": "cbcc9177",
   "metadata": {
    "scrolled": true
   },
   "outputs": [
    {
     "data": {
      "text/plain": [
       "ID                              int64\n",
       "CHECKING_BALANCE               object\n",
       "CREDIT_HISTORY                 object\n",
       "EXISTING_SAVINGS               object\n",
       "EXISTING_CREDITS_COUNT        float64\n",
       "SEX                            object\n",
       "AGE                           float64\n",
       "JOB_TYPE                      float64\n",
       "DEPENDENTS                    float64\n",
       "TELEPHONE                     float64\n",
       "FOREIGN_WORKER                float64\n",
       "EMPLOYMENT_DURATION           float64\n",
       "PROPERTY                       object\n",
       "HOUSING                        object\n",
       "CURRENT_RESIDENCE_DURATION    float64\n",
       "PAYMENT_TERM                  float64\n",
       "INSTALLMENT_PLANS              object\n",
       "INSTALLMENT_PERCENT           float64\n",
       "LOAN_PURPOSE                   object\n",
       "LOAN_AMOUNT                   float64\n",
       "OTHERS_ON_LOAN                 object\n",
       "ALLOW                           int64\n",
       "dtype: object"
      ]
     },
     "execution_count": 273,
     "metadata": {},
     "output_type": "execute_result"
    }
   ],
   "source": [
    "df.dtypes"
   ]
  },
  {
   "cell_type": "code",
   "execution_count": 283,
   "id": "1a5262a6",
   "metadata": {},
   "outputs": [
    {
     "data": {
      "text/plain": [
       "ID                             object\n",
       "CHECKING_BALANCE              float64\n",
       "CREDIT_HISTORY                 object\n",
       "EXISTING_SAVINGS              float64\n",
       "EXISTING_CREDITS_COUNT        float64\n",
       "SEX                            object\n",
       "AGE                           float64\n",
       "JOB_TYPE                      float64\n",
       "DEPENDENTS                    float64\n",
       "TELEPHONE                     float64\n",
       "FOREIGN_WORKER                float64\n",
       "EMPLOYMENT_DURATION           float64\n",
       "PROPERTY                       object\n",
       "HOUSING                        object\n",
       "CURRENT_RESIDENCE_DURATION    float64\n",
       "PAYMENT_TERM                  float64\n",
       "INSTALLMENT_PLANS              object\n",
       "INSTALLMENT_PERCENT           float64\n",
       "LOAN_PURPOSE                   object\n",
       "LOAN_AMOUNT                   float64\n",
       "OTHERS_ON_LOAN                 object\n",
       "ALLOW                           int64\n",
       "dtype: object"
      ]
     },
     "execution_count": 283,
     "metadata": {},
     "output_type": "execute_result"
    }
   ],
   "source": [
    "df['ID'] = df['ID'].astype('object').dtypes\n",
    "df['CHECKING_BALANCE'].replace('NO_CHECKING', np.nan, inplace=True)\n",
    "df['EXISTING_SAVINGS'].replace('UNKNOWN', np.nan, inplace=True)\n",
    "\n",
    "df['CHECKING_BALANCE'] = df['CHECKING_BALANCE'].astype('float')\n",
    "df['EXISTING_SAVINGS'] = df['EXISTING_SAVINGS'].astype('float')\n",
    "df.dtypes"
   ]
  },
  {
   "cell_type": "code",
   "execution_count": 275,
   "id": "deb0abee",
   "metadata": {},
   "outputs": [
    {
     "data": {
      "image/png": "[encoded data removed]",
      "text/plain": [
       "<Figure size 720x288 with 1 Axes>"
      ]
     },
     "metadata": {},
     "output_type": "display_data"
    }
   ],
   "source": [
    "fig, ax = plt.subplots(figsize=(10,4))\n",
    "sns.countplot(x='ALLOW', data=df, ax=ax)\n",
    "plt.show()"
   ]
  },
  {
   "cell_type": "code",
   "execution_count": 17,
   "id": "9e50395a",
   "metadata": {},
   "outputs": [
    {
     "data": {
      "image/png": "[encoded data removed]",
      "text/plain": [
       "<Figure size 1008x360 with 1 Axes>"
      ]
     },
     "metadata": {},
     "output_type": "display_data"
    }
   ],
   "source": [
    "fig, ax = plt.subplots(figsize=(14,5))\n",
    "sns.countplot(x='CREDIT_HISTORY', data=df, ax=ax)\n",
    "plt.show()"
   ]
  },
  {
   "cell_type": "code",
   "execution_count": 18,
   "id": "1130c949",
   "metadata": {},
   "outputs": [
    {
     "data": {
      "image/png": "[encoded data removed]",
      "text/plain": [
       "<Figure size 1008x360 with 1 Axes>"
      ]
     },
     "metadata": {},
     "output_type": "display_data"
    }
   ],
   "source": [
    "fig, ax = plt.subplots(figsize=(14,5))\n",
    "sns.countplot(x='HOUSING', data=df, ax=ax)\n",
    "plt.show()"
   ]
  },
  {
   "cell_type": "code",
   "execution_count": 19,
   "id": "f866c65d",
   "metadata": {},
   "outputs": [
    {
     "data": {
      "image/png": "[encoded data removed]",
      "text/plain": [
       "<Figure size 1008x360 with 1 Axes>"
      ]
     },
     "metadata": {},
     "output_type": "display_data"
    }
   ],
   "source": [
    "fig, ax = plt.subplots(figsize=(14,5))\n",
    "sns.countplot(x='INSTALLMENT_PLANS', data=df, ax=ax)\n",
    "plt.show()"
   ]
  },
  {
   "cell_type": "code",
   "execution_count": 20,
   "id": "5c961718",
   "metadata": {},
   "outputs": [
    {
     "data": {
      "image/png": "[encoded data removed]",
      "text/plain": [
       "<Figure size 1008x360 with 1 Axes>"
      ]
     },
     "metadata": {},
     "output_type": "display_data"
    }
   ],
   "source": [
    "fig, ax = plt.subplots(figsize=(14,5))\n",
    "sns.countplot(x='LOAN_PURPOSE', data=df, ax=ax)\n",
    "plt.show()"
   ]
  },
  {
   "cell_type": "code",
   "execution_count": 21,
   "id": "61fa87b5",
   "metadata": {},
   "outputs": [
    {
     "data": {
      "image/png": "[encoded data removed]",
      "text/plain": [
       "<Figure size 720x360 with 1 Axes>"
      ]
     },
     "metadata": {},
     "output_type": "display_data"
    }
   ],
   "source": [
    "fig, ax = plt.subplots(figsize=(10,5))\n",
    "sns.boxplot(x='CHECKING_BALANCE', y='SEX', data=df, ax=ax, width=0.3)\n",
    "plt.show()"
   ]
  },
  {
   "cell_type": "code",
   "execution_count": 22,
   "id": "de6e3b45",
   "metadata": {},
   "outputs": [
    {
     "data": {
      "image/png": "[encoded data removed]",
      "text/plain": [
       "<Figure size 720x360 with 1 Axes>"
      ]
     },
     "metadata": {},
     "output_type": "display_data"
    }
   ],
   "source": [
    "fig, ax = plt.subplots(figsize=(10,5))\n",
    "sns.boxplot(x='EXISTING_SAVINGS', y='SEX', data=df, ax=ax, width=0.3)\n",
    "plt.show()"
   ]
  },
  {
   "cell_type": "code",
   "execution_count": 23,
   "id": "8229c690",
   "metadata": {},
   "outputs": [
    {
     "data": {
      "image/png": "[encoded data removed]",
      "text/plain": [
       "<Figure size 720x360 with 1 Axes>"
      ]
     },
     "metadata": {},
     "output_type": "display_data"
    }
   ],
   "source": [
    "fig, ax = plt.subplots(figsize=(10,5))\n",
    "sns.boxplot(x='EXISTING_SAVINGS', data=df, ax=ax, width=0.3)\n",
    "plt.show()"
   ]
  },
  {
   "cell_type": "code",
   "execution_count": 24,
   "id": "a6a8c863",
   "metadata": {},
   "outputs": [
    {
     "data": {
      "image/png": "[encoded data removed]",
      "text/plain": [
       "<Figure size 720x360 with 1 Axes>"
      ]
     },
     "metadata": {},
     "output_type": "display_data"
    }
   ],
   "source": [
    "fig, ax = plt.subplots(figsize=(10,5))\n",
    "sns.boxplot(x='CHECKING_BALANCE', data=df, ax=ax, width=0.3)\n",
    "plt.show()"
   ]
  },
  {
   "cell_type": "markdown",
   "id": "80e5854a",
   "metadata": {},
   "source": [
    "As colunas CHECKING_BALANCE e EXISTING_SAVINGS possuem valores desconhecidos que eu tratei como nulo, para descobrir qual a melhor estratégia, farei 4 dataframe diferentes, 1 deles eliminarei todos os dados nulos, no outro preencherei os dados nulos com o valor 0, eliminar a coluna e preencher a coluna com a média dos dados."
   ]
  },
  {
   "cell_type": "code",
   "execution_count": 25,
   "id": "e616d051",
   "metadata": {},
   "outputs": [],
   "source": [
    "df_dropna = df.copy()\n",
    "df_dropna = df.dropna()\n",
    "\n",
    "df_fill0 = df.copy()\n",
    "df_fill0 = df.fillna(0)\n",
    "\n",
    "df_fillMean = df.copy()\n",
    "df_fillMean['CHECKING_BALANCE'] = df_fillMean['CHECKING_BALANCE'].fillna(df_fillMean['CHECKING_BALANCE'].mean())\n",
    "df_fillMean['EXISTING_SAVINGS'] = df_fillMean['EXISTING_SAVINGS'].fillna(df_fillMean['EXISTING_SAVINGS'].mean())\n",
    "\n",
    "df_dropColumns = df.copy()\n",
    "df_dropColumns.drop(['CHECKING_BALANCE', 'EXISTING_SAVINGS'], axis=1, inplace=True)"
   ]
  },
  {
   "cell_type": "markdown",
   "id": "aaba3c1e",
   "metadata": {},
   "source": [
    "## 4 - Criando os primeiros modelos"
   ]
  },
  {
   "cell_type": "code",
   "execution_count": 340,
   "id": "8c32ba69",
   "metadata": {},
   "outputs": [],
   "source": [
    "categorical_columns = ['SEX', 'CREDIT_HISTORY', 'PROPERTY', 'HOUSING', \n",
    "                       'INSTALLMENT_PLANS', 'LOAN_PURPOSE', 'OTHERS_ON_LOAN']\n",
    "\n",
    "numeric_column = ['AGE', 'LOAN_AMOUNT', 'PAYMENT_TERM']\n",
    "\n",
    "columns_to_inpute = ['CHECKING_BALANCE', 'EXISTING_SAVINGS']\n",
    "\n",
    "target = ['ALLOW']"
   ]
  },
  {
   "cell_type": "code",
   "execution_count": 334,
   "id": "a8090e82",
   "metadata": {},
   "outputs": [],
   "source": [
    "X = df.drop(['ID', 'ALLOW'], axis=1)\n",
    "y = df[target].copy()\n",
    "\n",
    "X_dropna = df_dropna.drop(['ID', 'ALLOW'], axis=1)\n",
    "y_dropna = df_dropna[target].copy()\n",
    "\n",
    "X_fill0 = df_fill0.drop(['ID', 'ALLOW'], axis=1)\n",
    "y_fill0 = df_fill0[target].copy()\n",
    "\n",
    "X_fillMean = df_fillMean.drop(['ID', 'ALLOW'], axis=1)\n",
    "y_fillMean = df_fillMean[target].copy()\n",
    "\n",
    "X_dropColumns = df_dropColumns.drop(['ID', 'ALLOW'], axis=1)\n",
    "y_dropColumns = df_dropColumns[target].copy()"
   ]
  },
  {
   "cell_type": "code",
   "execution_count": 28,
   "id": "c7beb584",
   "metadata": {},
   "outputs": [
    {
     "data": {
      "text/plain": [
       "(1321, 31)"
      ]
     },
     "execution_count": 28,
     "metadata": {},
     "output_type": "execute_result"
    }
   ],
   "source": [
    "onehotencoder = OneHotEncoder(sparse=False, handle_unknown='ignore')\n",
    "onehotencoder.fit_transform(X_dropna[categorical_columns]).shape\n",
    "#onehotencoder.transform(X_dropna[categorical_columns])"
   ]
  },
  {
   "cell_type": "markdown",
   "id": "1845d98e",
   "metadata": {},
   "source": [
    "### 4.1 - Criando um modelo dummy"
   ]
  },
  {
   "cell_type": "markdown",
   "id": "911d31f4",
   "metadata": {},
   "source": [
    "#### 4.11 - Modelo dummy com estratégia most_frequent"
   ]
  },
  {
   "cell_type": "code",
   "execution_count": 29,
   "id": "ec9f9448",
   "metadata": {},
   "outputs": [
    {
     "name": "stdout",
     "output_type": "stream",
     "text": [
      "O score f1 do modelo dummy most frequent é 0.7748404740200546\n"
     ]
    }
   ],
   "source": [
    "X_train, X_test, y_train, y_test = train_test_split(X_fill0, y_fill0, test_size=0.3, random_state=42)\n",
    "\n",
    "clf_most_frequent = DummyClassifier(strategy='most_frequent')\n",
    "clf_most_frequent.fit(X_train, y_train)\n",
    "y_pred = clf_most_frequent.predict(X_test)\n",
    "score_most_frequent = f1_score(y_test, y_pred)\n",
    "print(f'O score f1 do modelo dummy most frequent é {score_most_frequent}')"
   ]
  },
  {
   "cell_type": "markdown",
   "id": "0b09d712",
   "metadata": {},
   "source": [
    "#### 4.12 - Modelo dummy com estratégia stratified"
   ]
  },
  {
   "cell_type": "code",
   "execution_count": 30,
   "id": "44fc4cb6",
   "metadata": {},
   "outputs": [
    {
     "name": "stdout",
     "output_type": "stream",
     "text": [
      "O score f1 do modelo dummy most frequent é 0.6492027334851935\n"
     ]
    }
   ],
   "source": [
    "clf_stratified = DummyClassifier(strategy='stratified')\n",
    "clf_stratified.fit(X_train, y_train)\n",
    "y_pred = clf_stratified.predict(X_test)\n",
    "score_stratified = f1_score(y_test, y_pred)\n",
    "print(f'O score f1 do modelo dummy most frequent é {score_stratified}')"
   ]
  },
  {
   "cell_type": "markdown",
   "id": "9cff4f60",
   "metadata": {},
   "source": [
    "### 4.2 - Avaliando qual a melhor estratégia"
   ]
  },
  {
   "cell_type": "code",
   "execution_count": 31,
   "id": "23e66454",
   "metadata": {},
   "outputs": [
    {
     "name": "stdout",
     "output_type": "stream",
     "text": [
      "O score f1 do modelo dummy most frequent é 0.8492307692307692\n"
     ]
    }
   ],
   "source": [
    "X_train, X_test, y_train, y_test = train_test_split(X_dropna, y_dropna, test_size=0.3, random_state=42)\n",
    "\n",
    "ct = ColumnTransformer([('categories', OneHotEncoder(sparse=False, handle_unknown='ignore'), categorical_columns)], \n",
    "                       remainder='passthrough')\n",
    "pipeline = Pipeline([('encoder', ct), ('clf', DecisionTreeClassifier())])\n",
    "pipeline.fit(X_train, y_train)\n",
    "y_pred = pipeline.predict(X_test)\n",
    "score_decisionTree = f1_score(y_test, y_pred)\n",
    "print(f'O score f1 do modelo dummy most frequent é {score_decisionTree}')"
   ]
  },
  {
   "cell_type": "code",
   "execution_count": 32,
   "id": "68bd780b",
   "metadata": {},
   "outputs": [
    {
     "name": "stdout",
     "output_type": "stream",
     "text": [
      "O score f1 do modelo dummy most frequent é 0.7782909930715936\n"
     ]
    }
   ],
   "source": [
    "X_train, X_test, y_train, y_test = train_test_split(X_fill0, y_fill0, test_size=0.3, random_state=42)\n",
    "\n",
    "ct = ColumnTransformer([('categories', OneHotEncoder(sparse=False, handle_unknown='ignore'), categorical_columns)], \n",
    "                       remainder='passthrough')\n",
    "pipeline = Pipeline([('encoder', ct), ('clf', DecisionTreeClassifier())])\n",
    "pipeline.fit(X_train, y_train)\n",
    "y_pred = pipeline.predict(X_test)\n",
    "score_decisionTree = f1_score(y_test, y_pred)\n",
    "print(f'O score f1 do modelo dummy most frequent é {score_decisionTree}')"
   ]
  },
  {
   "cell_type": "code",
   "execution_count": 33,
   "id": "81e19105",
   "metadata": {},
   "outputs": [
    {
     "name": "stdout",
     "output_type": "stream",
     "text": [
      "O score f1 do modelo dummy most frequent é 0.7522935779816514\n"
     ]
    }
   ],
   "source": [
    "X_train, X_test, y_train, y_test = train_test_split(X_fillMean, y_fillMean, test_size=0.3, random_state=42)\n",
    "\n",
    "ct = ColumnTransformer([('categories', OneHotEncoder(sparse=False, handle_unknown='ignore'), categorical_columns)], \n",
    "                       remainder='passthrough')\n",
    "pipeline = Pipeline([('encoder', ct), ('clf', DecisionTreeClassifier())])\n",
    "pipeline.fit(X_train, y_train)\n",
    "y_pred = pipeline.predict(X_test)\n",
    "score_decisionTree = f1_score(y_test, y_pred)\n",
    "print(f'O score f1 do modelo dummy most frequent é {score_decisionTree}')"
   ]
  },
  {
   "cell_type": "code",
   "execution_count": 34,
   "id": "b8aae750",
   "metadata": {},
   "outputs": [
    {
     "name": "stdout",
     "output_type": "stream",
     "text": [
      "O score f1 do modelo dummy most frequent é 0.7607223476297968\n"
     ]
    }
   ],
   "source": [
    "X_train, X_test, y_train, y_test = train_test_split(X_dropColumns, y_dropColumns, test_size=0.3, random_state=42)\n",
    "\n",
    "ct = ColumnTransformer([('categories', OneHotEncoder(sparse=False, handle_unknown='ignore'), categorical_columns)], \n",
    "                       remainder='passthrough')\n",
    "pipeline = Pipeline([('encoder', ct), ('clf', DecisionTreeClassifier())])\n",
    "pipeline.fit(X_train, y_train)\n",
    "y_pred = pipeline.predict(X_test)\n",
    "score_decisionTree = f1_score(y_test, y_pred)\n",
    "print(f'O score f1 do modelo dummy most frequent é {score_decisionTree}')"
   ]
  },
  {
   "cell_type": "markdown",
   "id": "cf2b8955",
   "metadata": {},
   "source": [
    "### 4.2 - Modelo GradientBoostingClassifier - Usando de parametro para ver qual estratégia é melhor"
   ]
  },
  {
   "cell_type": "code",
   "execution_count": 35,
   "id": "8c4363c4",
   "metadata": {},
   "outputs": [
    {
     "name": "stdout",
     "output_type": "stream",
     "text": [
      "O score f1 do modelo é 0.8833819241982508\n"
     ]
    }
   ],
   "source": [
    "X_train, X_test, y_train, y_test = train_test_split(X_dropna, y_dropna, test_size=0.3, random_state=42)\n",
    "\n",
    "ct = ColumnTransformer([('categories', OneHotEncoder(sparse=False, handle_unknown='ignore'), categorical_columns)], \n",
    "                       remainder='passthrough')\n",
    "pipeline = Pipeline([('encoder', ct), ('clf', GradientBoostingClassifier())])\n",
    "pipeline.fit(X_train, y_train.values.ravel())\n",
    "y_pred = pipeline.predict(X_test)\n",
    "score_decisionTree = f1_score(y_test, y_pred)\n",
    "print(f'O score f1 do modelo é {score_decisionTree}')"
   ]
  },
  {
   "cell_type": "code",
   "execution_count": 36,
   "id": "853af8bf",
   "metadata": {},
   "outputs": [
    {
     "name": "stdout",
     "output_type": "stream",
     "text": [
      "O score f1 do modelo é: 0.8275109170305677\n"
     ]
    }
   ],
   "source": [
    "X_train, X_test, y_train, y_test = train_test_split(X_fill0, y_fill0, test_size=0.3, random_state=42)\n",
    "\n",
    "ct = ColumnTransformer([('categories', OneHotEncoder(sparse=False, handle_unknown='ignore'), categorical_columns)], \n",
    "                       remainder='passthrough')\n",
    "pipeline = Pipeline([('encoder', ct), ('clf', GradientBoostingClassifier())])\n",
    "pipeline.fit(X_train, y_train.values.ravel())\n",
    "y_pred = pipeline.predict(X_test)\n",
    "score_decisionTree = f1_score(y_test, y_pred)\n",
    "print(f'O score f1 do modelo é: {score_decisionTree}')"
   ]
  },
  {
   "cell_type": "code",
   "execution_count": 37,
   "id": "f72f1e0b",
   "metadata": {},
   "outputs": [
    {
     "name": "stdout",
     "output_type": "stream",
     "text": [
      "O score f1 do modelo é: 0.8327868852459016\n"
     ]
    }
   ],
   "source": [
    "X_train, X_test, y_train, y_test = train_test_split(X_fillMean, y_fillMean, test_size=0.3, random_state=42)\n",
    "\n",
    "ct = ColumnTransformer([('categories', OneHotEncoder(sparse=False, handle_unknown='ignore'), categorical_columns)], \n",
    "                       remainder='passthrough')\n",
    "pipeline = Pipeline([('encoder', ct), ('clf', GradientBoostingClassifier())])\n",
    "pipeline.fit(X_train, y_train.values.ravel())\n",
    "y_pred = pipeline.predict(X_test)\n",
    "score_decisionTree = f1_score(y_test, y_pred)\n",
    "print(f'O score f1 do modelo é: {score_decisionTree}')"
   ]
  },
  {
   "cell_type": "code",
   "execution_count": 38,
   "id": "356aa5be",
   "metadata": {},
   "outputs": [
    {
     "name": "stdout",
     "output_type": "stream",
     "text": [
      "O score f1 do modelo é: 0.8295331161780674\n"
     ]
    }
   ],
   "source": [
    "X_train, X_test, y_train, y_test = train_test_split(X_dropColumns, y_dropColumns, test_size=0.3, random_state=42)\n",
    "\n",
    "ct = ColumnTransformer([('categories', OneHotEncoder(sparse=False, handle_unknown='ignore'), categorical_columns)], \n",
    "                       remainder='passthrough')\n",
    "pipeline = Pipeline([('encoder', ct), ('clf', GradientBoostingClassifier())])\n",
    "pipeline.fit(X_train, y_train.values.ravel())\n",
    "y_pred = pipeline.predict(X_test)\n",
    "score_decisionTree = f1_score(y_test, y_pred)\n",
    "print(f'O score f1 do modelo é: {score_decisionTree}')"
   ]
  },
  {
   "cell_type": "markdown",
   "id": "cba6be4f",
   "metadata": {},
   "source": [
    "Em ambos os modelos a melhor estratégia é **eliminando** as linhas com valores nulos, assim a partir de agora todos os modelos serão treinados utilizando essa estratégia."
   ]
  },
  {
   "cell_type": "code",
   "execution_count": 39,
   "id": "6d29c365",
   "metadata": {},
   "outputs": [],
   "source": [
    "def avaliando_modelos(modelo, X=X_dropna, y=y_dropna, X1=X_fill0, y1=y_fill0, X2=X_fillMean, y2=y_fillMean, \n",
    "                      X3=X_dropColumns, y3=y_dropColumns):\n",
    "    X_train, X_test, y_train, y_test = train_test_split(X, y, test_size=0.3, random_state=42)\n",
    "\n",
    "    ct = ColumnTransformer([('categories', OneHotEncoder(sparse=False, handle_unknown='ignore'), categorical_columns)], \n",
    "                           remainder='passthrough')\n",
    "    pipeline = Pipeline([('encoder', ct), ('clf', modelo)])\n",
    "    pipeline.fit(X_train, y_train.values.ravel())\n",
    "    y_pred = pipeline.predict(X_test)\n",
    "    score = f1_score(y_test, y_pred)\n",
    "    print(f'O score f1 do modelo com a estratégia dropna é: {score}')\n",
    "    \n",
    "    X_train, X_test, y_train, y_test = train_test_split(X1, y1, test_size=0.3, random_state=42)\n",
    "\n",
    "    pipeline = Pipeline([('encoder', ct), ('clf', modelo)])\n",
    "    pipeline.fit(X_train, y_train.values.ravel())\n",
    "    y_pred = pipeline.predict(X_test)\n",
    "    score = f1_score(y_test, y_pred)\n",
    "    print(f'O score f1 do modelo a estratégia fill0 é: {score}')\n",
    "    \n",
    "    X_train, X_test, y_train, y_test = train_test_split(X2, y2, test_size=0.3, random_state=42)\n",
    "\n",
    "    pipeline = Pipeline([('encoder', ct), ('clf', modelo)])\n",
    "    pipeline.fit(X_train, y_train.values.ravel())\n",
    "    y_pred = pipeline.predict(X_test)\n",
    "    score = f1_score(y_test, y_pred)\n",
    "    print(f'O score f1 do modelo a estratégia fillmean é: {score}')\n",
    "    \n",
    "    X_train, X_test, y_train, y_test = train_test_split(X3, y3, test_size=0.3, random_state=42)\n",
    "\n",
    "    pipeline = Pipeline([('encoder', ct), ('clf', modelo)])\n",
    "    pipeline.fit(X_train, y_train.values.ravel())\n",
    "    y_pred = pipeline.predict(X_test)\n",
    "    score = f1_score(y_test, y_pred)\n",
    "    print(f'O score f1 do modelo a estratégia dropcolumns é: {score}')"
   ]
  },
  {
   "cell_type": "markdown",
   "id": "c0857856",
   "metadata": {},
   "source": [
    "### 4.3 - Avaliando qual o melhor modelo"
   ]
  },
  {
   "cell_type": "markdown",
   "id": "e1f1ede9",
   "metadata": {},
   "source": [
    "#### 4.3.1 - DecisionTreeClassifier"
   ]
  },
  {
   "cell_type": "code",
   "execution_count": 40,
   "id": "ff947493",
   "metadata": {},
   "outputs": [
    {
     "name": "stdout",
     "output_type": "stream",
     "text": [
      "O score f1 do modelo com a estratégia dropna é: 0.8393135725429018\n",
      "O score f1 do modelo a estratégia fill0 é: 0.7630057803468209\n",
      "O score f1 do modelo a estratégia fillmean é: 0.7545871559633027\n",
      "O score f1 do modelo a estratégia dropcolumns é: 0.7603121516164996\n"
     ]
    }
   ],
   "source": [
    "avaliando_modelos(DecisionTreeClassifier())"
   ]
  },
  {
   "cell_type": "markdown",
   "id": "c11e7e4b",
   "metadata": {},
   "source": [
    "#### 4.3.2 - GradientBoostingClassifier"
   ]
  },
  {
   "cell_type": "code",
   "execution_count": 41,
   "id": "f470ba2d",
   "metadata": {},
   "outputs": [
    {
     "name": "stdout",
     "output_type": "stream",
     "text": [
      "O score f1 do modelo com a estratégia dropna é: 0.8833819241982508\n",
      "O score f1 do modelo a estratégia fill0 é: 0.826608505997819\n",
      "O score f1 do modelo a estratégia fillmean é: 0.8327868852459016\n",
      "O score f1 do modelo a estratégia dropcolumns é: 0.8295331161780674\n"
     ]
    }
   ],
   "source": [
    "avaliando_modelos(GradientBoostingClassifier())"
   ]
  },
  {
   "cell_type": "markdown",
   "id": "42c0376b",
   "metadata": {},
   "source": [
    "#### 4.3.3 - AdaBoostClassifier"
   ]
  },
  {
   "cell_type": "code",
   "execution_count": 42,
   "id": "297a470f",
   "metadata": {},
   "outputs": [
    {
     "name": "stdout",
     "output_type": "stream",
     "text": [
      "O score f1 do modelo com a estratégia dropna é: 0.8777614138438881\n",
      "O score f1 do modelo a estratégia fill0 é: 0.8248337028824834\n",
      "O score f1 do modelo a estratégia fillmean é: 0.8265193370165745\n",
      "O score f1 do modelo a estratégia dropcolumns é: 0.8235294117647058\n"
     ]
    }
   ],
   "source": [
    "avaliando_modelos(AdaBoostClassifier())"
   ]
  },
  {
   "cell_type": "markdown",
   "id": "6ae62270",
   "metadata": {},
   "source": [
    "#### 4.3.4 - ExtraTreesClassifier"
   ]
  },
  {
   "cell_type": "code",
   "execution_count": 43,
   "id": "9851c8b9",
   "metadata": {},
   "outputs": [
    {
     "name": "stdout",
     "output_type": "stream",
     "text": [
      "O score f1 do modelo com a estratégia dropna é: 0.8892086330935252\n",
      "O score f1 do modelo a estratégia fill0 é: 0.8379272326350606\n",
      "O score f1 do modelo a estratégia fillmean é: 0.8245810055865922\n",
      "O score f1 do modelo a estratégia dropcolumns é: 0.8357221609702316\n"
     ]
    }
   ],
   "source": [
    "avaliando_modelos(ExtraTreesClassifier())"
   ]
  },
  {
   "cell_type": "markdown",
   "id": "a4669b90",
   "metadata": {},
   "source": [
    "#### 4.3.5 - RandomForestClassifier"
   ]
  },
  {
   "cell_type": "code",
   "execution_count": 44,
   "id": "21725e89",
   "metadata": {},
   "outputs": [
    {
     "name": "stdout",
     "output_type": "stream",
     "text": [
      "O score f1 do modelo com a estratégia dropna é: 0.9015691868758916\n",
      "O score f1 do modelo a estratégia fill0 é: 0.8356909684439608\n",
      "O score f1 do modelo a estratégia fillmean é: 0.8415300546448088\n",
      "O score f1 do modelo a estratégia dropcolumns é: 0.8293216630196936\n"
     ]
    }
   ],
   "source": [
    "avaliando_modelos(RandomForestClassifier())"
   ]
  },
  {
   "cell_type": "markdown",
   "id": "f4995f4c",
   "metadata": {},
   "source": [
    "#### 4.3.6 - LogisticRegression"
   ]
  },
  {
   "cell_type": "code",
   "execution_count": 45,
   "id": "57495709",
   "metadata": {},
   "outputs": [
    {
     "name": "stdout",
     "output_type": "stream",
     "text": [
      "O score f1 do modelo com a estratégia dropna é: 0.9037900874635568\n",
      "O score f1 do modelo a estratégia fill0 é: 0.8298109010011124\n",
      "O score f1 do modelo a estratégia fillmean é: 0.8416389811738649\n",
      "O score f1 do modelo a estratégia dropcolumns é: 0.832035595105673\n"
     ]
    }
   ],
   "source": [
    "avaliando_modelos(LogisticRegression(max_iter=3000))"
   ]
  },
  {
   "cell_type": "markdown",
   "id": "05e3d352",
   "metadata": {},
   "source": [
    "### 4.4 - Avaliando os modelos com standardScaler"
   ]
  },
  {
   "cell_type": "code",
   "execution_count": 69,
   "id": "8d993b35",
   "metadata": {},
   "outputs": [],
   "source": [
    "def avaliando_modelos(modelo, X=X_dropna, y=y_dropna):\n",
    "    X_train, X_test, y_train, y_test = train_test_split(X, y, test_size=0.3, random_state=42)\n",
    "    \n",
    "    ct = ColumnTransformer([('categories', OneHotEncoder(sparse=False, handle_unknown='ignore'), categorical_columns)], \n",
    "                           remainder='passthrough')\n",
    "\n",
    "    pipeline = Pipeline([('encoder', ct), ('clf', modelo)])\n",
    "    pipeline.fit(X_train, y_train.values.ravel())\n",
    "    y_pred = pipeline.predict(X_test)\n",
    "    score = f1_score(y_test, y_pred)\n",
    "    print(f'O score f1 do modelo sem StandardScaler é : {score}')\n",
    "\n",
    "    ct = ColumnTransformer([('categories', OneHotEncoder(sparse=False, handle_unknown='ignore'), categorical_columns),\n",
    "                            ('scaler', StandardScaler(), numeric_column)], \n",
    "                           remainder='passthrough')\n",
    "    \n",
    "    X_train, X_test, y_train, y_test = train_test_split(X, y, test_size=0.3, random_state=42)\n",
    "\n",
    "    pipeline = Pipeline([('encoder', ct), ('clf', modelo)])\n",
    "    pipeline.fit(X_train, y_train.values.ravel())\n",
    "    y_pred = pipeline.predict(X_test)\n",
    "    score = f1_score(y_test, y_pred)\n",
    "    print(f'O score f1 do modelo com StandardScaler é: {score}')"
   ]
  },
  {
   "cell_type": "markdown",
   "id": "f8e4ea4a",
   "metadata": {},
   "source": [
    "#### 4.4.1 - DecisionTreeClassifier"
   ]
  },
  {
   "cell_type": "code",
   "execution_count": 70,
   "id": "f2c8c6c0",
   "metadata": {},
   "outputs": [
    {
     "name": "stdout",
     "output_type": "stream",
     "text": [
      "O score f1 do modelo sem StandardScaler é : 0.8460342146189735\n",
      "O score f1 do modelo com StandardScaler é: 0.8473520249221184\n"
     ]
    }
   ],
   "source": [
    "avaliando_modelos(DecisionTreeClassifier())"
   ]
  },
  {
   "cell_type": "markdown",
   "id": "efe985db",
   "metadata": {},
   "source": [
    "#### 4.4.2 - GradientBoostingClassifier"
   ]
  },
  {
   "cell_type": "code",
   "execution_count": 71,
   "id": "c3948f7e",
   "metadata": {},
   "outputs": [
    {
     "name": "stdout",
     "output_type": "stream",
     "text": [
      "O score f1 do modelo sem StandardScaler é : 0.8862973760932945\n",
      "O score f1 do modelo com StandardScaler é: 0.8850072780203785\n"
     ]
    }
   ],
   "source": [
    "avaliando_modelos(GradientBoostingClassifier())"
   ]
  },
  {
   "cell_type": "markdown",
   "id": "5590c5a4",
   "metadata": {},
   "source": [
    "#### 4.4.3 - AdaBoostClassifier"
   ]
  },
  {
   "cell_type": "code",
   "execution_count": 72,
   "id": "312169a4",
   "metadata": {},
   "outputs": [
    {
     "name": "stdout",
     "output_type": "stream",
     "text": [
      "O score f1 do modelo sem StandardScaler é : 0.8777614138438881\n",
      "O score f1 do modelo com StandardScaler é: 0.8777614138438881\n"
     ]
    }
   ],
   "source": [
    "avaliando_modelos(AdaBoostClassifier())"
   ]
  },
  {
   "cell_type": "markdown",
   "id": "8334ab2c",
   "metadata": {},
   "source": [
    "#### 4.4.4 - ExtraTreesClassifier"
   ]
  },
  {
   "cell_type": "code",
   "execution_count": 73,
   "id": "6463652e",
   "metadata": {},
   "outputs": [
    {
     "name": "stdout",
     "output_type": "stream",
     "text": [
      "O score f1 do modelo sem StandardScaler é : 0.8949640287769783\n",
      "O score f1 do modelo com StandardScaler é: 0.8904899135446684\n"
     ]
    }
   ],
   "source": [
    "avaliando_modelos(ExtraTreesClassifier())"
   ]
  },
  {
   "cell_type": "markdown",
   "id": "4dd27c09",
   "metadata": {},
   "source": [
    "#### 4.4.5 - RandomForestClassifier"
   ]
  },
  {
   "cell_type": "code",
   "execution_count": 74,
   "id": "ad1e78d1",
   "metadata": {},
   "outputs": [
    {
     "name": "stdout",
     "output_type": "stream",
     "text": [
      "O score f1 do modelo sem StandardScaler é : 0.9\n",
      "O score f1 do modelo com StandardScaler é: 0.8971428571428571\n"
     ]
    }
   ],
   "source": [
    "avaliando_modelos(RandomForestClassifier())"
   ]
  },
  {
   "cell_type": "markdown",
   "id": "e78b9390",
   "metadata": {},
   "source": [
    "#### 4.4.6 - LogisticRegression"
   ]
  },
  {
   "cell_type": "code",
   "execution_count": 75,
   "id": "bd8facab",
   "metadata": {},
   "outputs": [
    {
     "name": "stdout",
     "output_type": "stream",
     "text": [
      "O score f1 do modelo sem StandardScaler é : 0.9037900874635568\n",
      "O score f1 do modelo com StandardScaler é: 0.9024745269286754\n"
     ]
    }
   ],
   "source": [
    "avaliando_modelos(LogisticRegression(max_iter=3000))"
   ]
  },
  {
   "cell_type": "code",
   "execution_count": 129,
   "id": "593ff1e7",
   "metadata": {},
   "outputs": [
    {
     "name": "stdout",
     "output_type": "stream",
     "text": [
      "O score f1 do modelo sem StandardScaler é : 0.9020172910662824\n"
     ]
    }
   ],
   "source": [
    "X_train, X_test, y_train, y_test = train_test_split(X_dropna, y_dropna, test_size=0.3, random_state=42)\n",
    "    \n",
    "ct = ColumnTransformer([('categories', OneHotEncoder(sparse=False, handle_unknown='ignore'), categorical_columns)], \n",
    "                       remainder='passthrough')\n",
    "\n",
    "pipeline = Pipeline([('encoder', ct), \n",
    "                     ('selectFeatures', SelectKBest(score_func=f_classif,k=8)),\n",
    "                     ('clf', LogisticRegression(max_iter=3000))])\n",
    "\n",
    "pipeline.fit(X_train, y_train.values.ravel())\n",
    "y_pred = pipeline.predict(X_test)\n",
    "score = f1_score(y_test, y_pred)\n",
    "print(f'O score f1 do modelo sem StandardScaler é : {score}')"
   ]
  },
  {
   "cell_type": "code",
   "execution_count": null,
   "id": "2900be22",
   "metadata": {},
   "outputs": [],
   "source": []
  },
  {
   "cell_type": "markdown",
   "id": "7634e882",
   "metadata": {},
   "source": [
    "### 4.5 - Tunando os hiper parametros"
   ]
  },
  {
   "cell_type": "code",
   "execution_count": 279,
   "id": "33ad4352",
   "metadata": {},
   "outputs": [
    {
     "data": {
      "text/html": [
       "<div>\n",
       "<style scoped>\n",
       "    .dataframe tbody tr th:only-of-type {\n",
       "        vertical-align: middle;\n",
       "    }\n",
       "\n",
       "    .dataframe tbody tr th {\n",
       "        vertical-align: top;\n",
       "    }\n",
       "\n",
       "    .dataframe thead th {\n",
       "        text-align: right;\n",
       "    }\n",
       "</style>\n",
       "<table border=\"1\" class=\"dataframe\">\n",
       "  <thead>\n",
       "    <tr style=\"text-align: right;\">\n",
       "      <th></th>\n",
       "      <th>ID</th>\n",
       "      <th>CHECKING_BALANCE</th>\n",
       "      <th>CREDIT_HISTORY</th>\n",
       "      <th>EXISTING_SAVINGS</th>\n",
       "      <th>EXISTING_CREDITS_COUNT</th>\n",
       "      <th>SEX</th>\n",
       "      <th>AGE</th>\n",
       "      <th>JOB_TYPE</th>\n",
       "      <th>DEPENDENTS</th>\n",
       "      <th>TELEPHONE</th>\n",
       "      <th>...</th>\n",
       "      <th>PROPERTY</th>\n",
       "      <th>HOUSING</th>\n",
       "      <th>CURRENT_RESIDENCE_DURATION</th>\n",
       "      <th>PAYMENT_TERM</th>\n",
       "      <th>INSTALLMENT_PLANS</th>\n",
       "      <th>INSTALLMENT_PERCENT</th>\n",
       "      <th>LOAN_PURPOSE</th>\n",
       "      <th>LOAN_AMOUNT</th>\n",
       "      <th>OTHERS_ON_LOAN</th>\n",
       "      <th>ALLOW</th>\n",
       "    </tr>\n",
       "  </thead>\n",
       "  <tbody>\n",
       "    <tr>\n",
       "      <th>0</th>\n",
       "      <td>object</td>\n",
       "      <td>-566.53</td>\n",
       "      <td>ALL_CREDITS_PAID_BACK</td>\n",
       "      <td>36.42</td>\n",
       "      <td>1.0</td>\n",
       "      <td>F</td>\n",
       "      <td>24.0</td>\n",
       "      <td>3.0</td>\n",
       "      <td>1.0</td>\n",
       "      <td>1.0</td>\n",
       "      <td>...</td>\n",
       "      <td>SAVINGS_INSURANCE</td>\n",
       "      <td>OWN</td>\n",
       "      <td>2.0</td>\n",
       "      <td>310.0</td>\n",
       "      <td>NONE</td>\n",
       "      <td>2.0</td>\n",
       "      <td>CAR_NEW</td>\n",
       "      <td>3503.0</td>\n",
       "      <td>NONE</td>\n",
       "      <td>1</td>\n",
       "    </tr>\n",
       "    <tr>\n",
       "      <th>1</th>\n",
       "      <td>object</td>\n",
       "      <td>-1673.16</td>\n",
       "      <td>CREDITS_PAID_TO_DATE</td>\n",
       "      <td>22.90</td>\n",
       "      <td>1.0</td>\n",
       "      <td>F</td>\n",
       "      <td>30.0</td>\n",
       "      <td>3.0</td>\n",
       "      <td>1.0</td>\n",
       "      <td>0.0</td>\n",
       "      <td>...</td>\n",
       "      <td>CAR_OTHER</td>\n",
       "      <td>RENT</td>\n",
       "      <td>1.0</td>\n",
       "      <td>630.0</td>\n",
       "      <td>STORES</td>\n",
       "      <td>3.0</td>\n",
       "      <td>CAR_NEW</td>\n",
       "      <td>3729.0</td>\n",
       "      <td>NONE</td>\n",
       "      <td>1</td>\n",
       "    </tr>\n",
       "    <tr>\n",
       "      <th>2</th>\n",
       "      <td>object</td>\n",
       "      <td>NaN</td>\n",
       "      <td>CREDITS_PAID_TO_DATE</td>\n",
       "      <td>450.35</td>\n",
       "      <td>2.0</td>\n",
       "      <td>M</td>\n",
       "      <td>40.0</td>\n",
       "      <td>3.0</td>\n",
       "      <td>1.0</td>\n",
       "      <td>0.0</td>\n",
       "      <td>...</td>\n",
       "      <td>UNKNOWN</td>\n",
       "      <td>OWN</td>\n",
       "      <td>4.0</td>\n",
       "      <td>868.0</td>\n",
       "      <td>NONE</td>\n",
       "      <td>3.0</td>\n",
       "      <td>CAR_USED</td>\n",
       "      <td>8516.0</td>\n",
       "      <td>NONE</td>\n",
       "      <td>0</td>\n",
       "    </tr>\n",
       "    <tr>\n",
       "      <th>3</th>\n",
       "      <td>object</td>\n",
       "      <td>-1471.03</td>\n",
       "      <td>PRIOR_PAYMENTS_DELAYED</td>\n",
       "      <td>805.71</td>\n",
       "      <td>2.0</td>\n",
       "      <td>M</td>\n",
       "      <td>28.0</td>\n",
       "      <td>1.0</td>\n",
       "      <td>1.0</td>\n",
       "      <td>0.0</td>\n",
       "      <td>...</td>\n",
       "      <td>CAR_OTHER</td>\n",
       "      <td>OWN</td>\n",
       "      <td>3.0</td>\n",
       "      <td>403.0</td>\n",
       "      <td>BANK</td>\n",
       "      <td>3.0</td>\n",
       "      <td>FURNITURE</td>\n",
       "      <td>2577.0</td>\n",
       "      <td>NONE</td>\n",
       "      <td>1</td>\n",
       "    </tr>\n",
       "    <tr>\n",
       "      <th>4</th>\n",
       "      <td>object</td>\n",
       "      <td>NaN</td>\n",
       "      <td>CREDITS_PAID_TO_DATE</td>\n",
       "      <td>295.03</td>\n",
       "      <td>1.0</td>\n",
       "      <td>M</td>\n",
       "      <td>19.0</td>\n",
       "      <td>2.0</td>\n",
       "      <td>1.0</td>\n",
       "      <td>0.0</td>\n",
       "      <td>...</td>\n",
       "      <td>REAL_ESTATE</td>\n",
       "      <td>OWN</td>\n",
       "      <td>3.0</td>\n",
       "      <td>810.0</td>\n",
       "      <td>NONE</td>\n",
       "      <td>4.0</td>\n",
       "      <td>BUSINESS</td>\n",
       "      <td>3750.0</td>\n",
       "      <td>NONE</td>\n",
       "      <td>1</td>\n",
       "    </tr>\n",
       "  </tbody>\n",
       "</table>\n",
       "<p>5 rows × 22 columns</p>\n",
       "</div>"
      ],
      "text/plain": [
       "       ID  CHECKING_BALANCE          CREDIT_HISTORY  EXISTING_SAVINGS  \\\n",
       "0  object           -566.53   ALL_CREDITS_PAID_BACK             36.42   \n",
       "1  object          -1673.16    CREDITS_PAID_TO_DATE             22.90   \n",
       "2  object               NaN    CREDITS_PAID_TO_DATE            450.35   \n",
       "3  object          -1471.03  PRIOR_PAYMENTS_DELAYED            805.71   \n",
       "4  object               NaN    CREDITS_PAID_TO_DATE            295.03   \n",
       "\n",
       "   EXISTING_CREDITS_COUNT SEX   AGE  JOB_TYPE  DEPENDENTS  TELEPHONE  ...  \\\n",
       "0                     1.0   F  24.0       3.0         1.0        1.0  ...   \n",
       "1                     1.0   F  30.0       3.0         1.0        0.0  ...   \n",
       "2                     2.0   M  40.0       3.0         1.0        0.0  ...   \n",
       "3                     2.0   M  28.0       1.0         1.0        0.0  ...   \n",
       "4                     1.0   M  19.0       2.0         1.0        0.0  ...   \n",
       "\n",
       "            PROPERTY  HOUSING CURRENT_RESIDENCE_DURATION PAYMENT_TERM  \\\n",
       "0  SAVINGS_INSURANCE      OWN                        2.0        310.0   \n",
       "1          CAR_OTHER     RENT                        1.0        630.0   \n",
       "2            UNKNOWN      OWN                        4.0        868.0   \n",
       "3          CAR_OTHER      OWN                        3.0        403.0   \n",
       "4        REAL_ESTATE      OWN                        3.0        810.0   \n",
       "\n",
       "   INSTALLMENT_PLANS  INSTALLMENT_PERCENT LOAN_PURPOSE  LOAN_AMOUNT  \\\n",
       "0               NONE                  2.0      CAR_NEW       3503.0   \n",
       "1             STORES                  3.0      CAR_NEW       3729.0   \n",
       "2               NONE                  3.0     CAR_USED       8516.0   \n",
       "3               BANK                  3.0    FURNITURE       2577.0   \n",
       "4               NONE                  4.0     BUSINESS       3750.0   \n",
       "\n",
       "  OTHERS_ON_LOAN  ALLOW  \n",
       "0           NONE      1  \n",
       "1           NONE      1  \n",
       "2           NONE      0  \n",
       "3           NONE      1  \n",
       "4           NONE      1  \n",
       "\n",
       "[5 rows x 22 columns]"
      ]
     },
     "execution_count": 279,
     "metadata": {},
     "output_type": "execute_result"
    }
   ],
   "source": [
    "df.head()"
   ]
  },
  {
   "cell_type": "code",
   "execution_count": 303,
   "id": "a2b87d18",
   "metadata": {},
   "outputs": [
    {
     "name": "stdout",
     "output_type": "stream",
     "text": [
      "O score f1 do modelo com StandardScaler é: 0.9037900874635568\n"
     ]
    }
   ],
   "source": [
    "ct = ColumnTransformer([('categories', OneHotEncoder(sparse=False, handle_unknown='ignore'), categorical_columns),\n",
    "                        ('impute', SimpleImputer(), columns_to_inpute),\n",
    "                        ('scaler', StandardScaler(), numeric_column)], \n",
    "                       remainder='passthrough')\n",
    "\n",
    "X_train, X_test, y_train, y_test = train_test_split(X, y, test_size=0.3, random_state=42)\n",
    "\n",
    "pipeline = Pipeline([('encoder', ct), ('clf', LogisticRegression(max_iter=3000))])\n",
    "pipeline.fit(X_train, y_train.values.ravel())\n",
    "y_pred = pipeline.predict(X_test)\n",
    "score = f1_score(y_test, y_pred)\n",
    "print(f'O score f1 do modelo com StandardScaler é: {score}')"
   ]
  },
  {
   "cell_type": "code",
   "execution_count": 304,
   "id": "c46f382e",
   "metadata": {
    "scrolled": true
   },
   "outputs": [
    {
     "data": {
      "text/html": [
       "<style>#sk-1edc8906-6974-4112-ad85-3f96436f55ed {color: black;background-color: white;}#sk-1edc8906-6974-4112-ad85-3f96436f55ed pre{padding: 0;}#sk-1edc8906-6974-4112-ad85-3f96436f55ed div.sk-toggleable {background-color: white;}#sk-1edc8906-6974-4112-ad85-3f96436f55ed label.sk-toggleable__label {cursor: pointer;display: block;width: 100%;margin-bottom: 0;padding: 0.3em;box-sizing: border-box;text-align: center;}#sk-1edc8906-6974-4112-ad85-3f96436f55ed div.sk-toggleable__content {max-height: 0;max-width: 0;overflow: hidden;text-align: left;background-color: #f0f8ff;}#sk-1edc8906-6974-4112-ad85-3f96436f55ed div.sk-toggleable__content pre {margin: 0.2em;color: black;border-radius: 0.25em;background-color: #f0f8ff;}#sk-1edc8906-6974-4112-ad85-3f96436f55ed input.sk-toggleable__control:checked~div.sk-toggleable__content {max-height: 200px;max-width: 100%;overflow: auto;}#sk-1edc8906-6974-4112-ad85-3f96436f55ed div.sk-estimator input.sk-toggleable__control:checked~label.sk-toggleable__label {background-color: #d4ebff;}#sk-1edc8906-6974-4112-ad85-3f96436f55ed div.sk-label input.sk-toggleable__control:checked~label.sk-toggleable__label {background-color: #d4ebff;}#sk-1edc8906-6974-4112-ad85-3f96436f55ed input.sk-hidden--visually {border: 0;clip: rect(1px 1px 1px 1px);clip: rect(1px, 1px, 1px, 1px);height: 1px;margin: -1px;overflow: hidden;padding: 0;position: absolute;width: 1px;}#sk-1edc8906-6974-4112-ad85-3f96436f55ed div.sk-estimator {font-family: monospace;background-color: #f0f8ff;border: 1px dotted black;border-radius: 0.25em;box-sizing: border-box;margin-bottom: 0.5em;}#sk-1edc8906-6974-4112-ad85-3f96436f55ed div.sk-estimator:hover {background-color: #d4ebff;}#sk-1edc8906-6974-4112-ad85-3f96436f55ed div.sk-parallel-item::after {content: \"\";width: 100%;border-bottom: 1px solid gray;flex-grow: 1;}#sk-1edc8906-6974-4112-ad85-3f96436f55ed div.sk-label:hover label.sk-toggleable__label {background-color: #d4ebff;}#sk-1edc8906-6974-4112-ad85-3f96436f55ed div.sk-serial::before {content: \"\";position: absolute;border-left: 1px solid gray;box-sizing: border-box;top: 2em;bottom: 0;left: 50%;}#sk-1edc8906-6974-4112-ad85-3f96436f55ed div.sk-serial {display: flex;flex-direction: column;align-items: center;background-color: white;padding-right: 0.2em;padding-left: 0.2em;}#sk-1edc8906-6974-4112-ad85-3f96436f55ed div.sk-item {z-index: 1;}#sk-1edc8906-6974-4112-ad85-3f96436f55ed div.sk-parallel {display: flex;align-items: stretch;justify-content: center;background-color: white;}#sk-1edc8906-6974-4112-ad85-3f96436f55ed div.sk-parallel::before {content: \"\";position: absolute;border-left: 1px solid gray;box-sizing: border-box;top: 2em;bottom: 0;left: 50%;}#sk-1edc8906-6974-4112-ad85-3f96436f55ed div.sk-parallel-item {display: flex;flex-direction: column;position: relative;background-color: white;}#sk-1edc8906-6974-4112-ad85-3f96436f55ed div.sk-parallel-item:first-child::after {align-self: flex-end;width: 50%;}#sk-1edc8906-6974-4112-ad85-3f96436f55ed div.sk-parallel-item:last-child::after {align-self: flex-start;width: 50%;}#sk-1edc8906-6974-4112-ad85-3f96436f55ed div.sk-parallel-item:only-child::after {width: 0;}#sk-1edc8906-6974-4112-ad85-3f96436f55ed div.sk-dashed-wrapped {border: 1px dashed gray;margin: 0 0.4em 0.5em 0.4em;box-sizing: border-box;padding-bottom: 0.4em;background-color: white;position: relative;}#sk-1edc8906-6974-4112-ad85-3f96436f55ed div.sk-label label {font-family: monospace;font-weight: bold;background-color: white;display: inline-block;line-height: 1.2em;}#sk-1edc8906-6974-4112-ad85-3f96436f55ed div.sk-label-container {position: relative;z-index: 2;text-align: center;}#sk-1edc8906-6974-4112-ad85-3f96436f55ed div.sk-container {display: inline-block;position: relative;}</style><div id=\"sk-1edc8906-6974-4112-ad85-3f96436f55ed\" class\"sk-top-container\"><div class=\"sk-container\"><div class=\"sk-item sk-dashed-wrapped\"><div class=\"sk-label-container\"><div class=\"sk-label sk-toggleable\"><input class=\"sk-toggleable__control sk-hidden--visually\" id=\"2399cc8a-8a54-4f62-8ff6-cd31805078e8\" type=\"checkbox\" ><label class=\"sk-toggleable__label\" for=\"2399cc8a-8a54-4f62-8ff6-cd31805078e8\">Pipeline</label><div class=\"sk-toggleable__content\"><pre>Pipeline(steps=[('encoder',\n",
       "                 ColumnTransformer(remainder='passthrough',\n",
       "                                   transformers=[('categories',\n",
       "                                                  OneHotEncoder(handle_unknown='ignore',\n",
       "                                                                sparse=False),\n",
       "                                                  ['SEX', 'CREDIT_HISTORY',\n",
       "                                                   'PROPERTY', 'HOUSING',\n",
       "                                                   'INSTALLMENT_PLANS',\n",
       "                                                   'LOAN_PURPOSE',\n",
       "                                                   'OTHERS_ON_LOAN']),\n",
       "                                                 ('impute', SimpleImputer(),\n",
       "                                                  ['CHECKING_BALANCE',\n",
       "                                                   'EXISTING_SAVINGS']),\n",
       "                                                 ('scaler', StandardScaler(),\n",
       "                                                  ['CHECKING_BALANCE',\n",
       "                                                   'EXISTING_SAVINGS', 'AGE',\n",
       "                                                   'LOAN_AMOUNT',\n",
       "                                                   'PAYMENT_TERM'])])),\n",
       "                ('clf', LogisticRegression(max_iter=3000))])</pre></div></div></div><div class=\"sk-serial\"><div class=\"sk-item sk-dashed-wrapped\"><div class=\"sk-label-container\"><div class=\"sk-label sk-toggleable\"><input class=\"sk-toggleable__control sk-hidden--visually\" id=\"783581fb-eb35-49cf-9a57-4aa08fcdcd7b\" type=\"checkbox\" ><label class=\"sk-toggleable__label\" for=\"783581fb-eb35-49cf-9a57-4aa08fcdcd7b\">encoder: ColumnTransformer</label><div class=\"sk-toggleable__content\"><pre>ColumnTransformer(remainder='passthrough',\n",
       "                  transformers=[('categories',\n",
       "                                 OneHotEncoder(handle_unknown='ignore',\n",
       "                                               sparse=False),\n",
       "                                 ['SEX', 'CREDIT_HISTORY', 'PROPERTY',\n",
       "                                  'HOUSING', 'INSTALLMENT_PLANS',\n",
       "                                  'LOAN_PURPOSE', 'OTHERS_ON_LOAN']),\n",
       "                                ('impute', SimpleImputer(),\n",
       "                                 ['CHECKING_BALANCE', 'EXISTING_SAVINGS']),\n",
       "                                ('scaler', StandardScaler(),\n",
       "                                 ['CHECKING_BALANCE', 'EXISTING_SAVINGS', 'AGE',\n",
       "                                  'LOAN_AMOUNT', 'PAYMENT_TERM'])])</pre></div></div></div><div class=\"sk-parallel\"><div class=\"sk-parallel-item\"><div class=\"sk-item\"><div class=\"sk-label-container\"><div class=\"sk-label sk-toggleable\"><input class=\"sk-toggleable__control sk-hidden--visually\" id=\"f08bccc9-535b-49e0-adfa-06c71a20e248\" type=\"checkbox\" ><label class=\"sk-toggleable__label\" for=\"f08bccc9-535b-49e0-adfa-06c71a20e248\">categories</label><div class=\"sk-toggleable__content\"><pre>['SEX', 'CREDIT_HISTORY', 'PROPERTY', 'HOUSING', 'INSTALLMENT_PLANS', 'LOAN_PURPOSE', 'OTHERS_ON_LOAN']</pre></div></div></div><div class=\"sk-serial\"><div class=\"sk-item\"><div class=\"sk-estimator sk-toggleable\"><input class=\"sk-toggleable__control sk-hidden--visually\" id=\"35ac6034-c252-44ef-b68b-e671efdc1516\" type=\"checkbox\" ><label class=\"sk-toggleable__label\" for=\"35ac6034-c252-44ef-b68b-e671efdc1516\">OneHotEncoder</label><div class=\"sk-toggleable__content\"><pre>OneHotEncoder(handle_unknown='ignore', sparse=False)</pre></div></div></div></div></div></div><div class=\"sk-parallel-item\"><div class=\"sk-item\"><div class=\"sk-label-container\"><div class=\"sk-label sk-toggleable\"><input class=\"sk-toggleable__control sk-hidden--visually\" id=\"7d15b961-c3ca-40a6-835e-dd411bb9c5a7\" type=\"checkbox\" ><label class=\"sk-toggleable__label\" for=\"7d15b961-c3ca-40a6-835e-dd411bb9c5a7\">impute</label><div class=\"sk-toggleable__content\"><pre>['CHECKING_BALANCE', 'EXISTING_SAVINGS']</pre></div></div></div><div class=\"sk-serial\"><div class=\"sk-item\"><div class=\"sk-estimator sk-toggleable\"><input class=\"sk-toggleable__control sk-hidden--visually\" id=\"1bb08833-3ae0-453e-9288-b5d4ec7ea9d4\" type=\"checkbox\" ><label class=\"sk-toggleable__label\" for=\"1bb08833-3ae0-453e-9288-b5d4ec7ea9d4\">SimpleImputer</label><div class=\"sk-toggleable__content\"><pre>SimpleImputer()</pre></div></div></div></div></div></div><div class=\"sk-parallel-item\"><div class=\"sk-item\"><div class=\"sk-label-container\"><div class=\"sk-label sk-toggleable\"><input class=\"sk-toggleable__control sk-hidden--visually\" id=\"4fef0735-8e52-4936-9cae-55852c005b53\" type=\"checkbox\" ><label class=\"sk-toggleable__label\" for=\"4fef0735-8e52-4936-9cae-55852c005b53\">scaler</label><div class=\"sk-toggleable__content\"><pre>['CHECKING_BALANCE', 'EXISTING_SAVINGS', 'AGE', 'LOAN_AMOUNT', 'PAYMENT_TERM']</pre></div></div></div><div class=\"sk-serial\"><div class=\"sk-item\"><div class=\"sk-estimator sk-toggleable\"><input class=\"sk-toggleable__control sk-hidden--visually\" id=\"52ba29fe-7ccb-4f74-8844-48c6c8d610ad\" type=\"checkbox\" ><label class=\"sk-toggleable__label\" for=\"52ba29fe-7ccb-4f74-8844-48c6c8d610ad\">StandardScaler</label><div class=\"sk-toggleable__content\"><pre>StandardScaler()</pre></div></div></div></div></div></div><div class=\"sk-parallel-item\"><div class=\"sk-item\"><div class=\"sk-label-container\"><div class=\"sk-label sk-toggleable\"><input class=\"sk-toggleable__control sk-hidden--visually\" id=\"8a9f6b27-e016-49dd-bbb4-c81e19236547\" type=\"checkbox\" ><label class=\"sk-toggleable__label\" for=\"8a9f6b27-e016-49dd-bbb4-c81e19236547\">remainder</label><div class=\"sk-toggleable__content\"><pre>['EXISTING_CREDITS_COUNT', 'JOB_TYPE', 'DEPENDENTS', 'TELEPHONE', 'FOREIGN_WORKER', 'EMPLOYMENT_DURATION', 'CURRENT_RESIDENCE_DURATION', 'INSTALLMENT_PERCENT']</pre></div></div></div><div class=\"sk-serial\"><div class=\"sk-item\"><div class=\"sk-estimator sk-toggleable\"><input class=\"sk-toggleable__control sk-hidden--visually\" id=\"79dd7f7c-16e8-470b-b965-7fadc63d9b6c\" type=\"checkbox\" ><label class=\"sk-toggleable__label\" for=\"79dd7f7c-16e8-470b-b965-7fadc63d9b6c\">passthrough</label><div class=\"sk-toggleable__content\"><pre>passthrough</pre></div></div></div></div></div></div></div></div><div class=\"sk-item\"><div class=\"sk-estimator sk-toggleable\"><input class=\"sk-toggleable__control sk-hidden--visually\" id=\"04cca54e-5b73-4bba-9fe9-d000f896cc0c\" type=\"checkbox\" ><label class=\"sk-toggleable__label\" for=\"04cca54e-5b73-4bba-9fe9-d000f896cc0c\">LogisticRegression</label><div class=\"sk-toggleable__content\"><pre>LogisticRegression(max_iter=3000)</pre></div></div></div></div></div></div></div>"
      ],
      "text/plain": [
       "Pipeline(steps=[('encoder',\n",
       "                 ColumnTransformer(remainder='passthrough',\n",
       "                                   transformers=[('categories',\n",
       "                                                  OneHotEncoder(handle_unknown='ignore',\n",
       "                                                                sparse=False),\n",
       "                                                  ['SEX', 'CREDIT_HISTORY',\n",
       "                                                   'PROPERTY', 'HOUSING',\n",
       "                                                   'INSTALLMENT_PLANS',\n",
       "                                                   'LOAN_PURPOSE',\n",
       "                                                   'OTHERS_ON_LOAN']),\n",
       "                                                 ('impute', SimpleImputer(),\n",
       "                                                  ['CHECKING_BALANCE',\n",
       "                                                   'EXISTING_SAVINGS']),\n",
       "                                                 ('scaler', StandardScaler(),\n",
       "                                                  ['CHECKING_BALANCE',\n",
       "                                                   'EXISTING_SAVINGS', 'AGE',\n",
       "                                                   'LOAN_AMOUNT',\n",
       "                                                   'PAYMENT_TERM'])])),\n",
       "                ('clf', LogisticRegression(max_iter=3000))])"
      ]
     },
     "execution_count": 304,
     "metadata": {},
     "output_type": "execute_result"
    }
   ],
   "source": [
    "pipeline"
   ]
  },
  {
   "cell_type": "code",
   "execution_count": 333,
   "id": "3af328f7",
   "metadata": {},
   "outputs": [
    {
     "data": {
      "text/html": [
       "<div>\n",
       "<style scoped>\n",
       "    .dataframe tbody tr th:only-of-type {\n",
       "        vertical-align: middle;\n",
       "    }\n",
       "\n",
       "    .dataframe tbody tr th {\n",
       "        vertical-align: top;\n",
       "    }\n",
       "\n",
       "    .dataframe thead th {\n",
       "        text-align: right;\n",
       "    }\n",
       "</style>\n",
       "<table border=\"1\" class=\"dataframe\">\n",
       "  <thead>\n",
       "    <tr style=\"text-align: right;\">\n",
       "      <th></th>\n",
       "      <th>ID</th>\n",
       "      <th>CHECKING_BALANCE</th>\n",
       "      <th>CREDIT_HISTORY</th>\n",
       "      <th>EXISTING_SAVINGS</th>\n",
       "      <th>EXISTING_CREDITS_COUNT</th>\n",
       "      <th>SEX</th>\n",
       "      <th>AGE</th>\n",
       "      <th>JOB_TYPE</th>\n",
       "      <th>DEPENDENTS</th>\n",
       "      <th>TELEPHONE</th>\n",
       "      <th>...</th>\n",
       "      <th>PROPERTY</th>\n",
       "      <th>HOUSING</th>\n",
       "      <th>CURRENT_RESIDENCE_DURATION</th>\n",
       "      <th>PAYMENT_TERM</th>\n",
       "      <th>INSTALLMENT_PLANS</th>\n",
       "      <th>INSTALLMENT_PERCENT</th>\n",
       "      <th>LOAN_PURPOSE</th>\n",
       "      <th>LOAN_AMOUNT</th>\n",
       "      <th>OTHERS_ON_LOAN</th>\n",
       "      <th>ALLOW</th>\n",
       "    </tr>\n",
       "  </thead>\n",
       "  <tbody>\n",
       "    <tr>\n",
       "      <th>0</th>\n",
       "      <td>object</td>\n",
       "      <td>-566.53</td>\n",
       "      <td>ALL_CREDITS_PAID_BACK</td>\n",
       "      <td>36.42</td>\n",
       "      <td>1.0</td>\n",
       "      <td>F</td>\n",
       "      <td>24.0</td>\n",
       "      <td>3.0</td>\n",
       "      <td>1.0</td>\n",
       "      <td>1.0</td>\n",
       "      <td>...</td>\n",
       "      <td>SAVINGS_INSURANCE</td>\n",
       "      <td>OWN</td>\n",
       "      <td>2.0</td>\n",
       "      <td>310.0</td>\n",
       "      <td>NONE</td>\n",
       "      <td>2.0</td>\n",
       "      <td>CAR_NEW</td>\n",
       "      <td>3503.0</td>\n",
       "      <td>NONE</td>\n",
       "      <td>1</td>\n",
       "    </tr>\n",
       "    <tr>\n",
       "      <th>1</th>\n",
       "      <td>object</td>\n",
       "      <td>-1673.16</td>\n",
       "      <td>CREDITS_PAID_TO_DATE</td>\n",
       "      <td>22.90</td>\n",
       "      <td>1.0</td>\n",
       "      <td>F</td>\n",
       "      <td>30.0</td>\n",
       "      <td>3.0</td>\n",
       "      <td>1.0</td>\n",
       "      <td>0.0</td>\n",
       "      <td>...</td>\n",
       "      <td>CAR_OTHER</td>\n",
       "      <td>RENT</td>\n",
       "      <td>1.0</td>\n",
       "      <td>630.0</td>\n",
       "      <td>STORES</td>\n",
       "      <td>3.0</td>\n",
       "      <td>CAR_NEW</td>\n",
       "      <td>3729.0</td>\n",
       "      <td>NONE</td>\n",
       "      <td>1</td>\n",
       "    </tr>\n",
       "    <tr>\n",
       "      <th>2</th>\n",
       "      <td>object</td>\n",
       "      <td>NaN</td>\n",
       "      <td>CREDITS_PAID_TO_DATE</td>\n",
       "      <td>450.35</td>\n",
       "      <td>2.0</td>\n",
       "      <td>M</td>\n",
       "      <td>40.0</td>\n",
       "      <td>3.0</td>\n",
       "      <td>1.0</td>\n",
       "      <td>0.0</td>\n",
       "      <td>...</td>\n",
       "      <td>UNKNOWN</td>\n",
       "      <td>OWN</td>\n",
       "      <td>4.0</td>\n",
       "      <td>868.0</td>\n",
       "      <td>NONE</td>\n",
       "      <td>3.0</td>\n",
       "      <td>CAR_USED</td>\n",
       "      <td>8516.0</td>\n",
       "      <td>NONE</td>\n",
       "      <td>0</td>\n",
       "    </tr>\n",
       "    <tr>\n",
       "      <th>3</th>\n",
       "      <td>object</td>\n",
       "      <td>-1471.03</td>\n",
       "      <td>PRIOR_PAYMENTS_DELAYED</td>\n",
       "      <td>805.71</td>\n",
       "      <td>2.0</td>\n",
       "      <td>M</td>\n",
       "      <td>28.0</td>\n",
       "      <td>1.0</td>\n",
       "      <td>1.0</td>\n",
       "      <td>0.0</td>\n",
       "      <td>...</td>\n",
       "      <td>CAR_OTHER</td>\n",
       "      <td>OWN</td>\n",
       "      <td>3.0</td>\n",
       "      <td>403.0</td>\n",
       "      <td>BANK</td>\n",
       "      <td>3.0</td>\n",
       "      <td>FURNITURE</td>\n",
       "      <td>2577.0</td>\n",
       "      <td>NONE</td>\n",
       "      <td>1</td>\n",
       "    </tr>\n",
       "    <tr>\n",
       "      <th>4</th>\n",
       "      <td>object</td>\n",
       "      <td>NaN</td>\n",
       "      <td>CREDITS_PAID_TO_DATE</td>\n",
       "      <td>295.03</td>\n",
       "      <td>1.0</td>\n",
       "      <td>M</td>\n",
       "      <td>19.0</td>\n",
       "      <td>2.0</td>\n",
       "      <td>1.0</td>\n",
       "      <td>0.0</td>\n",
       "      <td>...</td>\n",
       "      <td>REAL_ESTATE</td>\n",
       "      <td>OWN</td>\n",
       "      <td>3.0</td>\n",
       "      <td>810.0</td>\n",
       "      <td>NONE</td>\n",
       "      <td>4.0</td>\n",
       "      <td>BUSINESS</td>\n",
       "      <td>3750.0</td>\n",
       "      <td>NONE</td>\n",
       "      <td>1</td>\n",
       "    </tr>\n",
       "    <tr>\n",
       "      <th>...</th>\n",
       "      <td>...</td>\n",
       "      <td>...</td>\n",
       "      <td>...</td>\n",
       "      <td>...</td>\n",
       "      <td>...</td>\n",
       "      <td>...</td>\n",
       "      <td>...</td>\n",
       "      <td>...</td>\n",
       "      <td>...</td>\n",
       "      <td>...</td>\n",
       "      <td>...</td>\n",
       "      <td>...</td>\n",
       "      <td>...</td>\n",
       "      <td>...</td>\n",
       "      <td>...</td>\n",
       "      <td>...</td>\n",
       "      <td>...</td>\n",
       "      <td>...</td>\n",
       "      <td>...</td>\n",
       "      <td>...</td>\n",
       "      <td>...</td>\n",
       "    </tr>\n",
       "    <tr>\n",
       "      <th>2232</th>\n",
       "      <td>object</td>\n",
       "      <td>163.82</td>\n",
       "      <td>CREDITS_PAID_TO_DATE</td>\n",
       "      <td>472.11</td>\n",
       "      <td>1.0</td>\n",
       "      <td>F</td>\n",
       "      <td>41.0</td>\n",
       "      <td>0.0</td>\n",
       "      <td>1.0</td>\n",
       "      <td>0.0</td>\n",
       "      <td>...</td>\n",
       "      <td>CAR_OTHER</td>\n",
       "      <td>OWN</td>\n",
       "      <td>3.0</td>\n",
       "      <td>450.0</td>\n",
       "      <td>BANK</td>\n",
       "      <td>3.0</td>\n",
       "      <td>CAR_NEW</td>\n",
       "      <td>3007.0</td>\n",
       "      <td>CO-APPLICANT</td>\n",
       "      <td>0</td>\n",
       "    </tr>\n",
       "    <tr>\n",
       "      <th>2233</th>\n",
       "      <td>object</td>\n",
       "      <td>14324.23</td>\n",
       "      <td>PRIOR_PAYMENTS_DELAYED</td>\n",
       "      <td>18652.44</td>\n",
       "      <td>1.0</td>\n",
       "      <td>M</td>\n",
       "      <td>46.0</td>\n",
       "      <td>3.0</td>\n",
       "      <td>1.0</td>\n",
       "      <td>1.0</td>\n",
       "      <td>...</td>\n",
       "      <td>SAVINGS_INSURANCE</td>\n",
       "      <td>OWN</td>\n",
       "      <td>3.0</td>\n",
       "      <td>510.0</td>\n",
       "      <td>NONE</td>\n",
       "      <td>4.0</td>\n",
       "      <td>VACATION</td>\n",
       "      <td>4191.0</td>\n",
       "      <td>GUARANTOR</td>\n",
       "      <td>1</td>\n",
       "    </tr>\n",
       "    <tr>\n",
       "      <th>2234</th>\n",
       "      <td>object</td>\n",
       "      <td>130.13</td>\n",
       "      <td>PRIOR_PAYMENTS_DELAYED</td>\n",
       "      <td>726.78</td>\n",
       "      <td>2.0</td>\n",
       "      <td>M</td>\n",
       "      <td>28.0</td>\n",
       "      <td>3.0</td>\n",
       "      <td>1.0</td>\n",
       "      <td>1.0</td>\n",
       "      <td>...</td>\n",
       "      <td>CAR_OTHER</td>\n",
       "      <td>RENT</td>\n",
       "      <td>1.0</td>\n",
       "      <td>124.0</td>\n",
       "      <td>STORES</td>\n",
       "      <td>1.0</td>\n",
       "      <td>FURNITURE</td>\n",
       "      <td>250.0</td>\n",
       "      <td>NONE</td>\n",
       "      <td>1</td>\n",
       "    </tr>\n",
       "    <tr>\n",
       "      <th>2235</th>\n",
       "      <td>object</td>\n",
       "      <td>NaN</td>\n",
       "      <td>PRIOR_PAYMENTS_DELAYED</td>\n",
       "      <td>NaN</td>\n",
       "      <td>1.0</td>\n",
       "      <td>M</td>\n",
       "      <td>46.0</td>\n",
       "      <td>0.0</td>\n",
       "      <td>1.0</td>\n",
       "      <td>0.0</td>\n",
       "      <td>...</td>\n",
       "      <td>CAR_OTHER</td>\n",
       "      <td>RENT</td>\n",
       "      <td>3.0</td>\n",
       "      <td>961.0</td>\n",
       "      <td>BANK</td>\n",
       "      <td>3.0</td>\n",
       "      <td>BUSINESS</td>\n",
       "      <td>5172.0</td>\n",
       "      <td>NONE</td>\n",
       "      <td>1</td>\n",
       "    </tr>\n",
       "    <tr>\n",
       "      <th>2236</th>\n",
       "      <td>object</td>\n",
       "      <td>NaN</td>\n",
       "      <td>PRIOR_PAYMENTS_DELAYED</td>\n",
       "      <td>NaN</td>\n",
       "      <td>2.0</td>\n",
       "      <td>M</td>\n",
       "      <td>40.0</td>\n",
       "      <td>3.0</td>\n",
       "      <td>1.0</td>\n",
       "      <td>0.0</td>\n",
       "      <td>...</td>\n",
       "      <td>CAR_OTHER</td>\n",
       "      <td>OWN</td>\n",
       "      <td>5.0</td>\n",
       "      <td>1020.0</td>\n",
       "      <td>NONE</td>\n",
       "      <td>4.0</td>\n",
       "      <td>FURNITURE</td>\n",
       "      <td>6063.0</td>\n",
       "      <td>NONE</td>\n",
       "      <td>1</td>\n",
       "    </tr>\n",
       "  </tbody>\n",
       "</table>\n",
       "<p>2237 rows × 22 columns</p>\n",
       "</div>"
      ],
      "text/plain": [
       "          ID  CHECKING_BALANCE          CREDIT_HISTORY  EXISTING_SAVINGS  \\\n",
       "0     object           -566.53   ALL_CREDITS_PAID_BACK             36.42   \n",
       "1     object          -1673.16    CREDITS_PAID_TO_DATE             22.90   \n",
       "2     object               NaN    CREDITS_PAID_TO_DATE            450.35   \n",
       "3     object          -1471.03  PRIOR_PAYMENTS_DELAYED            805.71   \n",
       "4     object               NaN    CREDITS_PAID_TO_DATE            295.03   \n",
       "...      ...               ...                     ...               ...   \n",
       "2232  object            163.82    CREDITS_PAID_TO_DATE            472.11   \n",
       "2233  object          14324.23  PRIOR_PAYMENTS_DELAYED          18652.44   \n",
       "2234  object            130.13  PRIOR_PAYMENTS_DELAYED            726.78   \n",
       "2235  object               NaN  PRIOR_PAYMENTS_DELAYED               NaN   \n",
       "2236  object               NaN  PRIOR_PAYMENTS_DELAYED               NaN   \n",
       "\n",
       "      EXISTING_CREDITS_COUNT SEX   AGE  JOB_TYPE  DEPENDENTS  TELEPHONE  ...  \\\n",
       "0                        1.0   F  24.0       3.0         1.0        1.0  ...   \n",
       "1                        1.0   F  30.0       3.0         1.0        0.0  ...   \n",
       "2                        2.0   M  40.0       3.0         1.0        0.0  ...   \n",
       "3                        2.0   M  28.0       1.0         1.0        0.0  ...   \n",
       "4                        1.0   M  19.0       2.0         1.0        0.0  ...   \n",
       "...                      ...  ..   ...       ...         ...        ...  ...   \n",
       "2232                     1.0   F  41.0       0.0         1.0        0.0  ...   \n",
       "2233                     1.0   M  46.0       3.0         1.0        1.0  ...   \n",
       "2234                     2.0   M  28.0       3.0         1.0        1.0  ...   \n",
       "2235                     1.0   M  46.0       0.0         1.0        0.0  ...   \n",
       "2236                     2.0   M  40.0       3.0         1.0        0.0  ...   \n",
       "\n",
       "               PROPERTY  HOUSING CURRENT_RESIDENCE_DURATION PAYMENT_TERM  \\\n",
       "0     SAVINGS_INSURANCE      OWN                        2.0        310.0   \n",
       "1             CAR_OTHER     RENT                        1.0        630.0   \n",
       "2               UNKNOWN      OWN                        4.0        868.0   \n",
       "3             CAR_OTHER      OWN                        3.0        403.0   \n",
       "4           REAL_ESTATE      OWN                        3.0        810.0   \n",
       "...                 ...      ...                        ...          ...   \n",
       "2232          CAR_OTHER      OWN                        3.0        450.0   \n",
       "2233  SAVINGS_INSURANCE      OWN                        3.0        510.0   \n",
       "2234          CAR_OTHER     RENT                        1.0        124.0   \n",
       "2235          CAR_OTHER     RENT                        3.0        961.0   \n",
       "2236          CAR_OTHER      OWN                        5.0       1020.0   \n",
       "\n",
       "      INSTALLMENT_PLANS  INSTALLMENT_PERCENT LOAN_PURPOSE  LOAN_AMOUNT  \\\n",
       "0                  NONE                  2.0      CAR_NEW       3503.0   \n",
       "1                STORES                  3.0      CAR_NEW       3729.0   \n",
       "2                  NONE                  3.0     CAR_USED       8516.0   \n",
       "3                  BANK                  3.0    FURNITURE       2577.0   \n",
       "4                  NONE                  4.0     BUSINESS       3750.0   \n",
       "...                 ...                  ...          ...          ...   \n",
       "2232               BANK                  3.0      CAR_NEW       3007.0   \n",
       "2233               NONE                  4.0     VACATION       4191.0   \n",
       "2234             STORES                  1.0    FURNITURE        250.0   \n",
       "2235               BANK                  3.0     BUSINESS       5172.0   \n",
       "2236               NONE                  4.0    FURNITURE       6063.0   \n",
       "\n",
       "     OTHERS_ON_LOAN  ALLOW  \n",
       "0              NONE      1  \n",
       "1              NONE      1  \n",
       "2              NONE      0  \n",
       "3              NONE      1  \n",
       "4              NONE      1  \n",
       "...             ...    ...  \n",
       "2232   CO-APPLICANT      0  \n",
       "2233      GUARANTOR      1  \n",
       "2234           NONE      1  \n",
       "2235           NONE      1  \n",
       "2236           NONE      1  \n",
       "\n",
       "[2237 rows x 22 columns]"
      ]
     },
     "execution_count": 333,
     "metadata": {},
     "output_type": "execute_result"
    }
   ],
   "source": [
    "df"
   ]
  },
  {
   "cell_type": "markdown",
   "id": "5b9f0c7b",
   "metadata": {},
   "source": [
    "#### 4.5.1 - LogisticRegression"
   ]
  },
  {
   "cell_type": "code",
   "execution_count": 53,
   "id": "a70b6309",
   "metadata": {},
   "outputs": [],
   "source": [
    "X_train, X_test, y_train, y_test = train_test_split(X_dropna, y_dropna, test_size=0.3, random_state=42)"
   ]
  },
  {
   "cell_type": "code",
   "execution_count": 365,
   "id": "57324fa8",
   "metadata": {},
   "outputs": [],
   "source": [
    "param = {'clf__solver': ['liblinear', 'sag', 'saga'],\n",
    "         'selectFeatures__k': np.arange(10, 30, 3),\n",
    "         'ct__impute_columns__impute__strategy': ['mean', 'median']}"
   ]
  },
  {
   "cell_type": "code",
   "execution_count": 366,
   "id": "b8cbcc5a",
   "metadata": {
    "scrolled": true
   },
   "outputs": [
    {
     "name": "stdout",
     "output_type": "stream",
     "text": [
      "0.7849692393736017\n",
      "{'clf__solver': 'liblinear', 'ct__impute_columns__impute__strategy': 'mean', 'selectFeatures__k': 13}\n"
     ]
    },
    {
     "name": "stderr",
     "output_type": "stream",
     "text": [
      "E:\\Anaconda3\\lib\\site-packages\\sklearn\\utils\\validation.py:985: DataConversionWarning: A column-vector y was passed when a 1d array was expected. Please change the shape of y to (n_samples, ), for example using ravel().\n",
      "  y = column_or_1d(y, warn=True)\n",
      "E:\\Anaconda3\\lib\\site-packages\\sklearn\\utils\\validation.py:985: DataConversionWarning: A column-vector y was passed when a 1d array was expected. Please change the shape of y to (n_samples, ), for example using ravel().\n",
      "  y = column_or_1d(y, warn=True)\n"
     ]
    }
   ],
   "source": [
    "cat_transformer = Pipeline(steps=[('encoder', OneHotEncoder(sparse=False, handle_unknown='ignore'))])\n",
    "\n",
    "impute_columns = Pipeline(steps=[('impute', SimpleImputer()),\n",
    "                                 ('scaler', StandardScaler())])\n",
    "\n",
    "ct = ColumnTransformer([('categories', cat_transformer, categorical_columns),\n",
    "                        ('impute_columns', impute_columns, columns_to_inpute),\n",
    "                        ('scaler', StandardScaler(), numeric_column)], \n",
    "                       remainder='passthrough')\n",
    "\n",
    "pipeline = Pipeline([('ct', ct), \n",
    "                     ('selectFeatures', SelectKBest(score_func=f_classif)),\n",
    "                     ('clf', LogisticRegression(max_iter=3000))])\n",
    "\n",
    "search = GridSearchCV(pipeline, param, cv=5, n_jobs=-1)\n",
    "search.fit(X, y)\n",
    "print(search.best_score_)\n",
    "print(search.best_params_)"
   ]
  },
  {
   "cell_type": "markdown",
   "id": "4bab250e",
   "metadata": {},
   "source": [
    "#### 4.5.2 - RandomForestClassifier"
   ]
  },
  {
   "cell_type": "code",
   "execution_count": 361,
   "id": "af1aea0c",
   "metadata": {},
   "outputs": [],
   "source": [
    "param = {'clf__n_estimators': np.arange(50, 100, 1),\n",
    "         'clf__criterion': ['gini', 'entropy'],\n",
    "         'clf__min_samples_split': np.arange(2, 150, 1),\n",
    "         'clf__min_samples_leaf': np.arange(1, 150, 1),\n",
    "         'selectFeatures__k': np.arange(5, 30, 1),\n",
    "         'ct__impute__strategy': ['mean', 'median']\n",
    "         }\n"
   ]
  },
  {
   "cell_type": "code",
   "execution_count": 362,
   "id": "6e08c824",
   "metadata": {},
   "outputs": [
    {
     "name": "stdout",
     "output_type": "stream",
     "text": [
      "0.849043689442006\n",
      "{'selectFeatures__k': 28, 'ct__impute__strategy': 'median', 'clf__n_estimators': 90, 'clf__min_samples_split': 118, 'clf__min_samples_leaf': 32, 'clf__criterion': 'gini'}\n"
     ]
    }
   ],
   "source": [
    "X_train, X_test, y_train, y_test = train_test_split(X, y, test_size=0.3, random_state=42)\n",
    "    \n",
    "ct = ColumnTransformer([('categories', OneHotEncoder(sparse=False, handle_unknown='ignore'), categorical_columns),\n",
    "                        ('impute', SimpleImputer(), columns_to_inpute)], \n",
    "                       remainder='passthrough')\n",
    "\n",
    "pipeline = Pipeline([('ct', ct), \n",
    "                     ('selectFeatures', SelectKBest(score_func=f_classif)),\n",
    "                     ('clf', RandomForestClassifier(n_jobs=-1))])\n",
    "\n",
    "search = RandomizedSearchCV(pipeline, param, cv=5, n_jobs=-1, scoring='f1', n_iter=1000)\n",
    "search.fit(X, y.values.ravel())\n",
    "print(search.best_score_)\n",
    "print(search.best_params_)"
   ]
  },
  {
   "cell_type": "markdown",
   "id": "85b9743b",
   "metadata": {},
   "source": [
    "#### 4.5.3 - GradientBoostingClassifier"
   ]
  },
  {
   "cell_type": "code",
   "execution_count": 363,
   "id": "84141422",
   "metadata": {},
   "outputs": [],
   "source": [
    "param = {'clf__loss': ['deviance', 'exponential'],\n",
    "         'clf__learning_rate': np.arange(0.001, 0.2, 0.01),\n",
    "         'clf__n_estimators': np.arange(50, 100, 10),\n",
    "         'clf__criterion': ['friedman_mse', 'squared_error'],\n",
    "         'clf__min_samples_split': np.arange(2, 150, 2),\n",
    "         'clf__min_samples_leaf': np.arange(1, 100, 1),\n",
    "         'selectFeatures__k': np.arange(5, 30, 1),\n",
    "         'clf__tol': np.arange(1e-5, 1e-3, 1e-4),\n",
    "         'ct__impute__strategy': ['mean', 'median']\n",
    "         }"
   ]
  },
  {
   "cell_type": "code",
   "execution_count": 364,
   "id": "ea8cc6cc",
   "metadata": {},
   "outputs": [
    {
     "name": "stdout",
     "output_type": "stream",
     "text": [
      "0.8506944317838248\n",
      "{'selectFeatures__k': 23, 'ct__impute__strategy': 'mean', 'clf__tol': 0.00041000000000000005, 'clf__n_estimators': 90, 'clf__min_samples_split': 100, 'clf__min_samples_leaf': 94, 'clf__loss': 'exponential', 'clf__learning_rate': 0.020999999999999998, 'clf__criterion': 'squared_error'}\n"
     ]
    }
   ],
   "source": [
    "ct = ColumnTransformer([('categories', OneHotEncoder(sparse=False, handle_unknown='ignore'), categorical_columns),\n",
    "                        ('impute', SimpleImputer(), columns_to_inpute)], \n",
    "                       remainder='passthrough')\n",
    "\n",
    "pipeline = Pipeline([('ct', ct), \n",
    "                     ('selectFeatures', SelectKBest(score_func=f_classif)),\n",
    "                     ('clf', GradientBoostingClassifier())])\n",
    "\n",
    "search = RandomizedSearchCV(pipeline, param, cv=5, n_jobs=-1, scoring='f1', n_iter=2000)\n",
    "search.fit(X, y.values.ravel())\n",
    "print(search.best_score_)\n",
    "print(search.best_params_)"
   ]
  },
  {
   "cell_type": "code",
   "execution_count": null,
   "id": "218d7707",
   "metadata": {},
   "outputs": [],
   "source": [
    "melhor_modelo = search.best_estimator_\n",
    "search.best_estimator_"
   ]
  },
  {
   "cell_type": "markdown",
   "id": "c17544c1",
   "metadata": {},
   "source": [
    "### 5 - Ultimo teste com o melhor modelo"
   ]
  },
  {
   "cell_type": "code",
   "execution_count": 381,
   "id": "2cf4e635",
   "metadata": {},
   "outputs": [
    {
     "name": "stdout",
     "output_type": "stream",
     "text": [
      "O score f1 do modelo sem StandardScaler é : 0.8298572996706916\n"
     ]
    }
   ],
   "source": [
    "X_train, X_test, y_train, y_test = train_test_split(X, y, test_size=0.3, random_state=42)\n",
    "\n",
    "ct = ColumnTransformer([('categories', OneHotEncoder(sparse=False, handle_unknown='ignore'), categorical_columns),\n",
    "                        ('impute', SimpleImputer(strategy='mean'), columns_to_inpute)], \n",
    "                       remainder='passthrough')\n",
    "\n",
    "pipeline = Pipeline([('ct', ct), \n",
    "                     ('selectFeatures', SelectKBest(score_func=f_classif, k=20)),\n",
    "                     ('clf', GradientBoostingClassifier(tol=0.00041, n_estimators=100, min_samples_split=100,\n",
    "                                                        min_samples_leaf=94, loss='exponential', \n",
    "                                                        criterion='squared_error'))])\n",
    "\n",
    "\n",
    "pipeline.fit(X_train, y_train.values.ravel())\n",
    "y_pred = pipeline.predict(X_test)\n",
    "score = f1_score(y_test, y_pred)\n",
    "print(f'O score f1 do modelo sem StandardScaler é : {score}')"
   ]
  },
  {
   "cell_type": "markdown",
   "id": "ee1ff3e1",
   "metadata": {},
   "source": [
    "### 6 - Predizendo os dados do dataframe answer"
   ]
  },
  {
   "cell_type": "code",
   "execution_count": 383,
   "id": "0723d57f",
   "metadata": {},
   "outputs": [
    {
     "data": {
      "text/html": [
       "<div>\n",
       "<style scoped>\n",
       "    .dataframe tbody tr th:only-of-type {\n",
       "        vertical-align: middle;\n",
       "    }\n",
       "\n",
       "    .dataframe tbody tr th {\n",
       "        vertical-align: top;\n",
       "    }\n",
       "\n",
       "    .dataframe thead th {\n",
       "        text-align: right;\n",
       "    }\n",
       "</style>\n",
       "<table border=\"1\" class=\"dataframe\">\n",
       "  <thead>\n",
       "    <tr style=\"text-align: right;\">\n",
       "      <th></th>\n",
       "      <th>ID</th>\n",
       "      <th>CHECKING_BALANCE</th>\n",
       "      <th>PAYMENT_TERM</th>\n",
       "      <th>CREDIT_HISTORY</th>\n",
       "      <th>LOAN_PURPOSE</th>\n",
       "      <th>LOAN_AMOUNT</th>\n",
       "      <th>EXISTING_SAVINGS</th>\n",
       "      <th>EMPLOYMENT_DURATION</th>\n",
       "      <th>INSTALLMENT_PERCENT</th>\n",
       "      <th>SEX</th>\n",
       "      <th>...</th>\n",
       "      <th>PROPERTY</th>\n",
       "      <th>AGE</th>\n",
       "      <th>INSTALLMENT_PLANS</th>\n",
       "      <th>HOUSING</th>\n",
       "      <th>EXISTING_CREDITS_COUNT</th>\n",
       "      <th>JOB_TYPE</th>\n",
       "      <th>DEPENDENTS</th>\n",
       "      <th>TELEPHONE</th>\n",
       "      <th>FOREIGN_WORKER</th>\n",
       "      <th>ALLOW</th>\n",
       "    </tr>\n",
       "  </thead>\n",
       "  <tbody>\n",
       "    <tr>\n",
       "      <th>0</th>\n",
       "      <td>1078506</td>\n",
       "      <td>25.84</td>\n",
       "      <td>465</td>\n",
       "      <td>NO_CREDITS</td>\n",
       "      <td>CAR_NEW</td>\n",
       "      <td>250</td>\n",
       "      <td>38.35</td>\n",
       "      <td>0</td>\n",
       "      <td>1</td>\n",
       "      <td>F</td>\n",
       "      <td>...</td>\n",
       "      <td>REAL_ESTATE</td>\n",
       "      <td>32</td>\n",
       "      <td>STORES</td>\n",
       "      <td>OWN</td>\n",
       "      <td>1</td>\n",
       "      <td>3</td>\n",
       "      <td>1</td>\n",
       "      <td>0</td>\n",
       "      <td>1</td>\n",
       "      <td>TO_FILL</td>\n",
       "    </tr>\n",
       "    <tr>\n",
       "      <th>1</th>\n",
       "      <td>947575</td>\n",
       "      <td>-439.72</td>\n",
       "      <td>120</td>\n",
       "      <td>ALL_CREDITS_PAID_BACK</td>\n",
       "      <td>CAR_NEW</td>\n",
       "      <td>250</td>\n",
       "      <td>1.62</td>\n",
       "      <td>0</td>\n",
       "      <td>2</td>\n",
       "      <td>M</td>\n",
       "      <td>...</td>\n",
       "      <td>REAL_ESTATE</td>\n",
       "      <td>25</td>\n",
       "      <td>STORES</td>\n",
       "      <td>RENT</td>\n",
       "      <td>1</td>\n",
       "      <td>3</td>\n",
       "      <td>1</td>\n",
       "      <td>0</td>\n",
       "      <td>1</td>\n",
       "      <td>TO_FILL</td>\n",
       "    </tr>\n",
       "    <tr>\n",
       "      <th>2</th>\n",
       "      <td>133043</td>\n",
       "      <td>169.45</td>\n",
       "      <td>527</td>\n",
       "      <td>PRIOR_PAYMENTS_DELAYED</td>\n",
       "      <td>RADIO_TV</td>\n",
       "      <td>2207</td>\n",
       "      <td>184.97</td>\n",
       "      <td>6</td>\n",
       "      <td>2</td>\n",
       "      <td>M</td>\n",
       "      <td>...</td>\n",
       "      <td>SAVINGS_INSURANCE</td>\n",
       "      <td>32</td>\n",
       "      <td>STORES</td>\n",
       "      <td>OWN</td>\n",
       "      <td>2</td>\n",
       "      <td>1</td>\n",
       "      <td>2</td>\n",
       "      <td>0</td>\n",
       "      <td>1</td>\n",
       "      <td>TO_FILL</td>\n",
       "    </tr>\n",
       "    <tr>\n",
       "      <th>3</th>\n",
       "      <td>1031383</td>\n",
       "      <td>NO_CHECKING</td>\n",
       "      <td>720</td>\n",
       "      <td>OUTSTANDING_CREDIT</td>\n",
       "      <td>CAR_USED</td>\n",
       "      <td>5064</td>\n",
       "      <td>731.03</td>\n",
       "      <td>6</td>\n",
       "      <td>4</td>\n",
       "      <td>M</td>\n",
       "      <td>...</td>\n",
       "      <td>CAR_OTHER</td>\n",
       "      <td>49</td>\n",
       "      <td>NONE</td>\n",
       "      <td>OWN</td>\n",
       "      <td>2</td>\n",
       "      <td>3</td>\n",
       "      <td>1</td>\n",
       "      <td>0</td>\n",
       "      <td>1</td>\n",
       "      <td>TO_FILL</td>\n",
       "    </tr>\n",
       "    <tr>\n",
       "      <th>4</th>\n",
       "      <td>491563</td>\n",
       "      <td>NO_CHECKING</td>\n",
       "      <td>420</td>\n",
       "      <td>OUTSTANDING_CREDIT</td>\n",
       "      <td>FURNITURE</td>\n",
       "      <td>3763</td>\n",
       "      <td>396.26</td>\n",
       "      <td>4</td>\n",
       "      <td>3</td>\n",
       "      <td>F</td>\n",
       "      <td>...</td>\n",
       "      <td>CAR_OTHER</td>\n",
       "      <td>46</td>\n",
       "      <td>STORES</td>\n",
       "      <td>OWN</td>\n",
       "      <td>1</td>\n",
       "      <td>1</td>\n",
       "      <td>2</td>\n",
       "      <td>1</td>\n",
       "      <td>1</td>\n",
       "      <td>TO_FILL</td>\n",
       "    </tr>\n",
       "  </tbody>\n",
       "</table>\n",
       "<p>5 rows × 22 columns</p>\n",
       "</div>"
      ],
      "text/plain": [
       "        ID CHECKING_BALANCE  PAYMENT_TERM          CREDIT_HISTORY  \\\n",
       "0  1078506            25.84           465              NO_CREDITS   \n",
       "1   947575          -439.72           120   ALL_CREDITS_PAID_BACK   \n",
       "2   133043           169.45           527  PRIOR_PAYMENTS_DELAYED   \n",
       "3  1031383      NO_CHECKING           720      OUTSTANDING_CREDIT   \n",
       "4   491563      NO_CHECKING           420      OUTSTANDING_CREDIT   \n",
       "\n",
       "  LOAN_PURPOSE  LOAN_AMOUNT EXISTING_SAVINGS  EMPLOYMENT_DURATION  \\\n",
       "0      CAR_NEW          250            38.35                    0   \n",
       "1      CAR_NEW          250             1.62                    0   \n",
       "2     RADIO_TV         2207           184.97                    6   \n",
       "3     CAR_USED         5064           731.03                    6   \n",
       "4    FURNITURE         3763           396.26                    4   \n",
       "\n",
       "   INSTALLMENT_PERCENT SEX  ...           PROPERTY  AGE INSTALLMENT_PLANS  \\\n",
       "0                    1   F  ...        REAL_ESTATE   32            STORES   \n",
       "1                    2   M  ...        REAL_ESTATE   25            STORES   \n",
       "2                    2   M  ...  SAVINGS_INSURANCE   32            STORES   \n",
       "3                    4   M  ...          CAR_OTHER   49              NONE   \n",
       "4                    3   F  ...          CAR_OTHER   46            STORES   \n",
       "\n",
       "   HOUSING EXISTING_CREDITS_COUNT JOB_TYPE  DEPENDENTS  TELEPHONE  \\\n",
       "0      OWN                      1        3           1          0   \n",
       "1     RENT                      1        3           1          0   \n",
       "2      OWN                      2        1           2          0   \n",
       "3      OWN                      2        3           1          0   \n",
       "4      OWN                      1        1           2          1   \n",
       "\n",
       "   FOREIGN_WORKER    ALLOW  \n",
       "0               1  TO_FILL  \n",
       "1               1  TO_FILL  \n",
       "2               1  TO_FILL  \n",
       "3               1  TO_FILL  \n",
       "4               1  TO_FILL  \n",
       "\n",
       "[5 rows x 22 columns]"
      ]
     },
     "execution_count": 383,
     "metadata": {},
     "output_type": "execute_result"
    }
   ],
   "source": [
    "answers.head()"
   ]
  },
  {
   "cell_type": "code",
   "execution_count": 384,
   "id": "5678ad4e",
   "metadata": {},
   "outputs": [
    {
     "data": {
      "text/html": [
       "<div>\n",
       "<style scoped>\n",
       "    .dataframe tbody tr th:only-of-type {\n",
       "        vertical-align: middle;\n",
       "    }\n",
       "\n",
       "    .dataframe tbody tr th {\n",
       "        vertical-align: top;\n",
       "    }\n",
       "\n",
       "    .dataframe thead th {\n",
       "        text-align: right;\n",
       "    }\n",
       "</style>\n",
       "<table border=\"1\" class=\"dataframe\">\n",
       "  <thead>\n",
       "    <tr style=\"text-align: right;\">\n",
       "      <th></th>\n",
       "      <th>ID</th>\n",
       "      <th>CHECKING_BALANCE</th>\n",
       "      <th>PAYMENT_TERM</th>\n",
       "      <th>CREDIT_HISTORY</th>\n",
       "      <th>LOAN_PURPOSE</th>\n",
       "      <th>LOAN_AMOUNT</th>\n",
       "      <th>EXISTING_SAVINGS</th>\n",
       "      <th>EMPLOYMENT_DURATION</th>\n",
       "      <th>INSTALLMENT_PERCENT</th>\n",
       "      <th>SEX</th>\n",
       "      <th>...</th>\n",
       "      <th>PROPERTY</th>\n",
       "      <th>AGE</th>\n",
       "      <th>INSTALLMENT_PLANS</th>\n",
       "      <th>HOUSING</th>\n",
       "      <th>EXISTING_CREDITS_COUNT</th>\n",
       "      <th>JOB_TYPE</th>\n",
       "      <th>DEPENDENTS</th>\n",
       "      <th>TELEPHONE</th>\n",
       "      <th>FOREIGN_WORKER</th>\n",
       "      <th>ALLOW</th>\n",
       "    </tr>\n",
       "  </thead>\n",
       "  <tbody>\n",
       "    <tr>\n",
       "      <th>0</th>\n",
       "      <td>1078506</td>\n",
       "      <td>25.84</td>\n",
       "      <td>465</td>\n",
       "      <td>NO_CREDITS</td>\n",
       "      <td>CAR_NEW</td>\n",
       "      <td>250</td>\n",
       "      <td>38.35</td>\n",
       "      <td>0</td>\n",
       "      <td>1</td>\n",
       "      <td>F</td>\n",
       "      <td>...</td>\n",
       "      <td>REAL_ESTATE</td>\n",
       "      <td>32</td>\n",
       "      <td>STORES</td>\n",
       "      <td>OWN</td>\n",
       "      <td>1</td>\n",
       "      <td>3</td>\n",
       "      <td>1</td>\n",
       "      <td>0</td>\n",
       "      <td>1</td>\n",
       "      <td>1</td>\n",
       "    </tr>\n",
       "    <tr>\n",
       "      <th>1</th>\n",
       "      <td>947575</td>\n",
       "      <td>-439.72</td>\n",
       "      <td>120</td>\n",
       "      <td>ALL_CREDITS_PAID_BACK</td>\n",
       "      <td>CAR_NEW</td>\n",
       "      <td>250</td>\n",
       "      <td>1.62</td>\n",
       "      <td>0</td>\n",
       "      <td>2</td>\n",
       "      <td>M</td>\n",
       "      <td>...</td>\n",
       "      <td>REAL_ESTATE</td>\n",
       "      <td>25</td>\n",
       "      <td>STORES</td>\n",
       "      <td>RENT</td>\n",
       "      <td>1</td>\n",
       "      <td>3</td>\n",
       "      <td>1</td>\n",
       "      <td>0</td>\n",
       "      <td>1</td>\n",
       "      <td>1</td>\n",
       "    </tr>\n",
       "    <tr>\n",
       "      <th>2</th>\n",
       "      <td>133043</td>\n",
       "      <td>169.45</td>\n",
       "      <td>527</td>\n",
       "      <td>PRIOR_PAYMENTS_DELAYED</td>\n",
       "      <td>RADIO_TV</td>\n",
       "      <td>2207</td>\n",
       "      <td>184.97</td>\n",
       "      <td>6</td>\n",
       "      <td>2</td>\n",
       "      <td>M</td>\n",
       "      <td>...</td>\n",
       "      <td>SAVINGS_INSURANCE</td>\n",
       "      <td>32</td>\n",
       "      <td>STORES</td>\n",
       "      <td>OWN</td>\n",
       "      <td>2</td>\n",
       "      <td>1</td>\n",
       "      <td>2</td>\n",
       "      <td>0</td>\n",
       "      <td>1</td>\n",
       "      <td>1</td>\n",
       "    </tr>\n",
       "    <tr>\n",
       "      <th>3</th>\n",
       "      <td>1031383</td>\n",
       "      <td>NO_CHECKING</td>\n",
       "      <td>720</td>\n",
       "      <td>OUTSTANDING_CREDIT</td>\n",
       "      <td>CAR_USED</td>\n",
       "      <td>5064</td>\n",
       "      <td>731.03</td>\n",
       "      <td>6</td>\n",
       "      <td>4</td>\n",
       "      <td>M</td>\n",
       "      <td>...</td>\n",
       "      <td>CAR_OTHER</td>\n",
       "      <td>49</td>\n",
       "      <td>NONE</td>\n",
       "      <td>OWN</td>\n",
       "      <td>2</td>\n",
       "      <td>3</td>\n",
       "      <td>1</td>\n",
       "      <td>0</td>\n",
       "      <td>1</td>\n",
       "      <td>1</td>\n",
       "    </tr>\n",
       "    <tr>\n",
       "      <th>4</th>\n",
       "      <td>491563</td>\n",
       "      <td>NO_CHECKING</td>\n",
       "      <td>420</td>\n",
       "      <td>OUTSTANDING_CREDIT</td>\n",
       "      <td>FURNITURE</td>\n",
       "      <td>3763</td>\n",
       "      <td>396.26</td>\n",
       "      <td>4</td>\n",
       "      <td>3</td>\n",
       "      <td>F</td>\n",
       "      <td>...</td>\n",
       "      <td>CAR_OTHER</td>\n",
       "      <td>46</td>\n",
       "      <td>STORES</td>\n",
       "      <td>OWN</td>\n",
       "      <td>1</td>\n",
       "      <td>1</td>\n",
       "      <td>2</td>\n",
       "      <td>1</td>\n",
       "      <td>1</td>\n",
       "      <td>1</td>\n",
       "    </tr>\n",
       "  </tbody>\n",
       "</table>\n",
       "<p>5 rows × 22 columns</p>\n",
       "</div>"
      ],
      "text/plain": [
       "        ID CHECKING_BALANCE  PAYMENT_TERM          CREDIT_HISTORY  \\\n",
       "0  1078506            25.84           465              NO_CREDITS   \n",
       "1   947575          -439.72           120   ALL_CREDITS_PAID_BACK   \n",
       "2   133043           169.45           527  PRIOR_PAYMENTS_DELAYED   \n",
       "3  1031383      NO_CHECKING           720      OUTSTANDING_CREDIT   \n",
       "4   491563      NO_CHECKING           420      OUTSTANDING_CREDIT   \n",
       "\n",
       "  LOAN_PURPOSE  LOAN_AMOUNT EXISTING_SAVINGS  EMPLOYMENT_DURATION  \\\n",
       "0      CAR_NEW          250            38.35                    0   \n",
       "1      CAR_NEW          250             1.62                    0   \n",
       "2     RADIO_TV         2207           184.97                    6   \n",
       "3     CAR_USED         5064           731.03                    6   \n",
       "4    FURNITURE         3763           396.26                    4   \n",
       "\n",
       "   INSTALLMENT_PERCENT SEX  ...           PROPERTY  AGE INSTALLMENT_PLANS  \\\n",
       "0                    1   F  ...        REAL_ESTATE   32            STORES   \n",
       "1                    2   M  ...        REAL_ESTATE   25            STORES   \n",
       "2                    2   M  ...  SAVINGS_INSURANCE   32            STORES   \n",
       "3                    4   M  ...          CAR_OTHER   49              NONE   \n",
       "4                    3   F  ...          CAR_OTHER   46            STORES   \n",
       "\n",
       "   HOUSING EXISTING_CREDITS_COUNT JOB_TYPE  DEPENDENTS  TELEPHONE  \\\n",
       "0      OWN                      1        3           1          0   \n",
       "1     RENT                      1        3           1          0   \n",
       "2      OWN                      2        1           2          0   \n",
       "3      OWN                      2        3           1          0   \n",
       "4      OWN                      1        1           2          1   \n",
       "\n",
       "   FOREIGN_WORKER  ALLOW  \n",
       "0               1      1  \n",
       "1               1      1  \n",
       "2               1      1  \n",
       "3               1      1  \n",
       "4               1      1  \n",
       "\n",
       "[5 rows x 22 columns]"
      ]
     },
     "execution_count": 384,
     "metadata": {},
     "output_type": "execute_result"
    }
   ],
   "source": [
    "answers_df = answers.drop('ID', axis=1).copy()\n",
    "answers_df['CHECKING_BALANCE'].replace('NO_CHECKING', np.nan, inplace=True)\n",
    "answers_df['EXISTING_SAVINGS'].replace('UNKNOWN', np.nan, inplace=True)\n",
    "\n",
    "answers_df['CHECKING_BALANCE'] = answers_df['CHECKING_BALANCE'].astype('float')\n",
    "answers_df['EXISTING_SAVINGS'] = answers_df['EXISTING_SAVINGS'].astype('float')\n",
    "answers['ALLOW'] = pipeline.predict(answers_df)\n",
    "answers.head()"
   ]
  },
  {
   "cell_type": "code",
   "execution_count": 387,
   "id": "9eec73cb",
   "metadata": {},
   "outputs": [
    {
     "data": {
      "text/plain": [
       "1    0.655342\n",
       "0    0.344658\n",
       "Name: ALLOW, dtype: float64"
      ]
     },
     "execution_count": 387,
     "metadata": {},
     "output_type": "execute_result"
    }
   ],
   "source": [
    "df['ALLOW'].value_counts(normalize=True)"
   ]
  },
  {
   "cell_type": "code",
   "execution_count": 386,
   "id": "dcd4b660",
   "metadata": {},
   "outputs": [
    {
     "data": {
      "text/plain": [
       "1    0.735\n",
       "0    0.265\n",
       "Name: ALLOW, dtype: float64"
      ]
     },
     "execution_count": 386,
     "metadata": {},
     "output_type": "execute_result"
    }
   ],
   "source": [
    "answers['ALLOW'].value_counts(normalize=True)"
   ]
  },
  {
   "cell_type": "code",
   "execution_count": 389,
   "id": "42747943",
   "metadata": {},
   "outputs": [],
   "source": [
    "answers.to_csv('datasets/answers_done.csv', index=False)"
   ]
  },
  {
   "cell_type": "code",
   "execution_count": 390,
   "id": "69ba5325",
   "metadata": {},
   "outputs": [
    {
     "data": {
      "text/html": [
       "<div>\n",
       "<style scoped>\n",
       "    .dataframe tbody tr th:only-of-type {\n",
       "        vertical-align: middle;\n",
       "    }\n",
       "\n",
       "    .dataframe tbody tr th {\n",
       "        vertical-align: top;\n",
       "    }\n",
       "\n",
       "    .dataframe thead th {\n",
       "        text-align: right;\n",
       "    }\n",
       "</style>\n",
       "<table border=\"1\" class=\"dataframe\">\n",
       "  <thead>\n",
       "    <tr style=\"text-align: right;\">\n",
       "      <th></th>\n",
       "      <th>ID</th>\n",
       "      <th>CHECKING_BALANCE</th>\n",
       "      <th>PAYMENT_TERM</th>\n",
       "      <th>CREDIT_HISTORY</th>\n",
       "      <th>LOAN_PURPOSE</th>\n",
       "      <th>LOAN_AMOUNT</th>\n",
       "      <th>EXISTING_SAVINGS</th>\n",
       "      <th>EMPLOYMENT_DURATION</th>\n",
       "      <th>INSTALLMENT_PERCENT</th>\n",
       "      <th>SEX</th>\n",
       "      <th>...</th>\n",
       "      <th>PROPERTY</th>\n",
       "      <th>AGE</th>\n",
       "      <th>INSTALLMENT_PLANS</th>\n",
       "      <th>HOUSING</th>\n",
       "      <th>EXISTING_CREDITS_COUNT</th>\n",
       "      <th>JOB_TYPE</th>\n",
       "      <th>DEPENDENTS</th>\n",
       "      <th>TELEPHONE</th>\n",
       "      <th>FOREIGN_WORKER</th>\n",
       "      <th>ALLOW</th>\n",
       "    </tr>\n",
       "  </thead>\n",
       "  <tbody>\n",
       "    <tr>\n",
       "      <th>0</th>\n",
       "      <td>1078506</td>\n",
       "      <td>25.84</td>\n",
       "      <td>465</td>\n",
       "      <td>NO_CREDITS</td>\n",
       "      <td>CAR_NEW</td>\n",
       "      <td>250</td>\n",
       "      <td>38.35</td>\n",
       "      <td>0</td>\n",
       "      <td>1</td>\n",
       "      <td>F</td>\n",
       "      <td>...</td>\n",
       "      <td>REAL_ESTATE</td>\n",
       "      <td>32</td>\n",
       "      <td>STORES</td>\n",
       "      <td>OWN</td>\n",
       "      <td>1</td>\n",
       "      <td>3</td>\n",
       "      <td>1</td>\n",
       "      <td>0</td>\n",
       "      <td>1</td>\n",
       "      <td>1</td>\n",
       "    </tr>\n",
       "    <tr>\n",
       "      <th>1</th>\n",
       "      <td>947575</td>\n",
       "      <td>-439.72</td>\n",
       "      <td>120</td>\n",
       "      <td>ALL_CREDITS_PAID_BACK</td>\n",
       "      <td>CAR_NEW</td>\n",
       "      <td>250</td>\n",
       "      <td>1.62</td>\n",
       "      <td>0</td>\n",
       "      <td>2</td>\n",
       "      <td>M</td>\n",
       "      <td>...</td>\n",
       "      <td>REAL_ESTATE</td>\n",
       "      <td>25</td>\n",
       "      <td>STORES</td>\n",
       "      <td>RENT</td>\n",
       "      <td>1</td>\n",
       "      <td>3</td>\n",
       "      <td>1</td>\n",
       "      <td>0</td>\n",
       "      <td>1</td>\n",
       "      <td>1</td>\n",
       "    </tr>\n",
       "    <tr>\n",
       "      <th>2</th>\n",
       "      <td>133043</td>\n",
       "      <td>169.45</td>\n",
       "      <td>527</td>\n",
       "      <td>PRIOR_PAYMENTS_DELAYED</td>\n",
       "      <td>RADIO_TV</td>\n",
       "      <td>2207</td>\n",
       "      <td>184.97</td>\n",
       "      <td>6</td>\n",
       "      <td>2</td>\n",
       "      <td>M</td>\n",
       "      <td>...</td>\n",
       "      <td>SAVINGS_INSURANCE</td>\n",
       "      <td>32</td>\n",
       "      <td>STORES</td>\n",
       "      <td>OWN</td>\n",
       "      <td>2</td>\n",
       "      <td>1</td>\n",
       "      <td>2</td>\n",
       "      <td>0</td>\n",
       "      <td>1</td>\n",
       "      <td>1</td>\n",
       "    </tr>\n",
       "    <tr>\n",
       "      <th>3</th>\n",
       "      <td>1031383</td>\n",
       "      <td>NO_CHECKING</td>\n",
       "      <td>720</td>\n",
       "      <td>OUTSTANDING_CREDIT</td>\n",
       "      <td>CAR_USED</td>\n",
       "      <td>5064</td>\n",
       "      <td>731.03</td>\n",
       "      <td>6</td>\n",
       "      <td>4</td>\n",
       "      <td>M</td>\n",
       "      <td>...</td>\n",
       "      <td>CAR_OTHER</td>\n",
       "      <td>49</td>\n",
       "      <td>NONE</td>\n",
       "      <td>OWN</td>\n",
       "      <td>2</td>\n",
       "      <td>3</td>\n",
       "      <td>1</td>\n",
       "      <td>0</td>\n",
       "      <td>1</td>\n",
       "      <td>1</td>\n",
       "    </tr>\n",
       "    <tr>\n",
       "      <th>4</th>\n",
       "      <td>491563</td>\n",
       "      <td>NO_CHECKING</td>\n",
       "      <td>420</td>\n",
       "      <td>OUTSTANDING_CREDIT</td>\n",
       "      <td>FURNITURE</td>\n",
       "      <td>3763</td>\n",
       "      <td>396.26</td>\n",
       "      <td>4</td>\n",
       "      <td>3</td>\n",
       "      <td>F</td>\n",
       "      <td>...</td>\n",
       "      <td>CAR_OTHER</td>\n",
       "      <td>46</td>\n",
       "      <td>STORES</td>\n",
       "      <td>OWN</td>\n",
       "      <td>1</td>\n",
       "      <td>1</td>\n",
       "      <td>2</td>\n",
       "      <td>1</td>\n",
       "      <td>1</td>\n",
       "      <td>1</td>\n",
       "    </tr>\n",
       "  </tbody>\n",
       "</table>\n",
       "<p>5 rows × 22 columns</p>\n",
       "</div>"
      ],
      "text/plain": [
       "        ID CHECKING_BALANCE  PAYMENT_TERM          CREDIT_HISTORY  \\\n",
       "0  1078506            25.84           465              NO_CREDITS   \n",
       "1   947575          -439.72           120   ALL_CREDITS_PAID_BACK   \n",
       "2   133043           169.45           527  PRIOR_PAYMENTS_DELAYED   \n",
       "3  1031383      NO_CHECKING           720      OUTSTANDING_CREDIT   \n",
       "4   491563      NO_CHECKING           420      OUTSTANDING_CREDIT   \n",
       "\n",
       "  LOAN_PURPOSE  LOAN_AMOUNT EXISTING_SAVINGS  EMPLOYMENT_DURATION  \\\n",
       "0      CAR_NEW          250            38.35                    0   \n",
       "1      CAR_NEW          250             1.62                    0   \n",
       "2     RADIO_TV         2207           184.97                    6   \n",
       "3     CAR_USED         5064           731.03                    6   \n",
       "4    FURNITURE         3763           396.26                    4   \n",
       "\n",
       "   INSTALLMENT_PERCENT SEX  ...           PROPERTY  AGE INSTALLMENT_PLANS  \\\n",
       "0                    1   F  ...        REAL_ESTATE   32            STORES   \n",
       "1                    2   M  ...        REAL_ESTATE   25            STORES   \n",
       "2                    2   M  ...  SAVINGS_INSURANCE   32            STORES   \n",
       "3                    4   M  ...          CAR_OTHER   49              NONE   \n",
       "4                    3   F  ...          CAR_OTHER   46            STORES   \n",
       "\n",
       "   HOUSING EXISTING_CREDITS_COUNT JOB_TYPE  DEPENDENTS  TELEPHONE  \\\n",
       "0      OWN                      1        3           1          0   \n",
       "1     RENT                      1        3           1          0   \n",
       "2      OWN                      2        1           2          0   \n",
       "3      OWN                      2        3           1          0   \n",
       "4      OWN                      1        1           2          1   \n",
       "\n",
       "   FOREIGN_WORKER  ALLOW  \n",
       "0               1      1  \n",
       "1               1      1  \n",
       "2               1      1  \n",
       "3               1      1  \n",
       "4               1      1  \n",
       "\n",
       "[5 rows x 22 columns]"
      ]
     },
     "execution_count": 390,
     "metadata": {},
     "output_type": "execute_result"
    }
   ],
   "source": [
    "df_teste = pd.read_csv('datasets/answers_done.csv')\n",
    "df_teste.head()"
   ]
  },
  {
   "cell_type": "code",
   "execution_count": null,
   "id": "fd943167",
   "metadata": {},
   "outputs": [],
   "source": []
  }
 ],
 "metadata": {
  "kernelspec": {
   "display_name": "Python 3 (ipykernel)",
   "language": "python",
   "name": "python3"
  },
  "language_info": {
   "codemirror_mode": {
    "name": "ipython",
    "version": 3
   },
   "file_extension": ".py",
   "mimetype": "text/x-python",
   "name": "python",
   "nbconvert_exporter": "python",
   "pygments_lexer": "ipython3",
   "version": "3.8.12"
  }
 },
 "nbformat": 4,
 "nbformat_minor": 5
}
