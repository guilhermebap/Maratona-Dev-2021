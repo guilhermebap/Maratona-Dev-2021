{
 "cells": [
  {
   "cell_type": "markdown",
   "id": "b1b17a38",
   "metadata": {},
   "source": [
    "# Maratona DEV - Challenge 05\n",
    "\n",
    "## Objetivo:\n",
    "O desafio consiste de implementar um algoritmo de Machine Learning para classificação binária, capaz de identificar se um cliente será perdido (churn) ou não.\n",
    "\n",
    "Link: https://github.com/maratonadev/desafio-5-2021"
   ]
  },
  {
   "cell_type": "markdown",
   "id": "e1a31fd8",
   "metadata": {},
   "source": [
    "## 1 - Importando as bibliotecas"
   ]
  },
  {
   "cell_type": "code",
   "execution_count": 242,
   "id": "09b684dd",
   "metadata": {},
   "outputs": [],
   "source": [
    "from collections import Counter\n",
    "import numpy as np\n",
    "import pandas as pd\n",
    "import matplotlib.pyplot as plt\n",
    "import seaborn as sns\n",
    "\n",
    "from sklearn.model_selection import train_test_split, RandomizedSearchCV\n",
    "from sklearn.pipeline import Pipeline\n",
    "from sklearn.dummy import DummyClassifier\n",
    "from sklearn.base import BaseEstimator, TransformerMixin\n",
    "from sklearn.tree import DecisionTreeClassifier\n",
    "from sklearn.preprocessing import OneHotEncoder, StandardScaler\n",
    "from sklearn.impute import SimpleImputer\n",
    "from sklearn.metrics import f1_score\n",
    "from sklearn.compose import ColumnTransformer\n",
    "from sklearn.feature_selection import SelectKBest\n",
    "from sklearn.ensemble import AdaBoostClassifier, BaggingClassifier, ExtraTreesClassifier, GradientBoostingClassifier\n",
    "from sklearn.ensemble import RandomForestClassifier, HistGradientBoostingClassifier\n",
    "\n",
    "from imblearn.over_sampling import RandomOverSampler, SMOTE, SMOTENC, ADASYN\n",
    "from imblearn.pipeline import Pipeline as pipe\n",
    "\n",
    "sns.set()"
   ]
  },
  {
   "cell_type": "markdown",
   "id": "f6cd4912",
   "metadata": {},
   "source": [
    "## 2 - Carregando as Bases de dados"
   ]
  },
  {
   "cell_type": "code",
   "execution_count": 2,
   "id": "8323b99d",
   "metadata": {},
   "outputs": [
    {
     "data": {
      "text/html": [
       "<div>\n",
       "<style scoped>\n",
       "    .dataframe tbody tr th:only-of-type {\n",
       "        vertical-align: middle;\n",
       "    }\n",
       "\n",
       "    .dataframe tbody tr th {\n",
       "        vertical-align: top;\n",
       "    }\n",
       "\n",
       "    .dataframe thead th {\n",
       "        text-align: right;\n",
       "    }\n",
       "</style>\n",
       "<table border=\"1\" class=\"dataframe\">\n",
       "  <thead>\n",
       "    <tr style=\"text-align: right;\">\n",
       "      <th></th>\n",
       "      <th>ID</th>\n",
       "      <th>GENDER</th>\n",
       "      <th>SENIORCITIZEN</th>\n",
       "      <th>PARTNER</th>\n",
       "      <th>DEPENDENTS</th>\n",
       "      <th>TENURE</th>\n",
       "      <th>PHONESERVICE</th>\n",
       "      <th>MULTIPLELINES</th>\n",
       "      <th>INTERNETSERVICE</th>\n",
       "      <th>ONLINESECURITY</th>\n",
       "      <th>...</th>\n",
       "      <th>DEVICEPROTECTION</th>\n",
       "      <th>TECHSUPPORT</th>\n",
       "      <th>STREAMINGTV</th>\n",
       "      <th>STREAMINGMOVIES</th>\n",
       "      <th>CONTRACT</th>\n",
       "      <th>PAPERLESSBILLING</th>\n",
       "      <th>PAYMENTMETHOD</th>\n",
       "      <th>MONTHLYCHARGES</th>\n",
       "      <th>TOTALCHARGES</th>\n",
       "      <th>CHURN</th>\n",
       "    </tr>\n",
       "  </thead>\n",
       "  <tbody>\n",
       "    <tr>\n",
       "      <th>0</th>\n",
       "      <td>3418</td>\n",
       "      <td>Female</td>\n",
       "      <td>0.0</td>\n",
       "      <td>No</td>\n",
       "      <td>No</td>\n",
       "      <td>26.0</td>\n",
       "      <td>Yes</td>\n",
       "      <td>No</td>\n",
       "      <td>DSL</td>\n",
       "      <td>No</td>\n",
       "      <td>...</td>\n",
       "      <td>Yes</td>\n",
       "      <td>No</td>\n",
       "      <td>No</td>\n",
       "      <td>No</td>\n",
       "      <td>Month-to-month</td>\n",
       "      <td>Yes</td>\n",
       "      <td>Credit card (automatic)</td>\n",
       "      <td>131.55</td>\n",
       "      <td>1483.7</td>\n",
       "      <td>No</td>\n",
       "    </tr>\n",
       "    <tr>\n",
       "      <th>1</th>\n",
       "      <td>6865</td>\n",
       "      <td>Male</td>\n",
       "      <td>0.0</td>\n",
       "      <td>No</td>\n",
       "      <td>No</td>\n",
       "      <td>39.0</td>\n",
       "      <td>Yes</td>\n",
       "      <td>Yes</td>\n",
       "      <td>Fiber optic</td>\n",
       "      <td>No</td>\n",
       "      <td>...</td>\n",
       "      <td>No</td>\n",
       "      <td>No</td>\n",
       "      <td>No</td>\n",
       "      <td>No</td>\n",
       "      <td>Month-to-month</td>\n",
       "      <td>Yes</td>\n",
       "      <td>Credit card (automatic)</td>\n",
       "      <td>79.61</td>\n",
       "      <td>2737.31</td>\n",
       "      <td>No</td>\n",
       "    </tr>\n",
       "    <tr>\n",
       "      <th>2</th>\n",
       "      <td>2799</td>\n",
       "      <td>Male</td>\n",
       "      <td>0.0</td>\n",
       "      <td>No</td>\n",
       "      <td>No</td>\n",
       "      <td>1.0</td>\n",
       "      <td>Yes</td>\n",
       "      <td>No</td>\n",
       "      <td>No</td>\n",
       "      <td>No internet service</td>\n",
       "      <td>...</td>\n",
       "      <td>No internet service</td>\n",
       "      <td>No internet service</td>\n",
       "      <td>No internet service</td>\n",
       "      <td>No internet service</td>\n",
       "      <td>Month-to-month</td>\n",
       "      <td>No</td>\n",
       "      <td>Credit card (automatic)</td>\n",
       "      <td>9.26</td>\n",
       "      <td>9.26</td>\n",
       "      <td>No</td>\n",
       "    </tr>\n",
       "    <tr>\n",
       "      <th>3</th>\n",
       "      <td>1584</td>\n",
       "      <td>Male</td>\n",
       "      <td>0.0</td>\n",
       "      <td>Yes</td>\n",
       "      <td>Yes</td>\n",
       "      <td>66.0</td>\n",
       "      <td>Yes</td>\n",
       "      <td>Yes</td>\n",
       "      <td>No</td>\n",
       "      <td>No internet service</td>\n",
       "      <td>...</td>\n",
       "      <td>No internet service</td>\n",
       "      <td>No internet service</td>\n",
       "      <td>No internet service</td>\n",
       "      <td>No internet service</td>\n",
       "      <td>Two year</td>\n",
       "      <td>Yes</td>\n",
       "      <td>Credit card (automatic)</td>\n",
       "      <td>42.14</td>\n",
       "      <td>1689.19</td>\n",
       "      <td>No</td>\n",
       "    </tr>\n",
       "    <tr>\n",
       "      <th>4</th>\n",
       "      <td>9997</td>\n",
       "      <td>Male</td>\n",
       "      <td>0.0</td>\n",
       "      <td>No</td>\n",
       "      <td>No</td>\n",
       "      <td>56.0</td>\n",
       "      <td>Yes</td>\n",
       "      <td>Yes</td>\n",
       "      <td>Fiber optic</td>\n",
       "      <td>No</td>\n",
       "      <td>...</td>\n",
       "      <td>No</td>\n",
       "      <td>No</td>\n",
       "      <td>Yes</td>\n",
       "      <td>Yes</td>\n",
       "      <td>Month-to-month</td>\n",
       "      <td>No</td>\n",
       "      <td>Electronic check</td>\n",
       "      <td>126.24</td>\n",
       "      <td>5608.69</td>\n",
       "      <td>No</td>\n",
       "    </tr>\n",
       "  </tbody>\n",
       "</table>\n",
       "<p>5 rows × 21 columns</p>\n",
       "</div>"
      ],
      "text/plain": [
       "     ID  GENDER  SENIORCITIZEN PARTNER DEPENDENTS  TENURE PHONESERVICE  \\\n",
       "0  3418  Female            0.0      No         No    26.0          Yes   \n",
       "1  6865    Male            0.0      No         No    39.0          Yes   \n",
       "2  2799    Male            0.0      No         No     1.0          Yes   \n",
       "3  1584    Male            0.0     Yes        Yes    66.0          Yes   \n",
       "4  9997    Male            0.0      No         No    56.0          Yes   \n",
       "\n",
       "  MULTIPLELINES INTERNETSERVICE       ONLINESECURITY  ...  \\\n",
       "0            No             DSL                   No  ...   \n",
       "1           Yes     Fiber optic                   No  ...   \n",
       "2            No              No  No internet service  ...   \n",
       "3           Yes              No  No internet service  ...   \n",
       "4           Yes     Fiber optic                   No  ...   \n",
       "\n",
       "      DEVICEPROTECTION          TECHSUPPORT          STREAMINGTV  \\\n",
       "0                  Yes                   No                   No   \n",
       "1                   No                   No                   No   \n",
       "2  No internet service  No internet service  No internet service   \n",
       "3  No internet service  No internet service  No internet service   \n",
       "4                   No                   No                  Yes   \n",
       "\n",
       "       STREAMINGMOVIES        CONTRACT PAPERLESSBILLING  \\\n",
       "0                   No  Month-to-month              Yes   \n",
       "1                   No  Month-to-month              Yes   \n",
       "2  No internet service  Month-to-month               No   \n",
       "3  No internet service        Two year              Yes   \n",
       "4                  Yes  Month-to-month               No   \n",
       "\n",
       "             PAYMENTMETHOD MONTHLYCHARGES  TOTALCHARGES CHURN  \n",
       "0  Credit card (automatic)         131.55        1483.7    No  \n",
       "1  Credit card (automatic)          79.61       2737.31    No  \n",
       "2  Credit card (automatic)           9.26          9.26    No  \n",
       "3  Credit card (automatic)          42.14       1689.19    No  \n",
       "4         Electronic check         126.24       5608.69    No  \n",
       "\n",
       "[5 rows x 21 columns]"
      ]
     },
     "execution_count": 2,
     "metadata": {},
     "output_type": "execute_result"
    }
   ],
   "source": [
    "df = pd.read_csv('datasets/dataset.csv')\n",
    "df.head()"
   ]
  },
  {
   "cell_type": "code",
   "execution_count": 3,
   "id": "b1d275c6",
   "metadata": {},
   "outputs": [
    {
     "data": {
      "text/html": [
       "<div>\n",
       "<style scoped>\n",
       "    .dataframe tbody tr th:only-of-type {\n",
       "        vertical-align: middle;\n",
       "    }\n",
       "\n",
       "    .dataframe tbody tr th {\n",
       "        vertical-align: top;\n",
       "    }\n",
       "\n",
       "    .dataframe thead th {\n",
       "        text-align: right;\n",
       "    }\n",
       "</style>\n",
       "<table border=\"1\" class=\"dataframe\">\n",
       "  <thead>\n",
       "    <tr style=\"text-align: right;\">\n",
       "      <th></th>\n",
       "      <th>ID</th>\n",
       "      <th>GENDER</th>\n",
       "      <th>SENIORCITIZEN</th>\n",
       "      <th>PARTNER</th>\n",
       "      <th>DEPENDENTS</th>\n",
       "      <th>TENURE</th>\n",
       "      <th>PHONESERVICE</th>\n",
       "      <th>MULTIPLELINES</th>\n",
       "      <th>INTERNETSERVICE</th>\n",
       "      <th>ONLINESECURITY</th>\n",
       "      <th>...</th>\n",
       "      <th>DEVICEPROTECTION</th>\n",
       "      <th>TECHSUPPORT</th>\n",
       "      <th>STREAMINGTV</th>\n",
       "      <th>STREAMINGMOVIES</th>\n",
       "      <th>CONTRACT</th>\n",
       "      <th>PAPERLESSBILLING</th>\n",
       "      <th>PAYMENTMETHOD</th>\n",
       "      <th>MONTHLYCHARGES</th>\n",
       "      <th>TOTALCHARGES</th>\n",
       "      <th>CHURN</th>\n",
       "    </tr>\n",
       "  </thead>\n",
       "  <tbody>\n",
       "    <tr>\n",
       "      <th>0</th>\n",
       "      <td>6946</td>\n",
       "      <td>Female</td>\n",
       "      <td>0</td>\n",
       "      <td>No</td>\n",
       "      <td>No</td>\n",
       "      <td>3</td>\n",
       "      <td>Yes</td>\n",
       "      <td>No</td>\n",
       "      <td>No</td>\n",
       "      <td>No internet service</td>\n",
       "      <td>...</td>\n",
       "      <td>No internet service</td>\n",
       "      <td>No internet service</td>\n",
       "      <td>No internet service</td>\n",
       "      <td>No internet service</td>\n",
       "      <td>Month-to-month</td>\n",
       "      <td>No</td>\n",
       "      <td>Electronic check</td>\n",
       "      <td>51.71</td>\n",
       "      <td>90.81</td>\n",
       "      <td>TO_FILL</td>\n",
       "    </tr>\n",
       "    <tr>\n",
       "      <th>1</th>\n",
       "      <td>2228</td>\n",
       "      <td>Male</td>\n",
       "      <td>0</td>\n",
       "      <td>No</td>\n",
       "      <td>No</td>\n",
       "      <td>47</td>\n",
       "      <td>Yes</td>\n",
       "      <td>No</td>\n",
       "      <td>No</td>\n",
       "      <td>No internet service</td>\n",
       "      <td>...</td>\n",
       "      <td>No internet service</td>\n",
       "      <td>No internet service</td>\n",
       "      <td>No internet service</td>\n",
       "      <td>No internet service</td>\n",
       "      <td>Two year</td>\n",
       "      <td>No</td>\n",
       "      <td>Bank transfer (automatic)</td>\n",
       "      <td>57.05</td>\n",
       "      <td>979.6</td>\n",
       "      <td>TO_FILL</td>\n",
       "    </tr>\n",
       "    <tr>\n",
       "      <th>2</th>\n",
       "      <td>3591</td>\n",
       "      <td>Male</td>\n",
       "      <td>0</td>\n",
       "      <td>Yes</td>\n",
       "      <td>No</td>\n",
       "      <td>62</td>\n",
       "      <td>Yes</td>\n",
       "      <td>Yes</td>\n",
       "      <td>Fiber optic</td>\n",
       "      <td>Yes</td>\n",
       "      <td>...</td>\n",
       "      <td>No</td>\n",
       "      <td>No</td>\n",
       "      <td>No</td>\n",
       "      <td>Yes</td>\n",
       "      <td>One year</td>\n",
       "      <td>No</td>\n",
       "      <td>Electronic check</td>\n",
       "      <td>235.56</td>\n",
       "      <td>6140.91</td>\n",
       "      <td>TO_FILL</td>\n",
       "    </tr>\n",
       "    <tr>\n",
       "      <th>3</th>\n",
       "      <td>1153</td>\n",
       "      <td>Male</td>\n",
       "      <td>0</td>\n",
       "      <td>No</td>\n",
       "      <td>Yes</td>\n",
       "      <td>1</td>\n",
       "      <td>Yes</td>\n",
       "      <td>Yes</td>\n",
       "      <td>Fiber optic</td>\n",
       "      <td>No</td>\n",
       "      <td>...</td>\n",
       "      <td>No</td>\n",
       "      <td>No</td>\n",
       "      <td>No</td>\n",
       "      <td>No</td>\n",
       "      <td>Month-to-month</td>\n",
       "      <td>Yes</td>\n",
       "      <td>Electronic check</td>\n",
       "      <td>142.25</td>\n",
       "      <td>142.25</td>\n",
       "      <td>TO_FILL</td>\n",
       "    </tr>\n",
       "    <tr>\n",
       "      <th>4</th>\n",
       "      <td>5227</td>\n",
       "      <td>Male</td>\n",
       "      <td>0</td>\n",
       "      <td>No</td>\n",
       "      <td>No</td>\n",
       "      <td>24</td>\n",
       "      <td>Yes</td>\n",
       "      <td>No</td>\n",
       "      <td>DSL</td>\n",
       "      <td>Yes</td>\n",
       "      <td>...</td>\n",
       "      <td>No</td>\n",
       "      <td>Yes</td>\n",
       "      <td>No</td>\n",
       "      <td>No</td>\n",
       "      <td>Month-to-month</td>\n",
       "      <td>No</td>\n",
       "      <td>Electronic check</td>\n",
       "      <td>105.40</td>\n",
       "      <td>1398.95</td>\n",
       "      <td>TO_FILL</td>\n",
       "    </tr>\n",
       "  </tbody>\n",
       "</table>\n",
       "<p>5 rows × 21 columns</p>\n",
       "</div>"
      ],
      "text/plain": [
       "     ID  GENDER  SENIORCITIZEN PARTNER DEPENDENTS  TENURE PHONESERVICE  \\\n",
       "0  6946  Female              0      No         No       3          Yes   \n",
       "1  2228    Male              0      No         No      47          Yes   \n",
       "2  3591    Male              0     Yes         No      62          Yes   \n",
       "3  1153    Male              0      No        Yes       1          Yes   \n",
       "4  5227    Male              0      No         No      24          Yes   \n",
       "\n",
       "  MULTIPLELINES INTERNETSERVICE       ONLINESECURITY  ...  \\\n",
       "0            No              No  No internet service  ...   \n",
       "1            No              No  No internet service  ...   \n",
       "2           Yes     Fiber optic                  Yes  ...   \n",
       "3           Yes     Fiber optic                   No  ...   \n",
       "4            No             DSL                  Yes  ...   \n",
       "\n",
       "      DEVICEPROTECTION          TECHSUPPORT          STREAMINGTV  \\\n",
       "0  No internet service  No internet service  No internet service   \n",
       "1  No internet service  No internet service  No internet service   \n",
       "2                   No                   No                   No   \n",
       "3                   No                   No                   No   \n",
       "4                   No                  Yes                   No   \n",
       "\n",
       "       STREAMINGMOVIES        CONTRACT PAPERLESSBILLING  \\\n",
       "0  No internet service  Month-to-month               No   \n",
       "1  No internet service        Two year               No   \n",
       "2                  Yes        One year               No   \n",
       "3                   No  Month-to-month              Yes   \n",
       "4                   No  Month-to-month               No   \n",
       "\n",
       "               PAYMENTMETHOD MONTHLYCHARGES  TOTALCHARGES    CHURN  \n",
       "0           Electronic check          51.71         90.81  TO_FILL  \n",
       "1  Bank transfer (automatic)          57.05         979.6  TO_FILL  \n",
       "2           Electronic check         235.56       6140.91  TO_FILL  \n",
       "3           Electronic check         142.25        142.25  TO_FILL  \n",
       "4           Electronic check         105.40       1398.95  TO_FILL  \n",
       "\n",
       "[5 rows x 21 columns]"
      ]
     },
     "execution_count": 3,
     "metadata": {},
     "output_type": "execute_result"
    }
   ],
   "source": [
    "answers = pd.read_csv('datasets/answers.csv')\n",
    "answers.head()"
   ]
  },
  {
   "cell_type": "markdown",
   "id": "502afc14",
   "metadata": {},
   "source": [
    "## 3 - Explorando a base de dados"
   ]
  },
  {
   "cell_type": "code",
   "execution_count": 4,
   "id": "eebb6d46",
   "metadata": {},
   "outputs": [
    {
     "name": "stdout",
     "output_type": "stream",
     "text": [
      "O dataset df possui 4548 linhas e 21 atributos\n",
      "O dataset answers possui 1324 linhas e 21 atributos\n"
     ]
    }
   ],
   "source": [
    "print(f'O dataset df possui {df.shape[0]} linhas e {df.shape[1]} atributos')\n",
    "print(f'O dataset answers possui {answers.shape[0]} linhas e {answers.shape[1]} atributos')"
   ]
  },
  {
   "cell_type": "code",
   "execution_count": 5,
   "id": "6d814d8e",
   "metadata": {},
   "outputs": [
    {
     "name": "stdout",
     "output_type": "stream",
     "text": [
      "<class 'pandas.core.frame.DataFrame'>\n",
      "RangeIndex: 4548 entries, 0 to 4547\n",
      "Data columns (total 21 columns):\n",
      " #   Column            Non-Null Count  Dtype  \n",
      "---  ------            --------------  -----  \n",
      " 0   ID                4548 non-null   int64  \n",
      " 1   GENDER            4520 non-null   object \n",
      " 2   SENIORCITIZEN     4523 non-null   float64\n",
      " 3   PARTNER           4524 non-null   object \n",
      " 4   DEPENDENTS        4526 non-null   object \n",
      " 5   TENURE            4533 non-null   float64\n",
      " 6   PHONESERVICE      4520 non-null   object \n",
      " 7   MULTIPLELINES     4523 non-null   object \n",
      " 8   INTERNETSERVICE   4524 non-null   object \n",
      " 9   ONLINESECURITY    4518 non-null   object \n",
      " 10  ONLINEBACKUP      4518 non-null   object \n",
      " 11  DEVICEPROTECTION  4524 non-null   object \n",
      " 12  TECHSUPPORT       4530 non-null   object \n",
      " 13  STREAMINGTV       4523 non-null   object \n",
      " 14  STREAMINGMOVIES   4523 non-null   object \n",
      " 15  CONTRACT          4525 non-null   object \n",
      " 16  PAPERLESSBILLING  4517 non-null   object \n",
      " 17  PAYMENTMETHOD     4520 non-null   object \n",
      " 18  MONTHLYCHARGES    4527 non-null   float64\n",
      " 19  TOTALCHARGES      4527 non-null   object \n",
      " 20  CHURN             4548 non-null   object \n",
      "dtypes: float64(3), int64(1), object(17)\n",
      "memory usage: 746.3+ KB\n"
     ]
    }
   ],
   "source": [
    "df.info()"
   ]
  },
  {
   "cell_type": "code",
   "execution_count": 6,
   "id": "f198e150",
   "metadata": {},
   "outputs": [
    {
     "data": {
      "text/plain": [
       "NaN        21\n",
       "            3\n",
       "198.57      2\n",
       "980.2       2\n",
       "1028.63     2\n",
       "Name: TOTALCHARGES, dtype: int64"
      ]
     },
     "execution_count": 6,
     "metadata": {},
     "output_type": "execute_result"
    }
   ],
   "source": [
    "df['TOTALCHARGES'].value_counts(dropna=False)[:5]"
   ]
  },
  {
   "cell_type": "code",
   "execution_count": 7,
   "id": "5ab4a844",
   "metadata": {},
   "outputs": [
    {
     "name": "stdout",
     "output_type": "stream",
     "text": [
      "NaN       24\n",
      "105.72     2\n",
      "5.75       2\n",
      "695.3      2\n",
      "174.67     2\n",
      "Name: TOTALCHARGES, dtype: int64\n"
     ]
    }
   ],
   "source": [
    "df['TOTALCHARGES'].replace(' ', np.nan, inplace=True)\n",
    "print(df['TOTALCHARGES'].value_counts(dropna=False)[:5])\n",
    "df['TOTALCHARGES'] = df['TOTALCHARGES'].astype('float')"
   ]
  },
  {
   "cell_type": "code",
   "execution_count": 8,
   "id": "befeb784",
   "metadata": {},
   "outputs": [],
   "source": [
    "df = df.convert_dtypes()\n",
    "df['ID'] = df['ID'].astype('object')"
   ]
  },
  {
   "cell_type": "code",
   "execution_count": 9,
   "id": "1b12ee51",
   "metadata": {},
   "outputs": [
    {
     "data": {
      "text/plain": [
       "Index(['GENDER', 'PARTNER', 'DEPENDENTS', 'PHONESERVICE', 'MULTIPLELINES',\n",
       "       'INTERNETSERVICE', 'ONLINESECURITY', 'ONLINEBACKUP', 'DEVICEPROTECTION',\n",
       "       'TECHSUPPORT', 'STREAMINGTV', 'STREAMINGMOVIES', 'CONTRACT',\n",
       "       'PAPERLESSBILLING', 'PAYMENTMETHOD', 'CHURN'],\n",
       "      dtype='object')"
      ]
     },
     "execution_count": 9,
     "metadata": {},
     "output_type": "execute_result"
    }
   ],
   "source": [
    "df.select_dtypes('string').columns"
   ]
  },
  {
   "cell_type": "code",
   "execution_count": 10,
   "id": "08b21abf",
   "metadata": {},
   "outputs": [
    {
     "data": {
      "text/plain": [
       "0    3337\n",
       "1    1211\n",
       "Name: CHURN, dtype: int64"
      ]
     },
     "execution_count": 10,
     "metadata": {},
     "output_type": "execute_result"
    }
   ],
   "source": [
    "df['CHURN'] = df['CHURN'].map({'Yes': 1, 'No': 0}, na_action='ignore')\n",
    "df['CHURN'].value_counts(dropna=False)"
   ]
  },
  {
   "cell_type": "code",
   "execution_count": 11,
   "id": "cbc94ce0",
   "metadata": {},
   "outputs": [
    {
     "data": {
      "text/plain": [
       "Index(['GENDER', 'SENIORCITIZEN', 'PARTNER', 'DEPENDENTS', 'TENURE',\n",
       "       'PHONESERVICE', 'MULTIPLELINES', 'INTERNETSERVICE', 'ONLINESECURITY',\n",
       "       'ONLINEBACKUP', 'DEVICEPROTECTION', 'TECHSUPPORT', 'STREAMINGTV',\n",
       "       'STREAMINGMOVIES', 'CONTRACT', 'PAPERLESSBILLING', 'PAYMENTMETHOD',\n",
       "       'MONTHLYCHARGES', 'TOTALCHARGES'],\n",
       "      dtype='object')"
      ]
     },
     "execution_count": 11,
     "metadata": {},
     "output_type": "execute_result"
    }
   ],
   "source": [
    "df.isna().sum()[df.isna().sum() > 0].index"
   ]
  },
  {
   "cell_type": "code",
   "execution_count": 12,
   "id": "981bc8e9",
   "metadata": {},
   "outputs": [
    {
     "data": {
      "text/plain": [
       "ID                   object\n",
       "GENDER               string\n",
       "SENIORCITIZEN         Int64\n",
       "PARTNER              string\n",
       "DEPENDENTS           string\n",
       "TENURE                Int64\n",
       "PHONESERVICE         string\n",
       "MULTIPLELINES        string\n",
       "INTERNETSERVICE      string\n",
       "ONLINESECURITY       string\n",
       "ONLINEBACKUP         string\n",
       "DEVICEPROTECTION     string\n",
       "TECHSUPPORT          string\n",
       "STREAMINGTV          string\n",
       "STREAMINGMOVIES      string\n",
       "CONTRACT             string\n",
       "PAPERLESSBILLING     string\n",
       "PAYMENTMETHOD        string\n",
       "MONTHLYCHARGES      Float64\n",
       "TOTALCHARGES        Float64\n",
       "CHURN                 int64\n",
       "dtype: object"
      ]
     },
     "execution_count": 12,
     "metadata": {},
     "output_type": "execute_result"
    }
   ],
   "source": [
    "df.dtypes"
   ]
  },
  {
   "cell_type": "code",
   "execution_count": 13,
   "id": "d208dcb2",
   "metadata": {},
   "outputs": [],
   "source": [
    "categorical_columns = df.select_dtypes('string').columns\n",
    "float_columns = ['MONTHLYCHARGES', 'TOTALCHARGES']\n",
    "int_columns = ['SENIORCITIZEN', 'TENURE']"
   ]
  },
  {
   "cell_type": "code",
   "execution_count": 14,
   "id": "165cb4a6",
   "metadata": {},
   "outputs": [
    {
     "data": {
      "text/plain": [
       "0    0.733729\n",
       "1    0.266271\n",
       "Name: CHURN, dtype: float64"
      ]
     },
     "execution_count": 14,
     "metadata": {},
     "output_type": "execute_result"
    }
   ],
   "source": [
    "df['CHURN'].value_counts(normalize=True)"
   ]
  },
  {
   "cell_type": "code",
   "execution_count": 15,
   "id": "b2fb89bd",
   "metadata": {},
   "outputs": [
    {
     "data": {
      "image/png": "[encoded data removed]",
      "text/plain": [
       "<Figure size 576x288 with 1 Axes>"
      ]
     },
     "metadata": {},
     "output_type": "display_data"
    }
   ],
   "source": [
    "fig, ax = plt.subplots(figsize=(8,4))\n",
    "sns.countplot(x='CHURN', data=df, ax=ax)\n",
    "plt.show()"
   ]
  },
  {
   "cell_type": "code",
   "execution_count": 16,
   "id": "5913933f",
   "metadata": {},
   "outputs": [
    {
     "data": {
      "image/png": "[encoded data removed]",
      "text/plain": [
       "<Figure size 576x288 with 1 Axes>"
      ]
     },
     "metadata": {},
     "output_type": "display_data"
    }
   ],
   "source": [
    "fig, ax = plt.subplots(figsize=(8,4))\n",
    "sns.countplot(x='GENDER', data=df, ax=ax)\n",
    "plt.show()"
   ]
  },
  {
   "cell_type": "code",
   "execution_count": 17,
   "id": "c554fda4",
   "metadata": {},
   "outputs": [
    {
     "data": {
      "image/png": "[encoded data removed]",
      "text/plain": [
       "<Figure size 576x288 with 1 Axes>"
      ]
     },
     "metadata": {},
     "output_type": "display_data"
    }
   ],
   "source": [
    "fig, ax = plt.subplots(figsize=(8,4))\n",
    "sns.countplot(x='DEPENDENTS', data=df, ax=ax)\n",
    "plt.show()"
   ]
  },
  {
   "cell_type": "code",
   "execution_count": 18,
   "id": "2551a190",
   "metadata": {},
   "outputs": [
    {
     "data": {
      "image/png": "[encoded data removed]",
      "text/plain": [
       "<Figure size 576x288 with 1 Axes>"
      ]
     },
     "metadata": {},
     "output_type": "display_data"
    }
   ],
   "source": [
    "fig, ax = plt.subplots(figsize=(8,4))\n",
    "sns.countplot(x='CONTRACT', data=df, ax=ax)\n",
    "plt.show()"
   ]
  },
  {
   "cell_type": "code",
   "execution_count": 19,
   "id": "a23dc910",
   "metadata": {},
   "outputs": [
    {
     "data": {
      "image/png": "[encoded data removed]",
      "text/plain": [
       "<Figure size 576x288 with 1 Axes>"
      ]
     },
     "metadata": {},
     "output_type": "display_data"
    }
   ],
   "source": [
    "fig, ax = plt.subplots(figsize=(8,4))\n",
    "sns.countplot(x='PAYMENTMETHOD', data=df, ax=ax)\n",
    "plt.show()"
   ]
  },
  {
   "cell_type": "code",
   "execution_count": 20,
   "id": "6657931f",
   "metadata": {},
   "outputs": [
    {
     "data": {
      "image/png": "[encoded data removed]",
      "text/plain": [
       "<Figure size 576x288 with 1 Axes>"
      ]
     },
     "metadata": {},
     "output_type": "display_data"
    }
   ],
   "source": [
    "fig, ax = plt.subplots(figsize=(8,4))\n",
    "sns.countplot(x='DEPENDENTS', data=df, ax=ax)\n",
    "plt.show()"
   ]
  },
  {
   "cell_type": "code",
   "execution_count": 21,
   "id": "aa887d3d",
   "metadata": {
    "scrolled": true
   },
   "outputs": [
    {
     "data": {
      "image/png": "[encoded data removed]",
      "text/plain": [
       "<Figure size 576x288 with 1 Axes>"
      ]
     },
     "metadata": {},
     "output_type": "display_data"
    }
   ],
   "source": [
    "fig, ax = plt.subplots(figsize=(8,4))\n",
    "sns.boxplot(x='TENURE', data=df, ax=ax)\n",
    "plt.show()"
   ]
  },
  {
   "cell_type": "code",
   "execution_count": 22,
   "id": "481597dd",
   "metadata": {},
   "outputs": [
    {
     "data": {
      "image/png": "[encoded data removed]",
      "text/plain": [
       "<Figure size 576x288 with 1 Axes>"
      ]
     },
     "metadata": {},
     "output_type": "display_data"
    }
   ],
   "source": [
    "fig, ax = plt.subplots(figsize=(8,4))\n",
    "sns.boxplot(x='MONTHLYCHARGES', data=df, ax=ax)\n",
    "plt.show()"
   ]
  },
  {
   "cell_type": "code",
   "execution_count": 23,
   "id": "3aec3b67",
   "metadata": {},
   "outputs": [
    {
     "data": {
      "image/png": "[encoded data removed]",
      "text/plain": [
       "<Figure size 576x288 with 1 Axes>"
      ]
     },
     "metadata": {},
     "output_type": "display_data"
    }
   ],
   "source": [
    "fig, ax = plt.subplots(figsize=(8,4))\n",
    "sns.boxplot(x='TOTALCHARGES', data=df, ax=ax)\n",
    "plt.show()"
   ]
  },
  {
   "cell_type": "code",
   "execution_count": 24,
   "id": "7bd2dee6",
   "metadata": {
    "scrolled": false
   },
   "outputs": [
    {
     "data": {
      "text/plain": [
       "ID                   0\n",
       "GENDER              28\n",
       "SENIORCITIZEN       25\n",
       "PARTNER             24\n",
       "DEPENDENTS          22\n",
       "TENURE              15\n",
       "PHONESERVICE        28\n",
       "MULTIPLELINES       25\n",
       "INTERNETSERVICE     24\n",
       "ONLINESECURITY      30\n",
       "ONLINEBACKUP        30\n",
       "DEVICEPROTECTION    24\n",
       "TECHSUPPORT         18\n",
       "STREAMINGTV         25\n",
       "STREAMINGMOVIES     25\n",
       "CONTRACT            23\n",
       "PAPERLESSBILLING    31\n",
       "PAYMENTMETHOD       28\n",
       "MONTHLYCHARGES      21\n",
       "TOTALCHARGES        24\n",
       "CHURN                0\n",
       "dtype: int64"
      ]
     },
     "execution_count": 24,
     "metadata": {},
     "output_type": "execute_result"
    }
   ],
   "source": [
    "df.isna().sum()"
   ]
  },
  {
   "cell_type": "code",
   "execution_count": 25,
   "id": "54e7479d",
   "metadata": {},
   "outputs": [
    {
     "name": "stdout",
     "output_type": "stream",
     "text": [
      "Male      2271\n",
      "Female    2249\n",
      "NaN         28\n",
      "Name: GENDER, dtype: Int64\n",
      "No     2319\n",
      "Yes    2205\n",
      "NaN      24\n",
      "Name: PARTNER, dtype: Int64\n",
      "No     3183\n",
      "Yes    1343\n",
      "NaN      22\n",
      "Name: DEPENDENTS, dtype: Int64\n",
      "Yes    4110\n",
      "No      410\n",
      "NaN      28\n",
      "Name: PHONESERVICE, dtype: Int64\n",
      "No                  2218\n",
      "Yes                 1897\n",
      "No phone service     408\n",
      "NaN                   25\n",
      "Name: MULTIPLELINES, dtype: Int64\n",
      "Fiber optic    1996\n",
      "DSL            1534\n",
      "No              994\n",
      "NaN              24\n",
      "Name: INTERNETSERVICE, dtype: Int64\n",
      "No                     2258\n",
      "Yes                    1264\n",
      "No internet service     996\n",
      "NaN                      30\n",
      "Name: ONLINESECURITY, dtype: Int64\n",
      "No                     2009\n",
      "Yes                    1514\n",
      "No internet service     995\n",
      "NaN                      30\n",
      "Name: ONLINEBACKUP, dtype: Int64\n",
      "No                     1985\n",
      "Yes                    1545\n",
      "No internet service     994\n",
      "NaN                      24\n",
      "Name: DEVICEPROTECTION, dtype: Int64\n",
      "No                     2240\n",
      "Yes                    1295\n",
      "No internet service     995\n",
      "NaN                      18\n",
      "Name: TECHSUPPORT, dtype: Int64\n",
      "No                     1795\n",
      "Yes                    1731\n",
      "No internet service     997\n",
      "NaN                      25\n",
      "Name: STREAMINGTV, dtype: Int64\n",
      "Yes                    1776\n",
      "No                     1754\n",
      "No internet service     993\n",
      "NaN                      25\n",
      "Name: STREAMINGMOVIES, dtype: Int64\n",
      "Month-to-month    2545\n",
      "Two year          1068\n",
      "One year           912\n",
      "NaN                 23\n",
      "Name: CONTRACT, dtype: Int64\n",
      "Yes    2699\n",
      "No     1818\n",
      "NaN      31\n",
      "Name: PAPERLESSBILLING, dtype: Int64\n",
      "Electronic check             1531\n",
      "Bank transfer (automatic)    1007\n",
      "Mailed check                 1000\n",
      "Credit card (automatic)       982\n",
      "NaN                            28\n",
      "Name: PAYMENTMETHOD, dtype: Int64\n"
     ]
    }
   ],
   "source": [
    "for col in categorical_columns:\n",
    "    print(df[col].value_counts(dropna=False))"
   ]
  },
  {
   "cell_type": "markdown",
   "id": "ec55ae35",
   "metadata": {},
   "source": [
    "## 4 - Modelo de ML"
   ]
  },
  {
   "cell_type": "code",
   "execution_count": 82,
   "id": "41b54ba7",
   "metadata": {},
   "outputs": [],
   "source": [
    "df.replace({pd.NA: np.nan}, inplace=True)\n",
    "#df = df.convert_dtypes()"
   ]
  },
  {
   "cell_type": "code",
   "execution_count": 68,
   "id": "5a3cb068",
   "metadata": {
    "scrolled": false
   },
   "outputs": [
    {
     "data": {
      "text/plain": [
       "ID                    int64\n",
       "GENDER               object\n",
       "SENIORCITIZEN       Float64\n",
       "PARTNER              object\n",
       "DEPENDENTS           object\n",
       "TENURE              Float64\n",
       "PHONESERVICE         object\n",
       "MULTIPLELINES        object\n",
       "INTERNETSERVICE      object\n",
       "ONLINESECURITY       object\n",
       "ONLINEBACKUP         object\n",
       "DEVICEPROTECTION     object\n",
       "TECHSUPPORT          object\n",
       "STREAMINGTV          object\n",
       "STREAMINGMOVIES      object\n",
       "CONTRACT             object\n",
       "PAPERLESSBILLING     object\n",
       "PAYMENTMETHOD        object\n",
       "MONTHLYCHARGES       object\n",
       "TOTALCHARGES         object\n",
       "CHURN                 int64\n",
       "dtype: object"
      ]
     },
     "execution_count": 68,
     "metadata": {},
     "output_type": "execute_result"
    }
   ],
   "source": [
    "df.dtypes"
   ]
  },
  {
   "cell_type": "code",
   "execution_count": 83,
   "id": "707dc485",
   "metadata": {},
   "outputs": [],
   "source": [
    "X = df.drop(['ID', 'CHURN'], axis=1)\n",
    "y = df['CHURN'].copy()"
   ]
  },
  {
   "cell_type": "markdown",
   "id": "76f29369",
   "metadata": {},
   "source": [
    "### 4.1 - Modelo Dummy"
   ]
  },
  {
   "cell_type": "markdown",
   "id": "3425d673",
   "metadata": {},
   "source": [
    "#### 4.11 - Modelo Dummy - Most frequent"
   ]
  },
  {
   "cell_type": "code",
   "execution_count": 84,
   "id": "29935bc9",
   "metadata": {
    "scrolled": false
   },
   "outputs": [
    {
     "name": "stdout",
     "output_type": "stream",
     "text": [
      "O score do modelo dummy most frequent é: 0.0\n"
     ]
    }
   ],
   "source": [
    "X_train, X_test, y_train, y_test = train_test_split(X, y, test_size=0.3, random_state=42)\n",
    "\n",
    "dummy_most_frequent = DummyClassifier(strategy='most_frequent', random_state=42)\n",
    "dummy_most_frequent.fit(X_train, y_train.values.ravel())\n",
    "y_pred = dummy_most_frequent.predict(X_test)\n",
    "score = f1_score(y_test, y_pred)\n",
    "print(f'O score do modelo dummy most frequent é: {score}')"
   ]
  },
  {
   "cell_type": "markdown",
   "id": "76a4ca9f",
   "metadata": {},
   "source": [
    "#### 4.12 - Modelo Dummy - stratified"
   ]
  },
  {
   "cell_type": "code",
   "execution_count": 85,
   "id": "287e9d1a",
   "metadata": {},
   "outputs": [
    {
     "name": "stdout",
     "output_type": "stream",
     "text": [
      "O score do modelo dummy most frequent é: 0.257328990228013\n"
     ]
    }
   ],
   "source": [
    "X_train, X_test, y_train, y_test = train_test_split(X, y, random_state=42)\n",
    "\n",
    "dummy_stratified = DummyClassifier(strategy='stratified', random_state=42)\n",
    "dummy_stratified.fit(X_train, y_train)\n",
    "y_pred = dummy_stratified.predict(X_test)\n",
    "score = f1_score(y_test, y_pred)\n",
    "print(f'O score do modelo dummy most frequent é: {score}')"
   ]
  },
  {
   "cell_type": "markdown",
   "id": "eda536b4",
   "metadata": {},
   "source": [
    "### 4.2 - Pipeline"
   ]
  },
  {
   "cell_type": "code",
   "execution_count": 33,
   "id": "ed7e8927",
   "metadata": {},
   "outputs": [],
   "source": [
    "categorical_columns = ['GENDER', 'PARTNER', 'DEPENDENTS', 'PHONESERVICE', 'MULTIPLELINES',\n",
    "       'INTERNETSERVICE', 'ONLINESECURITY', 'ONLINEBACKUP',\n",
    "       'DEVICEPROTECTION', 'TECHSUPPORT', 'STREAMINGTV',\n",
    "       'STREAMINGMOVIES', 'CONTRACT', 'PAPERLESSBILLING', 'PAYMENTMETHOD']"
   ]
  },
  {
   "cell_type": "code",
   "execution_count": 112,
   "id": "224964e2",
   "metadata": {},
   "outputs": [],
   "source": [
    "cat_trans = Pipeline(steps=[('impute', SimpleImputer(strategy='most_frequent')),\n",
    "                            ('encoder', OneHotEncoder(sparse=False, handle_unknown='ignore'))])\n",
    "\n",
    "float_trans = Pipeline(steps=[('impute', SimpleImputer(strategy='mean')),\n",
    "                              ('scaler', StandardScaler())])\n",
    "\n",
    "int_trans = Pipeline(steps=[('impute', SimpleImputer(strategy='median')),\n",
    "                            ('scaler', StandardScaler())])\n",
    "\n",
    "columns_transformation = ColumnTransformer([('cat', cat_trans, categorical_columns),\n",
    "                                            ('float', float_trans, float_columns),\n",
    "                                            ('int', int_trans, int_columns)])\n",
    "\n",
    "pipeline = Pipeline(steps=[('transformation', columns_transformation),\n",
    "                           ('selectFeatures', SelectKBest()),\n",
    "                           ('clf', DecisionTreeClassifier())])"
   ]
  },
  {
   "cell_type": "code",
   "execution_count": 118,
   "id": "612cce17",
   "metadata": {},
   "outputs": [
    {
     "name": "stdout",
     "output_type": "stream",
     "text": [
      "O score do modelo dummy most frequent é: 0.5138211382113822\n"
     ]
    }
   ],
   "source": [
    "X_train, X_test, y_train, y_test = train_test_split(X, y, random_state=42)\n",
    "\n",
    "pipeline.fit(X_train, y_train.values)\n",
    "y_pred = pipeline.predict(X_test)\n",
    "score = f1_score(y_test, y_pred)\n",
    "print(f'O score do modelo dummy most frequent é: {score}')"
   ]
  },
  {
   "cell_type": "markdown",
   "id": "a6fd7324",
   "metadata": {},
   "source": [
    "### 4.3 - Escolhendo o melhor modelo"
   ]
  },
  {
   "cell_type": "code",
   "execution_count": 160,
   "id": "a0f0d0d6",
   "metadata": {},
   "outputs": [],
   "source": [
    "cat_trans = Pipeline(steps=[('impute', SimpleImputer(strategy='most_frequent')),\n",
    "                            ('encoder', OneHotEncoder(sparse=False, handle_unknown='ignore'))])\n",
    "\n",
    "float_trans = Pipeline(steps=[('impute', SimpleImputer(strategy='mean')),\n",
    "                              ('scaler', StandardScaler())])\n",
    "\n",
    "int_trans = Pipeline(steps=[('impute', SimpleImputer(strategy='median')),\n",
    "                            ('scaler', StandardScaler())])\n",
    "\n",
    "columns_transformation = ColumnTransformer([('cat', cat_trans, categorical_columns),\n",
    "                                            ('float', float_trans, float_columns),\n",
    "                                            ('int', int_trans, int_columns)])\n",
    "\n",
    "pipeline = Pipeline(steps=[('transformation', columns_transformation),\n",
    "                           ('selectFeatures', SelectKBest()),\n",
    "                           ('clf', DecisionTreeClassifier())])"
   ]
  },
  {
   "cell_type": "code",
   "execution_count": 161,
   "id": "209b0cb4",
   "metadata": {},
   "outputs": [
    {
     "name": "stdout",
     "output_type": "stream",
     "text": [
      "O score do modelo é: 0.5057096247960848\n"
     ]
    }
   ],
   "source": [
    "X_train, X_test, y_train, y_test = train_test_split(X, y, random_state=42)\n",
    "\n",
    "pipeline.fit(X_train, y_train.values)\n",
    "y_pred = pipeline.predict(X_test)\n",
    "score = f1_score(y_test, y_pred)\n",
    "print(f'O score do modelo é: {score}')"
   ]
  },
  {
   "cell_type": "code",
   "execution_count": 165,
   "id": "80c80b51",
   "metadata": {},
   "outputs": [],
   "source": [
    "model1 = AdaBoostClassifier()\n",
    "model2 = BaggingClassifier()\n",
    "model3 = ExtraTreesClassifier()\n",
    "model4 = GradientBoostingClassifier()\n",
    "model5 = RandomForestClassifier()\n",
    "model6 = HistGradientBoostingClassifier()"
   ]
  },
  {
   "cell_type": "code",
   "execution_count": 166,
   "id": "2e9355fe",
   "metadata": {},
   "outputs": [],
   "source": [
    "lista_modelos = [model1, model2, model3, model4, model5, model6]"
   ]
  },
  {
   "cell_type": "code",
   "execution_count": 167,
   "id": "d4fa97f8",
   "metadata": {},
   "outputs": [],
   "source": [
    "def comparando_modelos(lista_modelos):\n",
    "    for modelo in lista_modelos:\n",
    "        cat_trans = Pipeline(steps=[('impute', SimpleImputer(strategy='most_frequent')),\n",
    "                                ('encoder', OneHotEncoder(sparse=False, handle_unknown='ignore'))])\n",
    "\n",
    "        float_trans = Pipeline(steps=[('impute', SimpleImputer(strategy='mean')),\n",
    "                                      ('scaler', StandardScaler())])\n",
    "\n",
    "        int_trans = Pipeline(steps=[('impute', SimpleImputer(strategy='median')),\n",
    "                                    ('scaler', StandardScaler())])\n",
    "\n",
    "        columns_transformation = ColumnTransformer([('cat', cat_trans, categorical_columns),\n",
    "                                                    ('float', float_trans, float_columns),\n",
    "                                                    ('int', int_trans, int_columns)])\n",
    "\n",
    "        pipeline = Pipeline(steps=[('transformation', columns_transformation),\n",
    "                                   ('selectFeatures', SelectKBest()),\n",
    "                                   ('clf', modelo)])\n",
    "\n",
    "        X_train, X_test, y_train, y_test = train_test_split(X, y, random_state=42)\n",
    "\n",
    "        pipeline.fit(X_train, y_train.values.ravel())\n",
    "        y_pred = pipeline.predict(X_test)\n",
    "        score = f1_score(y_test, y_pred)\n",
    "        print(f'O score do modelo {str(modelo)} é: {score}')    "
   ]
  },
  {
   "cell_type": "code",
   "execution_count": 168,
   "id": "65e4682c",
   "metadata": {},
   "outputs": [
    {
     "name": "stdout",
     "output_type": "stream",
     "text": [
      "O score do modelo AdaBoostClassifier() é: 0.5424354243542435\n",
      "O score do modelo BaggingClassifier() é: 0.5284280936454848\n",
      "O score do modelo ExtraTreesClassifier() é: 0.5188834154351396\n",
      "O score do modelo GradientBoostingClassifier() é: 0.5617173524150268\n",
      "O score do modelo RandomForestClassifier() é: 0.5165562913907286\n",
      "O score do modelo HistGradientBoostingClassifier() é: 0.5505226480836237\n"
     ]
    }
   ],
   "source": [
    "comparando_modelos(lista_modelos)"
   ]
  },
  {
   "cell_type": "markdown",
   "id": "b626bf29",
   "metadata": {},
   "source": [
    "### 4.4 - Tunando os hiper parametros"
   ]
  },
  {
   "cell_type": "code",
   "execution_count": 201,
   "id": "ff6b7e9a",
   "metadata": {},
   "outputs": [],
   "source": [
    "param_GradientBoostingClassifier = {'selectFeatures__k': np.arange(10, 40, 1),\n",
    "                                    'clf__min_samples_split': np.arange(2, 100, 2),\n",
    "                                    'clf__min_samples_leaf': np.arange(1, 50, 1),\n",
    "                                    'clf__max_depth': np.arange(2, 20, 1),\n",
    "                                    'clf__learning_rate': np.arange(0.01, 0.2, 0.01)}"
   ]
  },
  {
   "cell_type": "code",
   "execution_count": 202,
   "id": "04119d95",
   "metadata": {},
   "outputs": [],
   "source": [
    "cat_trans = Pipeline(steps=[('impute', SimpleImputer(strategy='most_frequent')),\n",
    "                            ('encoder', OneHotEncoder(sparse=False, handle_unknown='ignore'))])\n",
    "\n",
    "float_trans = Pipeline(steps=[('impute', SimpleImputer(strategy='mean')),\n",
    "                              ('scaler', StandardScaler())])\n",
    "\n",
    "int_trans = Pipeline(steps=[('impute', SimpleImputer(strategy='median')),\n",
    "                            ('scaler', StandardScaler())])\n",
    "\n",
    "columns_transformation = ColumnTransformer([('cat', cat_trans, categorical_columns),\n",
    "                                            ('float', float_trans, float_columns),\n",
    "                                            ('int', int_trans, int_columns)])\n",
    "\n",
    "pipeline_GradientBoostingClassifier = Pipeline(steps=[('transformation', columns_transformation),\n",
    "                                                      ('selectFeatures', SelectKBest()),\n",
    "                                                      ('clf', GradientBoostingClassifier())])"
   ]
  },
  {
   "cell_type": "code",
   "execution_count": 203,
   "id": "feec6f26",
   "metadata": {},
   "outputs": [
    {
     "name": "stdout",
     "output_type": "stream",
     "text": [
      "0.586328339241226\n"
     ]
    }
   ],
   "source": [
    "search_GradientBoostingClassifier = RandomizedSearchCV(pipeline_GradientBoostingClassifier, \n",
    "                                                       param_GradientBoostingClassifier, \n",
    "                                                       cv=5, scoring='f1', n_iter=30)\n",
    "\n",
    "search_GradientBoostingClassifier.fit(X, y)\n",
    "print(search_GradientBoostingClassifier.best_score_)"
   ]
  },
  {
   "cell_type": "code",
   "execution_count": 218,
   "id": "f5016b32",
   "metadata": {},
   "outputs": [],
   "source": [
    "param_HistGradientBoostingClassifier = {'selectFeatures__k': np.arange(10, 40, 1),\n",
    "                                        'clf__max_leaf_nodes': np.arange(20, 150, 2),\n",
    "                                        'clf__min_samples_leaf': np.arange(1, 50, 1),\n",
    "                                        'clf__max_depth': np.arange(2, 20, 1),\n",
    "                                        'clf__learning_rate': np.arange(0.01, 0.2, 0.01)}"
   ]
  },
  {
   "cell_type": "code",
   "execution_count": 219,
   "id": "87783c21",
   "metadata": {},
   "outputs": [],
   "source": [
    "cat_trans = Pipeline(steps=[('impute', SimpleImputer(strategy='most_frequent')),\n",
    "                            ('encoder', OneHotEncoder(sparse=False, handle_unknown='ignore'))])\n",
    "\n",
    "float_trans = Pipeline(steps=[('impute', SimpleImputer(strategy='mean')),\n",
    "                              ('scaler', StandardScaler())])\n",
    "\n",
    "int_trans = Pipeline(steps=[('impute', SimpleImputer(strategy='median')),\n",
    "                            ('scaler', StandardScaler())])\n",
    "\n",
    "columns_transformation = ColumnTransformer([('cat', cat_trans, categorical_columns),\n",
    "                                            ('float', float_trans, float_columns),\n",
    "                                            ('int', int_trans, int_columns)])\n",
    "\n",
    "pipeline_HistGradientBoostingClassifier = Pipeline(steps=[('transformation', columns_transformation),\n",
    "                                                          ('selectFeatures', SelectKBest()),\n",
    "                                                          ('clf', HistGradientBoostingClassifier())])"
   ]
  },
  {
   "cell_type": "code",
   "execution_count": 220,
   "id": "06c5fe98",
   "metadata": {},
   "outputs": [
    {
     "name": "stdout",
     "output_type": "stream",
     "text": [
      "0.5906785248930264\n"
     ]
    }
   ],
   "source": [
    "search_HistGradientBoostingClassifier = RandomizedSearchCV(pipeline_HistGradientBoostingClassifier, \n",
    "                                                           param_HistGradientBoostingClassifier, \n",
    "                                                           cv=5, scoring='f1', n_iter=30)\n",
    "\n",
    "search_HistGradientBoostingClassifier.fit(X, y)\n",
    "print(search_HistGradientBoostingClassifier.best_score_)"
   ]
  },
  {
   "cell_type": "markdown",
   "id": "d6291f7d",
   "metadata": {},
   "source": [
    "### 4.5 - Over-sampling"
   ]
  },
  {
   "cell_type": "code",
   "execution_count": 251,
   "id": "f2a72c00",
   "metadata": {},
   "outputs": [],
   "source": [
    "param_HistGradientBoostingClassifier = {'selectFeatures__k': np.arange(10, 40, 1),\n",
    "                                        'clf__max_leaf_nodes': np.arange(20, 150, 2),\n",
    "                                        'clf__min_samples_leaf': np.arange(1, 50, 1),\n",
    "                                        'clf__max_depth': np.arange(2, 20, 1),\n",
    "                                        'clf__learning_rate': np.arange(0.01, 0.2, 0.01)}"
   ]
  },
  {
   "cell_type": "code",
   "execution_count": 252,
   "id": "40eb88be",
   "metadata": {},
   "outputs": [],
   "source": [
    "cat_trans = Pipeline(steps=[('impute', SimpleImputer(strategy='most_frequent')),\n",
    "                            ('encoder', OneHotEncoder(sparse=False, handle_unknown='ignore'))])\n",
    "\n",
    "float_trans = Pipeline(steps=[('impute', SimpleImputer(strategy='mean')),\n",
    "                              ('scaler', StandardScaler())])\n",
    "\n",
    "int_trans = Pipeline(steps=[('impute', SimpleImputer(strategy='median')),\n",
    "                            ('scaler', StandardScaler())])\n",
    "\n",
    "columns_transformation = ColumnTransformer([('cat', cat_trans, categorical_columns),\n",
    "                                            ('float', float_trans, float_columns),\n",
    "                                            ('int', int_trans, int_columns)])\n",
    "\n",
    "pipeline_HistGradientBoostingClassifier = Pipeline(steps=[('selectFeatures', SelectKBest()),\n",
    "                                                          ('clf', HistGradientBoostingClassifier())])"
   ]
  },
  {
   "cell_type": "code",
   "execution_count": 253,
   "id": "336a3a5f",
   "metadata": {},
   "outputs": [
    {
     "name": "stdout",
     "output_type": "stream",
     "text": [
      "0    0.5\n",
      "1    0.5\n",
      "Name: CHURN, dtype: float64\n",
      "0.8357618530535177\n"
     ]
    }
   ],
   "source": [
    "X_resampled, y_resampled = SMOTE().fit_resample(columns_transformation.fit_transform(X), y)\n",
    "print(y_resampled.value_counts(normalize=True))\n",
    "\n",
    "search_HistGradientBoostingClassifier = RandomizedSearchCV(pipeline_HistGradientBoostingClassifier, \n",
    "                                                           param_HistGradientBoostingClassifier, \n",
    "                                                           cv=5, scoring='f1', n_iter=30)\n",
    "\n",
    "search_HistGradientBoostingClassifier.fit(X_resampled, y_resampled)\n",
    "print(search_HistGradientBoostingClassifier.best_score_)"
   ]
  },
  {
   "cell_type": "code",
   "execution_count": 254,
   "id": "508172b0",
   "metadata": {},
   "outputs": [],
   "source": [
    "param_GradientBoostingClassifier = {'selectFeatures__k': np.arange(10, 40, 1),\n",
    "                                    'clf__min_samples_split': np.arange(2, 100, 2),\n",
    "                                    'clf__min_samples_leaf': np.arange(1, 50, 1),\n",
    "                                    'clf__max_depth': np.arange(2, 20, 1),\n",
    "                                    'clf__learning_rate': np.arange(0.01, 0.2, 0.01)}"
   ]
  },
  {
   "cell_type": "code",
   "execution_count": 255,
   "id": "7374ba03",
   "metadata": {},
   "outputs": [],
   "source": [
    "cat_trans = Pipeline(steps=[('impute', SimpleImputer(strategy='most_frequent')),\n",
    "                            ('encoder', OneHotEncoder(sparse=False, handle_unknown='ignore'))])\n",
    "\n",
    "float_trans = Pipeline(steps=[('impute', SimpleImputer(strategy='mean')),\n",
    "                              ('scaler', StandardScaler())])\n",
    "\n",
    "int_trans = Pipeline(steps=[('impute', SimpleImputer(strategy='median')),\n",
    "                            ('scaler', StandardScaler())])\n",
    "\n",
    "columns_transformation = ColumnTransformer([('cat', cat_trans, categorical_columns),\n",
    "                                            ('float', float_trans, float_columns),\n",
    "                                            ('int', int_trans, int_columns)])\n",
    "\n",
    "pipeline_GradientBoostingClassifier = Pipeline(steps=[('selectFeatures', SelectKBest()),\n",
    "                                                          ('clf', GradientBoostingClassifier())])"
   ]
  },
  {
   "cell_type": "code",
   "execution_count": 256,
   "id": "0266959c",
   "metadata": {},
   "outputs": [
    {
     "name": "stdout",
     "output_type": "stream",
     "text": [
      "0    0.5\n",
      "1    0.5\n",
      "Name: CHURN, dtype: float64\n",
      "0.8308093699740422\n"
     ]
    }
   ],
   "source": [
    "X_resampled, y_resampled = SMOTE().fit_resample(columns_transformation.fit_transform(X), y)\n",
    "print(y_resampled.value_counts(normalize=True))\n",
    "\n",
    "search_GradientBoostingClassifier = RandomizedSearchCV(pipeline_GradientBoostingClassifier, \n",
    "                                                           param_HistGradientBoostingClassifier, \n",
    "                                                           cv=5, scoring='f1', n_iter=30)\n",
    "\n",
    "search_GradientBoostingClassifier.fit(X_resampled, y_resampled)\n",
    "print(search_GradientBoostingClassifier.best_score_)"
   ]
  },
  {
   "cell_type": "markdown",
   "id": "2b878421",
   "metadata": {},
   "source": [
    "### 4.6 - Melhor modelo"
   ]
  },
  {
   "cell_type": "code",
   "execution_count": 257,
   "id": "ac499aa6",
   "metadata": {},
   "outputs": [],
   "source": [
    "melhor_modelo = search_HistGradientBoostingClassifier.best_estimator_"
   ]
  },
  {
   "cell_type": "markdown",
   "id": "b68c3550",
   "metadata": {},
   "source": [
    "## 5 - Classificando os dados do answers"
   ]
  },
  {
   "cell_type": "code",
   "execution_count": 267,
   "id": "a4c11ac6",
   "metadata": {},
   "outputs": [],
   "source": [
    "answers_df = answers.copy()\n",
    "answers_df['TOTALCHARGES'].replace(' ', np.nan, inplace=True)"
   ]
  },
  {
   "cell_type": "code",
   "execution_count": 279,
   "id": "b33c26cc",
   "metadata": {},
   "outputs": [
    {
     "data": {
      "text/html": [
       "<div>\n",
       "<style scoped>\n",
       "    .dataframe tbody tr th:only-of-type {\n",
       "        vertical-align: middle;\n",
       "    }\n",
       "\n",
       "    .dataframe tbody tr th {\n",
       "        vertical-align: top;\n",
       "    }\n",
       "\n",
       "    .dataframe thead th {\n",
       "        text-align: right;\n",
       "    }\n",
       "</style>\n",
       "<table border=\"1\" class=\"dataframe\">\n",
       "  <thead>\n",
       "    <tr style=\"text-align: right;\">\n",
       "      <th></th>\n",
       "      <th>ID</th>\n",
       "      <th>GENDER</th>\n",
       "      <th>SENIORCITIZEN</th>\n",
       "      <th>PARTNER</th>\n",
       "      <th>DEPENDENTS</th>\n",
       "      <th>TENURE</th>\n",
       "      <th>PHONESERVICE</th>\n",
       "      <th>MULTIPLELINES</th>\n",
       "      <th>INTERNETSERVICE</th>\n",
       "      <th>ONLINESECURITY</th>\n",
       "      <th>...</th>\n",
       "      <th>DEVICEPROTECTION</th>\n",
       "      <th>TECHSUPPORT</th>\n",
       "      <th>STREAMINGTV</th>\n",
       "      <th>STREAMINGMOVIES</th>\n",
       "      <th>CONTRACT</th>\n",
       "      <th>PAPERLESSBILLING</th>\n",
       "      <th>PAYMENTMETHOD</th>\n",
       "      <th>MONTHLYCHARGES</th>\n",
       "      <th>TOTALCHARGES</th>\n",
       "      <th>CHURN</th>\n",
       "    </tr>\n",
       "  </thead>\n",
       "  <tbody>\n",
       "    <tr>\n",
       "      <th>0</th>\n",
       "      <td>6946</td>\n",
       "      <td>Female</td>\n",
       "      <td>0</td>\n",
       "      <td>No</td>\n",
       "      <td>No</td>\n",
       "      <td>3</td>\n",
       "      <td>Yes</td>\n",
       "      <td>No</td>\n",
       "      <td>No</td>\n",
       "      <td>No internet service</td>\n",
       "      <td>...</td>\n",
       "      <td>No internet service</td>\n",
       "      <td>No internet service</td>\n",
       "      <td>No internet service</td>\n",
       "      <td>No internet service</td>\n",
       "      <td>Month-to-month</td>\n",
       "      <td>No</td>\n",
       "      <td>Electronic check</td>\n",
       "      <td>51.71</td>\n",
       "      <td>90.81</td>\n",
       "      <td>No</td>\n",
       "    </tr>\n",
       "    <tr>\n",
       "      <th>1</th>\n",
       "      <td>2228</td>\n",
       "      <td>Male</td>\n",
       "      <td>0</td>\n",
       "      <td>No</td>\n",
       "      <td>No</td>\n",
       "      <td>47</td>\n",
       "      <td>Yes</td>\n",
       "      <td>No</td>\n",
       "      <td>No</td>\n",
       "      <td>No internet service</td>\n",
       "      <td>...</td>\n",
       "      <td>No internet service</td>\n",
       "      <td>No internet service</td>\n",
       "      <td>No internet service</td>\n",
       "      <td>No internet service</td>\n",
       "      <td>Two year</td>\n",
       "      <td>No</td>\n",
       "      <td>Bank transfer (automatic)</td>\n",
       "      <td>57.05</td>\n",
       "      <td>979.6</td>\n",
       "      <td>No</td>\n",
       "    </tr>\n",
       "    <tr>\n",
       "      <th>2</th>\n",
       "      <td>3591</td>\n",
       "      <td>Male</td>\n",
       "      <td>0</td>\n",
       "      <td>Yes</td>\n",
       "      <td>No</td>\n",
       "      <td>62</td>\n",
       "      <td>Yes</td>\n",
       "      <td>Yes</td>\n",
       "      <td>Fiber optic</td>\n",
       "      <td>Yes</td>\n",
       "      <td>...</td>\n",
       "      <td>No</td>\n",
       "      <td>No</td>\n",
       "      <td>No</td>\n",
       "      <td>Yes</td>\n",
       "      <td>One year</td>\n",
       "      <td>No</td>\n",
       "      <td>Electronic check</td>\n",
       "      <td>235.56</td>\n",
       "      <td>6140.91</td>\n",
       "      <td>No</td>\n",
       "    </tr>\n",
       "    <tr>\n",
       "      <th>3</th>\n",
       "      <td>1153</td>\n",
       "      <td>Male</td>\n",
       "      <td>0</td>\n",
       "      <td>No</td>\n",
       "      <td>Yes</td>\n",
       "      <td>1</td>\n",
       "      <td>Yes</td>\n",
       "      <td>Yes</td>\n",
       "      <td>Fiber optic</td>\n",
       "      <td>No</td>\n",
       "      <td>...</td>\n",
       "      <td>No</td>\n",
       "      <td>No</td>\n",
       "      <td>No</td>\n",
       "      <td>No</td>\n",
       "      <td>Month-to-month</td>\n",
       "      <td>Yes</td>\n",
       "      <td>Electronic check</td>\n",
       "      <td>142.25</td>\n",
       "      <td>142.25</td>\n",
       "      <td>Yes</td>\n",
       "    </tr>\n",
       "    <tr>\n",
       "      <th>4</th>\n",
       "      <td>5227</td>\n",
       "      <td>Male</td>\n",
       "      <td>0</td>\n",
       "      <td>No</td>\n",
       "      <td>No</td>\n",
       "      <td>24</td>\n",
       "      <td>Yes</td>\n",
       "      <td>No</td>\n",
       "      <td>DSL</td>\n",
       "      <td>Yes</td>\n",
       "      <td>...</td>\n",
       "      <td>No</td>\n",
       "      <td>Yes</td>\n",
       "      <td>No</td>\n",
       "      <td>No</td>\n",
       "      <td>Month-to-month</td>\n",
       "      <td>No</td>\n",
       "      <td>Electronic check</td>\n",
       "      <td>105.40</td>\n",
       "      <td>1398.95</td>\n",
       "      <td>No</td>\n",
       "    </tr>\n",
       "  </tbody>\n",
       "</table>\n",
       "<p>5 rows × 21 columns</p>\n",
       "</div>"
      ],
      "text/plain": [
       "     ID  GENDER  SENIORCITIZEN PARTNER DEPENDENTS  TENURE PHONESERVICE  \\\n",
       "0  6946  Female              0      No         No       3          Yes   \n",
       "1  2228    Male              0      No         No      47          Yes   \n",
       "2  3591    Male              0     Yes         No      62          Yes   \n",
       "3  1153    Male              0      No        Yes       1          Yes   \n",
       "4  5227    Male              0      No         No      24          Yes   \n",
       "\n",
       "  MULTIPLELINES INTERNETSERVICE       ONLINESECURITY  ...  \\\n",
       "0            No              No  No internet service  ...   \n",
       "1            No              No  No internet service  ...   \n",
       "2           Yes     Fiber optic                  Yes  ...   \n",
       "3           Yes     Fiber optic                   No  ...   \n",
       "4            No             DSL                  Yes  ...   \n",
       "\n",
       "      DEVICEPROTECTION          TECHSUPPORT          STREAMINGTV  \\\n",
       "0  No internet service  No internet service  No internet service   \n",
       "1  No internet service  No internet service  No internet service   \n",
       "2                   No                   No                   No   \n",
       "3                   No                   No                   No   \n",
       "4                   No                  Yes                   No   \n",
       "\n",
       "       STREAMINGMOVIES        CONTRACT PAPERLESSBILLING  \\\n",
       "0  No internet service  Month-to-month               No   \n",
       "1  No internet service        Two year               No   \n",
       "2                  Yes        One year               No   \n",
       "3                   No  Month-to-month              Yes   \n",
       "4                   No  Month-to-month               No   \n",
       "\n",
       "               PAYMENTMETHOD MONTHLYCHARGES  TOTALCHARGES CHURN  \n",
       "0           Electronic check          51.71         90.81    No  \n",
       "1  Bank transfer (automatic)          57.05         979.6    No  \n",
       "2           Electronic check         235.56       6140.91    No  \n",
       "3           Electronic check         142.25        142.25   Yes  \n",
       "4           Electronic check         105.40       1398.95    No  \n",
       "\n",
       "[5 rows x 21 columns]"
      ]
     },
     "execution_count": 279,
     "metadata": {},
     "output_type": "execute_result"
    }
   ],
   "source": [
    "X_answers = answers_df.drop(['ID'], axis=1)\n",
    "\n",
    "answers['CHURN'] = melhor_modelo.predict(columns_transformation.transform(X_answers))\n",
    "answers['CHURN'] = answers['CHURN'].map({0: 'No', 1: 'Yes'})\n",
    "answers.head()"
   ]
  },
  {
   "cell_type": "code",
   "execution_count": 280,
   "id": "a4d9af92",
   "metadata": {},
   "outputs": [
    {
     "data": {
      "text/plain": [
       "No     0.746224\n",
       "Yes    0.253776\n",
       "Name: CHURN, dtype: float64"
      ]
     },
     "execution_count": 280,
     "metadata": {},
     "output_type": "execute_result"
    }
   ],
   "source": [
    "answers['CHURN'].value_counts(normalize=True)"
   ]
  },
  {
   "cell_type": "code",
   "execution_count": 282,
   "id": "31988f22",
   "metadata": {},
   "outputs": [],
   "source": [
    "answers.to_csv('datasets/answers_done.csv', index=False)"
   ]
  },
  {
   "cell_type": "code",
   "execution_count": 283,
   "id": "f9c9d35e",
   "metadata": {},
   "outputs": [
    {
     "data": {
      "text/html": [
       "<div>\n",
       "<style scoped>\n",
       "    .dataframe tbody tr th:only-of-type {\n",
       "        vertical-align: middle;\n",
       "    }\n",
       "\n",
       "    .dataframe tbody tr th {\n",
       "        vertical-align: top;\n",
       "    }\n",
       "\n",
       "    .dataframe thead th {\n",
       "        text-align: right;\n",
       "    }\n",
       "</style>\n",
       "<table border=\"1\" class=\"dataframe\">\n",
       "  <thead>\n",
       "    <tr style=\"text-align: right;\">\n",
       "      <th></th>\n",
       "      <th>ID</th>\n",
       "      <th>GENDER</th>\n",
       "      <th>SENIORCITIZEN</th>\n",
       "      <th>PARTNER</th>\n",
       "      <th>DEPENDENTS</th>\n",
       "      <th>TENURE</th>\n",
       "      <th>PHONESERVICE</th>\n",
       "      <th>MULTIPLELINES</th>\n",
       "      <th>INTERNETSERVICE</th>\n",
       "      <th>ONLINESECURITY</th>\n",
       "      <th>...</th>\n",
       "      <th>DEVICEPROTECTION</th>\n",
       "      <th>TECHSUPPORT</th>\n",
       "      <th>STREAMINGTV</th>\n",
       "      <th>STREAMINGMOVIES</th>\n",
       "      <th>CONTRACT</th>\n",
       "      <th>PAPERLESSBILLING</th>\n",
       "      <th>PAYMENTMETHOD</th>\n",
       "      <th>MONTHLYCHARGES</th>\n",
       "      <th>TOTALCHARGES</th>\n",
       "      <th>CHURN</th>\n",
       "    </tr>\n",
       "  </thead>\n",
       "  <tbody>\n",
       "    <tr>\n",
       "      <th>0</th>\n",
       "      <td>6946</td>\n",
       "      <td>Female</td>\n",
       "      <td>0</td>\n",
       "      <td>No</td>\n",
       "      <td>No</td>\n",
       "      <td>3</td>\n",
       "      <td>Yes</td>\n",
       "      <td>No</td>\n",
       "      <td>No</td>\n",
       "      <td>No internet service</td>\n",
       "      <td>...</td>\n",
       "      <td>No internet service</td>\n",
       "      <td>No internet service</td>\n",
       "      <td>No internet service</td>\n",
       "      <td>No internet service</td>\n",
       "      <td>Month-to-month</td>\n",
       "      <td>No</td>\n",
       "      <td>Electronic check</td>\n",
       "      <td>51.71</td>\n",
       "      <td>90.81</td>\n",
       "      <td>No</td>\n",
       "    </tr>\n",
       "    <tr>\n",
       "      <th>1</th>\n",
       "      <td>2228</td>\n",
       "      <td>Male</td>\n",
       "      <td>0</td>\n",
       "      <td>No</td>\n",
       "      <td>No</td>\n",
       "      <td>47</td>\n",
       "      <td>Yes</td>\n",
       "      <td>No</td>\n",
       "      <td>No</td>\n",
       "      <td>No internet service</td>\n",
       "      <td>...</td>\n",
       "      <td>No internet service</td>\n",
       "      <td>No internet service</td>\n",
       "      <td>No internet service</td>\n",
       "      <td>No internet service</td>\n",
       "      <td>Two year</td>\n",
       "      <td>No</td>\n",
       "      <td>Bank transfer (automatic)</td>\n",
       "      <td>57.05</td>\n",
       "      <td>979.6</td>\n",
       "      <td>No</td>\n",
       "    </tr>\n",
       "    <tr>\n",
       "      <th>2</th>\n",
       "      <td>3591</td>\n",
       "      <td>Male</td>\n",
       "      <td>0</td>\n",
       "      <td>Yes</td>\n",
       "      <td>No</td>\n",
       "      <td>62</td>\n",
       "      <td>Yes</td>\n",
       "      <td>Yes</td>\n",
       "      <td>Fiber optic</td>\n",
       "      <td>Yes</td>\n",
       "      <td>...</td>\n",
       "      <td>No</td>\n",
       "      <td>No</td>\n",
       "      <td>No</td>\n",
       "      <td>Yes</td>\n",
       "      <td>One year</td>\n",
       "      <td>No</td>\n",
       "      <td>Electronic check</td>\n",
       "      <td>235.56</td>\n",
       "      <td>6140.91</td>\n",
       "      <td>No</td>\n",
       "    </tr>\n",
       "    <tr>\n",
       "      <th>3</th>\n",
       "      <td>1153</td>\n",
       "      <td>Male</td>\n",
       "      <td>0</td>\n",
       "      <td>No</td>\n",
       "      <td>Yes</td>\n",
       "      <td>1</td>\n",
       "      <td>Yes</td>\n",
       "      <td>Yes</td>\n",
       "      <td>Fiber optic</td>\n",
       "      <td>No</td>\n",
       "      <td>...</td>\n",
       "      <td>No</td>\n",
       "      <td>No</td>\n",
       "      <td>No</td>\n",
       "      <td>No</td>\n",
       "      <td>Month-to-month</td>\n",
       "      <td>Yes</td>\n",
       "      <td>Electronic check</td>\n",
       "      <td>142.25</td>\n",
       "      <td>142.25</td>\n",
       "      <td>Yes</td>\n",
       "    </tr>\n",
       "    <tr>\n",
       "      <th>4</th>\n",
       "      <td>5227</td>\n",
       "      <td>Male</td>\n",
       "      <td>0</td>\n",
       "      <td>No</td>\n",
       "      <td>No</td>\n",
       "      <td>24</td>\n",
       "      <td>Yes</td>\n",
       "      <td>No</td>\n",
       "      <td>DSL</td>\n",
       "      <td>Yes</td>\n",
       "      <td>...</td>\n",
       "      <td>No</td>\n",
       "      <td>Yes</td>\n",
       "      <td>No</td>\n",
       "      <td>No</td>\n",
       "      <td>Month-to-month</td>\n",
       "      <td>No</td>\n",
       "      <td>Electronic check</td>\n",
       "      <td>105.40</td>\n",
       "      <td>1398.95</td>\n",
       "      <td>No</td>\n",
       "    </tr>\n",
       "  </tbody>\n",
       "</table>\n",
       "<p>5 rows × 21 columns</p>\n",
       "</div>"
      ],
      "text/plain": [
       "     ID  GENDER  SENIORCITIZEN PARTNER DEPENDENTS  TENURE PHONESERVICE  \\\n",
       "0  6946  Female              0      No         No       3          Yes   \n",
       "1  2228    Male              0      No         No      47          Yes   \n",
       "2  3591    Male              0     Yes         No      62          Yes   \n",
       "3  1153    Male              0      No        Yes       1          Yes   \n",
       "4  5227    Male              0      No         No      24          Yes   \n",
       "\n",
       "  MULTIPLELINES INTERNETSERVICE       ONLINESECURITY  ...  \\\n",
       "0            No              No  No internet service  ...   \n",
       "1            No              No  No internet service  ...   \n",
       "2           Yes     Fiber optic                  Yes  ...   \n",
       "3           Yes     Fiber optic                   No  ...   \n",
       "4            No             DSL                  Yes  ...   \n",
       "\n",
       "      DEVICEPROTECTION          TECHSUPPORT          STREAMINGTV  \\\n",
       "0  No internet service  No internet service  No internet service   \n",
       "1  No internet service  No internet service  No internet service   \n",
       "2                   No                   No                   No   \n",
       "3                   No                   No                   No   \n",
       "4                   No                  Yes                   No   \n",
       "\n",
       "       STREAMINGMOVIES        CONTRACT PAPERLESSBILLING  \\\n",
       "0  No internet service  Month-to-month               No   \n",
       "1  No internet service        Two year               No   \n",
       "2                  Yes        One year               No   \n",
       "3                   No  Month-to-month              Yes   \n",
       "4                   No  Month-to-month               No   \n",
       "\n",
       "               PAYMENTMETHOD MONTHLYCHARGES  TOTALCHARGES CHURN  \n",
       "0           Electronic check          51.71         90.81    No  \n",
       "1  Bank transfer (automatic)          57.05         979.6    No  \n",
       "2           Electronic check         235.56       6140.91    No  \n",
       "3           Electronic check         142.25        142.25   Yes  \n",
       "4           Electronic check         105.40       1398.95    No  \n",
       "\n",
       "[5 rows x 21 columns]"
      ]
     },
     "execution_count": 283,
     "metadata": {},
     "output_type": "execute_result"
    }
   ],
   "source": [
    "answers_done = pd.read_csv('datasets/answers_done.csv')\n",
    "answers_done.head()"
   ]
  },
  {
   "cell_type": "code",
   "execution_count": null,
   "id": "5c74f412",
   "metadata": {},
   "outputs": [],
   "source": []
  }
 ],
 "metadata": {
  "kernelspec": {
   "display_name": "Python 3 (ipykernel)",
   "language": "python",
   "name": "python3"
  },
  "language_info": {
   "codemirror_mode": {
    "name": "ipython",
    "version": 3
   },
   "file_extension": ".py",
   "mimetype": "text/x-python",
   "name": "python",
   "nbconvert_exporter": "python",
   "pygments_lexer": "ipython3",
   "version": "3.8.12"
  }
 },
 "nbformat": 4,
 "nbformat_minor": 5
}
