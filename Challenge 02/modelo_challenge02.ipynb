{
  "nbformat": 4,
  "nbformat_minor": 0,
  "metadata": {
    "colab": {
      "name": "modelo_challenge02.ipynb",
      "provenance": []
    },
    "kernelspec": {
      "name": "python3",
      "display_name": "Python 3"
    },
    "language_info": {
      "name": "python"
    }
  },
  "cells": [
    {
      "cell_type": "code",
      "metadata": {
        "id": "AiFRkXGdaPYj"
      },
      "source": [
        "import pandas as pd\n",
        "import numpy as np\n",
        "import matplotlib.pyplot as plt\n",
        "import seaborn as sns\n",
        "from sklearn.linear_model import LinearRegression, Ridge, ElasticNet, RidgeCV\n",
        "from sklearn.model_selection import train_test_split, RandomizedSearchCV\n",
        "from sklearn.preprocessing import StandardScaler\n",
        "from sklearn.pipeline import Pipeline\n",
        "from sklearn.dummy import DummyRegressor\n",
        "from sklearn.metrics import r2_score, mean_squared_error\n",
        "from sklearn.tree import DecisionTreeRegressor\n",
        "from sklearn.ensemble import AdaBoostRegressor, BaggingRegressor, ExtraTreesRegressor\n",
        "from sklearn.ensemble import GradientBoostingRegressor, RandomForestRegressor"
      ],
      "execution_count": 94,
      "outputs": []
    },
    {
      "cell_type": "markdown",
      "metadata": {
        "id": "lf7zalc8cYqA"
      },
      "source": [
        "## 2 - Carregando e explorando os dados"
      ]
    },
    {
      "cell_type": "markdown",
      "metadata": {
        "id": "IQ7_Ku6yciDt"
      },
      "source": [
        "### 2.1 - Carregando os dados"
      ]
    },
    {
      "cell_type": "code",
      "metadata": {
        "id": "8GTEbsvmbVu7"
      },
      "source": [
        "df = pd.read_csv('dados_iot.csv')"
      ],
      "execution_count": 3,
      "outputs": []
    },
    {
      "cell_type": "markdown",
      "metadata": {
        "id": "zvOINRDhcvK0"
      },
      "source": [
        "### 2.2 - Explorando os dados"
      ]
    },
    {
      "cell_type": "code",
      "metadata": {
        "colab": {
          "base_uri": "https://localhost:8080/",
          "height": 204
        },
        "id": "oCrCbBhoctyD",
        "outputId": "82a4e3c5-3676-4d12-b558-ca34f194cfb2"
      },
      "source": [
        "df.sort_values('ID', inplace=True)\n",
        "df.reset_index(drop=True, inplace=True)\n",
        "df.head()"
      ],
      "execution_count": 4,
      "outputs": [
        {
          "output_type": "execute_result",
          "data": {
            "text/html": [
              "<div>\n",
              "<style scoped>\n",
              "    .dataframe tbody tr th:only-of-type {\n",
              "        vertical-align: middle;\n",
              "    }\n",
              "\n",
              "    .dataframe tbody tr th {\n",
              "        vertical-align: top;\n",
              "    }\n",
              "\n",
              "    .dataframe thead th {\n",
              "        text-align: right;\n",
              "    }\n",
              "</style>\n",
              "<table border=\"1\" class=\"dataframe\">\n",
              "  <thead>\n",
              "    <tr style=\"text-align: right;\">\n",
              "      <th></th>\n",
              "      <th>ID</th>\n",
              "      <th>ILLUM</th>\n",
              "      <th>HUMID</th>\n",
              "      <th>CO2</th>\n",
              "      <th>SOUND</th>\n",
              "      <th>TEMP</th>\n",
              "      <th>RYTHM</th>\n",
              "    </tr>\n",
              "  </thead>\n",
              "  <tbody>\n",
              "    <tr>\n",
              "      <th>0</th>\n",
              "      <td>1</td>\n",
              "      <td>467.90</td>\n",
              "      <td>65.59</td>\n",
              "      <td>486.10</td>\n",
              "      <td>41.06</td>\n",
              "      <td>23.27</td>\n",
              "      <td>92.39</td>\n",
              "    </tr>\n",
              "    <tr>\n",
              "      <th>1</th>\n",
              "      <td>2</td>\n",
              "      <td>387.14</td>\n",
              "      <td>70.23</td>\n",
              "      <td>501.81</td>\n",
              "      <td>25.93</td>\n",
              "      <td>18.77</td>\n",
              "      <td>85.17</td>\n",
              "    </tr>\n",
              "    <tr>\n",
              "      <th>2</th>\n",
              "      <td>3</td>\n",
              "      <td>339.75</td>\n",
              "      <td>74.72</td>\n",
              "      <td>535.88</td>\n",
              "      <td>30.50</td>\n",
              "      <td>19.41</td>\n",
              "      <td>80.76</td>\n",
              "    </tr>\n",
              "    <tr>\n",
              "      <th>3</th>\n",
              "      <td>4</td>\n",
              "      <td>390.19</td>\n",
              "      <td>63.83</td>\n",
              "      <td>422.76</td>\n",
              "      <td>24.18</td>\n",
              "      <td>17.41</td>\n",
              "      <td>63.55</td>\n",
              "    </tr>\n",
              "    <tr>\n",
              "      <th>4</th>\n",
              "      <td>5</td>\n",
              "      <td>454.11</td>\n",
              "      <td>70.64</td>\n",
              "      <td>619.85</td>\n",
              "      <td>16.50</td>\n",
              "      <td>20.31</td>\n",
              "      <td>83.19</td>\n",
              "    </tr>\n",
              "  </tbody>\n",
              "</table>\n",
              "</div>"
            ],
            "text/plain": [
              "   ID   ILLUM  HUMID     CO2  SOUND   TEMP  RYTHM\n",
              "0   1  467.90  65.59  486.10  41.06  23.27  92.39\n",
              "1   2  387.14  70.23  501.81  25.93  18.77  85.17\n",
              "2   3  339.75  74.72  535.88  30.50  19.41  80.76\n",
              "3   4  390.19  63.83  422.76  24.18  17.41  63.55\n",
              "4   5  454.11  70.64  619.85  16.50  20.31  83.19"
            ]
          },
          "metadata": {},
          "execution_count": 4
        }
      ]
    },
    {
      "cell_type": "code",
      "metadata": {
        "colab": {
          "base_uri": "https://localhost:8080/"
        },
        "id": "U16e3Rz4cyYa",
        "outputId": "ad964290-a8e5-472c-fc03-ad1e1531f43c"
      },
      "source": [
        "print(f'O conjunto de dados é formados por {df.shape[0]} observações e {df.shape[1]} atributos')"
      ],
      "execution_count": 5,
      "outputs": [
        {
          "output_type": "stream",
          "name": "stdout",
          "text": [
            "O conjunto de dados é formados por 3200 observações e 7 atributos\n"
          ]
        }
      ]
    },
    {
      "cell_type": "code",
      "metadata": {
        "colab": {
          "base_uri": "https://localhost:8080/",
          "height": 297
        },
        "id": "00iyTj90fcUe",
        "outputId": "5477c798-9606-4ef7-ae53-87be7fe89464"
      },
      "source": [
        "df.describe()"
      ],
      "execution_count": 6,
      "outputs": [
        {
          "output_type": "execute_result",
          "data": {
            "text/html": [
              "<div>\n",
              "<style scoped>\n",
              "    .dataframe tbody tr th:only-of-type {\n",
              "        vertical-align: middle;\n",
              "    }\n",
              "\n",
              "    .dataframe tbody tr th {\n",
              "        vertical-align: top;\n",
              "    }\n",
              "\n",
              "    .dataframe thead th {\n",
              "        text-align: right;\n",
              "    }\n",
              "</style>\n",
              "<table border=\"1\" class=\"dataframe\">\n",
              "  <thead>\n",
              "    <tr style=\"text-align: right;\">\n",
              "      <th></th>\n",
              "      <th>ID</th>\n",
              "      <th>ILLUM</th>\n",
              "      <th>HUMID</th>\n",
              "      <th>CO2</th>\n",
              "      <th>SOUND</th>\n",
              "      <th>TEMP</th>\n",
              "      <th>RYTHM</th>\n",
              "    </tr>\n",
              "  </thead>\n",
              "  <tbody>\n",
              "    <tr>\n",
              "      <th>count</th>\n",
              "      <td>3200.000000</td>\n",
              "      <td>3200.000000</td>\n",
              "      <td>3200.000000</td>\n",
              "      <td>3200.000000</td>\n",
              "      <td>3200.000000</td>\n",
              "      <td>3200.000000</td>\n",
              "      <td>3200.000000</td>\n",
              "    </tr>\n",
              "    <tr>\n",
              "      <th>mean</th>\n",
              "      <td>1600.500000</td>\n",
              "      <td>439.163412</td>\n",
              "      <td>67.086106</td>\n",
              "      <td>501.620666</td>\n",
              "      <td>29.840194</td>\n",
              "      <td>20.042578</td>\n",
              "      <td>80.156616</td>\n",
              "    </tr>\n",
              "    <tr>\n",
              "      <th>std</th>\n",
              "      <td>923.904757</td>\n",
              "      <td>89.915142</td>\n",
              "      <td>4.776214</td>\n",
              "      <td>42.951183</td>\n",
              "      <td>6.158710</td>\n",
              "      <td>1.648479</td>\n",
              "      <td>6.755854</td>\n",
              "    </tr>\n",
              "    <tr>\n",
              "      <th>min</th>\n",
              "      <td>1.000000</td>\n",
              "      <td>145.480000</td>\n",
              "      <td>51.860000</td>\n",
              "      <td>352.820000</td>\n",
              "      <td>8.060000</td>\n",
              "      <td>14.760000</td>\n",
              "      <td>55.370000</td>\n",
              "    </tr>\n",
              "    <tr>\n",
              "      <th>25%</th>\n",
              "      <td>800.750000</td>\n",
              "      <td>377.060000</td>\n",
              "      <td>63.770000</td>\n",
              "      <td>471.427500</td>\n",
              "      <td>25.550000</td>\n",
              "      <td>18.920000</td>\n",
              "      <td>75.657500</td>\n",
              "    </tr>\n",
              "    <tr>\n",
              "      <th>50%</th>\n",
              "      <td>1600.500000</td>\n",
              "      <td>437.375000</td>\n",
              "      <td>66.935000</td>\n",
              "      <td>502.350000</td>\n",
              "      <td>29.885000</td>\n",
              "      <td>20.050000</td>\n",
              "      <td>80.220000</td>\n",
              "    </tr>\n",
              "    <tr>\n",
              "      <th>75%</th>\n",
              "      <td>2400.250000</td>\n",
              "      <td>500.792500</td>\n",
              "      <td>70.330000</td>\n",
              "      <td>530.142500</td>\n",
              "      <td>33.932500</td>\n",
              "      <td>21.180000</td>\n",
              "      <td>84.660000</td>\n",
              "    </tr>\n",
              "    <tr>\n",
              "      <th>max</th>\n",
              "      <td>3200.000000</td>\n",
              "      <td>775.140000</td>\n",
              "      <td>83.900000</td>\n",
              "      <td>672.380000</td>\n",
              "      <td>53.780000</td>\n",
              "      <td>26.290000</td>\n",
              "      <td>108.900000</td>\n",
              "    </tr>\n",
              "  </tbody>\n",
              "</table>\n",
              "</div>"
            ],
            "text/plain": [
              "                ID        ILLUM  ...         TEMP        RYTHM\n",
              "count  3200.000000  3200.000000  ...  3200.000000  3200.000000\n",
              "mean   1600.500000   439.163412  ...    20.042578    80.156616\n",
              "std     923.904757    89.915142  ...     1.648479     6.755854\n",
              "min       1.000000   145.480000  ...    14.760000    55.370000\n",
              "25%     800.750000   377.060000  ...    18.920000    75.657500\n",
              "50%    1600.500000   437.375000  ...    20.050000    80.220000\n",
              "75%    2400.250000   500.792500  ...    21.180000    84.660000\n",
              "max    3200.000000   775.140000  ...    26.290000   108.900000\n",
              "\n",
              "[8 rows x 7 columns]"
            ]
          },
          "metadata": {},
          "execution_count": 6
        }
      ]
    },
    {
      "cell_type": "code",
      "metadata": {
        "colab": {
          "base_uri": "https://localhost:8080/",
          "height": 235
        },
        "id": "2G9_7jY1OmX4",
        "outputId": "ad00b98e-c92a-40d8-fda0-a31b0c468c93"
      },
      "source": [
        "df.drop('ID', axis=1).corr()[['RYTHM']]"
      ],
      "execution_count": 7,
      "outputs": [
        {
          "output_type": "execute_result",
          "data": {
            "text/html": [
              "<div>\n",
              "<style scoped>\n",
              "    .dataframe tbody tr th:only-of-type {\n",
              "        vertical-align: middle;\n",
              "    }\n",
              "\n",
              "    .dataframe tbody tr th {\n",
              "        vertical-align: top;\n",
              "    }\n",
              "\n",
              "    .dataframe thead th {\n",
              "        text-align: right;\n",
              "    }\n",
              "</style>\n",
              "<table border=\"1\" class=\"dataframe\">\n",
              "  <thead>\n",
              "    <tr style=\"text-align: right;\">\n",
              "      <th></th>\n",
              "      <th>RYTHM</th>\n",
              "    </tr>\n",
              "  </thead>\n",
              "  <tbody>\n",
              "    <tr>\n",
              "      <th>ILLUM</th>\n",
              "      <td>0.044763</td>\n",
              "    </tr>\n",
              "    <tr>\n",
              "      <th>HUMID</th>\n",
              "      <td>-0.023406</td>\n",
              "    </tr>\n",
              "    <tr>\n",
              "      <th>CO2</th>\n",
              "      <td>0.275289</td>\n",
              "    </tr>\n",
              "    <tr>\n",
              "      <th>SOUND</th>\n",
              "      <td>0.167734</td>\n",
              "    </tr>\n",
              "    <tr>\n",
              "      <th>TEMP</th>\n",
              "      <td>0.249845</td>\n",
              "    </tr>\n",
              "    <tr>\n",
              "      <th>RYTHM</th>\n",
              "      <td>1.000000</td>\n",
              "    </tr>\n",
              "  </tbody>\n",
              "</table>\n",
              "</div>"
            ],
            "text/plain": [
              "          RYTHM\n",
              "ILLUM  0.044763\n",
              "HUMID -0.023406\n",
              "CO2    0.275289\n",
              "SOUND  0.167734\n",
              "TEMP   0.249845\n",
              "RYTHM  1.000000"
            ]
          },
          "metadata": {},
          "execution_count": 7
        }
      ]
    },
    {
      "cell_type": "code",
      "metadata": {
        "colab": {
          "base_uri": "https://localhost:8080/",
          "height": 557
        },
        "id": "obXeccPRNcao",
        "outputId": "9349e2ad-eece-4409-e150-3290f6e3daa3"
      },
      "source": [
        "sns.set_theme(style=\"white\")\n",
        "\n",
        "corr = df.corr()\n",
        "\n",
        "# Generate a mask for the upper triangle\n",
        "mask = np.triu(np.ones_like(corr, dtype=bool))\n",
        "\n",
        "# Set up the matplotlib figure\n",
        "f, ax = plt.subplots(figsize=(11, 9))\n",
        "\n",
        "# Generate a custom diverging colormap\n",
        "cmap = sns.diverging_palette(230, 20, as_cmap=True)\n",
        "\n",
        "# Draw the heatmap with the mask and correct aspect ratio\n",
        "sns.heatmap(corr, mask=mask, cmap=cmap, vmax=.3, center=0,\n",
        "            square=True, linewidths=.5, cbar_kws={\"shrink\": .5})"
      ],
      "execution_count": 8,
      "outputs": [
        {
          "output_type": "execute_result",
          "data": {
            "text/plain": [
              "<matplotlib.axes._subplots.AxesSubplot at 0x7f5154051a10>"
            ]
          },
          "metadata": {},
          "execution_count": 8
        },
        {
          "output_type": "display_data",
          "data": {
            "image/png": "[encoded data removed]",
            "text/plain": [
              "<Figure size 792x648 with 2 Axes>"
            ]
          },
          "metadata": {}
        }
      ]
    },
    {
      "cell_type": "markdown",
      "metadata": {
        "id": "DidNRrADjfNV"
      },
      "source": [
        "## 3 - Modelos de ML"
      ]
    },
    {
      "cell_type": "code",
      "metadata": {
        "id": "HRLIj7-4jrPy"
      },
      "source": [
        "X = df.drop(['RYTHM', 'ID'], axis=1)\n",
        "y = df[['RYTHM']].copy()"
      ],
      "execution_count": 9,
      "outputs": []
    },
    {
      "cell_type": "code",
      "metadata": {
        "colab": {
          "base_uri": "https://localhost:8080/"
        },
        "id": "Nma3lhFNktzq",
        "outputId": "ae494155-ec92-402b-8697-ce33522eec99"
      },
      "source": [
        "X_train, X_test, y_train, y_test = train_test_split(X, y, test_size=0.25, random_state=42)\n",
        "print(X_train.shape)\n",
        "print(X_test.shape)"
      ],
      "execution_count": 67,
      "outputs": [
        {
          "output_type": "stream",
          "name": "stdout",
          "text": [
            "(2400, 5)\n",
            "(800, 5)\n"
          ]
        }
      ]
    },
    {
      "cell_type": "markdown",
      "metadata": {
        "id": "6b_JWSgSjiA2"
      },
      "source": [
        "### 3.1 - Modelo dummy - mean"
      ]
    },
    {
      "cell_type": "code",
      "metadata": {
        "colab": {
          "base_uri": "https://localhost:8080/"
        },
        "id": "-0LVzOyQiwMg",
        "outputId": "1b19a123-d249-462f-adf1-559d4af097f8"
      },
      "source": [
        "reg_dummy_mean = DummyRegressor(strategy='mean')\n",
        "reg_dummy_mean.fit(X_train, y_train)\n",
        "\n",
        "score_dummy_mean = reg_dummy_mean.score(X_test, y_test)\n",
        "y_pred = reg_dummy_mean.predict(X_test)\n",
        "rmse = np.sqrt(mean_squared_error(y_test, y_pred))\n",
        "print(f'R2: {score_dummy_mean}')\n",
        "print(f'RMSE: {rmse}')"
      ],
      "execution_count": 68,
      "outputs": [
        {
          "output_type": "stream",
          "name": "stdout",
          "text": [
            "R2: -0.0001346957244361402\n",
            "RMSE: 6.873075257117443\n"
          ]
        }
      ]
    },
    {
      "cell_type": "markdown",
      "metadata": {
        "id": "FJJeFlZUjpuR"
      },
      "source": [
        "### 3.2 - Modelo dummy - median"
      ]
    },
    {
      "cell_type": "code",
      "metadata": {
        "colab": {
          "base_uri": "https://localhost:8080/"
        },
        "id": "0S5SDR2Wk_a_",
        "outputId": "4efe2922-8e67-4352-dca5-f2fdf9068375"
      },
      "source": [
        "reg_dummy_median = DummyRegressor(strategy='median')\n",
        "reg_dummy_median.fit(X_train, y_train)\n",
        "\n",
        "score_dummy_median = reg_dummy_median.score(X_test, y_test)\n",
        "y_pred = reg_dummy_median.predict(X_test)\n",
        "rmse = np.sqrt(mean_squared_error(y_test, y_pred))\n",
        "print(f'R2: {score_dummy_mean}')\n",
        "print(f'RMSE: {rmse}')"
      ],
      "execution_count": 69,
      "outputs": [
        {
          "output_type": "stream",
          "name": "stdout",
          "text": [
            "R2: -0.0001346957244361402\n",
            "RMSE: 6.872663266521939\n"
          ]
        }
      ]
    },
    {
      "cell_type": "markdown",
      "metadata": {
        "id": "8qKkGpQUu4Io"
      },
      "source": [
        "### 3.3 - Modelo de regressão"
      ]
    },
    {
      "cell_type": "code",
      "metadata": {
        "colab": {
          "base_uri": "https://localhost:8080/"
        },
        "id": "HOf-FHsZk_3s",
        "outputId": "e5714cbe-70b9-4948-fc72-e01bb2e18077"
      },
      "source": [
        "scaler = StandardScaler()\n",
        "X_train_scaled = scaler.fit_transform(X_train)\n",
        "X_test_scaled = scaler.transform(X_test)\n",
        "X_train_scaled"
      ],
      "execution_count": 161,
      "outputs": [
        {
          "output_type": "execute_result",
          "data": {
            "text/plain": [
              "array([[ 0.06314979, -0.3299235 , -1.1881677 , -1.83079116, -0.1888967 ],\n",
              "       [ 0.70836505,  0.4152969 , -0.27106045, -1.52346561, -1.08640447],\n",
              "       [-0.81307961, -1.2661196 , -1.19786628,  0.02623983,  0.46886585],\n",
              "       ...,\n",
              "       [-0.07728605,  0.1516674 ,  0.33758463, -0.08982461,  0.46886585],\n",
              "       [-0.07006686,  0.72874615, -0.61405903, -0.57860301,  0.07543778],\n",
              "       [ 1.26785241,  0.29489918, -0.14781751,  0.25509928, -0.25036983]])"
            ]
          },
          "metadata": {},
          "execution_count": 161
        }
      ]
    },
    {
      "cell_type": "code",
      "metadata": {
        "id": "SgUgzv4cwvHs"
      },
      "source": [
        "y_train_scaled = scaler.fit_transform(y_train)\n",
        "y_test_scaled = scaler.transform(y_test)"
      ],
      "execution_count": 71,
      "outputs": []
    },
    {
      "cell_type": "code",
      "metadata": {
        "colab": {
          "base_uri": "https://localhost:8080/"
        },
        "id": "LmXxihkzvRlW",
        "outputId": "6952e58d-ac78-471b-a976-33fb8c90c643"
      },
      "source": [
        "reg = LinearRegression()\n",
        "reg.fit(X_train_scaled, y_train)\n",
        "\n",
        "score_reg_model1 = reg.score(X_test_scaled, y_test)\n",
        "y_pred = reg.predict(X_test_scaled)\n",
        "rmse = np.sqrt(mean_squared_error(y_test, y_pred))\n",
        "print(f'R2: {score_reg_model1}')\n",
        "print(f'RMSE: {rmse}')"
      ],
      "execution_count": 72,
      "outputs": [
        {
          "output_type": "stream",
          "name": "stdout",
          "text": [
            "R2: 0.23308355953387228\n",
            "RMSE: 6.018605482061035\n"
          ]
        }
      ]
    },
    {
      "cell_type": "code",
      "metadata": {
        "colab": {
          "base_uri": "https://localhost:8080/"
        },
        "id": "fp6nkS3uv_tu",
        "outputId": "6343700b-913a-42c7-9f99-8acb76839a4e"
      },
      "source": [
        "reg = LinearRegression()\n",
        "reg.fit(X_train, y_train)\n",
        "\n",
        "score_reg_model2 = reg.score(X_test, y_test)\n",
        "y_pred = reg.predict(X_test)\n",
        "rmse = np.sqrt(mean_squared_error(y_test, y_pred))\n",
        "print(f'R2: {score_reg_model2}')\n",
        "print(f'RMSE: {rmse}')"
      ],
      "execution_count": 73,
      "outputs": [
        {
          "output_type": "stream",
          "name": "stdout",
          "text": [
            "R2: 0.2330835595338724\n",
            "RMSE: 6.018605482061035\n"
          ]
        }
      ]
    },
    {
      "cell_type": "code",
      "metadata": {
        "colab": {
          "base_uri": "https://localhost:8080/"
        },
        "id": "QzZ7NnI6wojT",
        "outputId": "42453012-ac24-4e87-95a9-6c85e450a8ed"
      },
      "source": [
        "reg = LinearRegression()\n",
        "reg.fit(X_train_scaled, y_train_scaled)\n",
        "\n",
        "score_reg_model3 = reg.score(X_test_scaled, y_test_scaled)\n",
        "y_pred = reg.predict(X_test_scaled)\n",
        "rmse = np.sqrt(mean_squared_error(y_test, scaler.inverse_transform(y_pred)))\n",
        "print(f'R2: {score_reg_model3}')\n",
        "print(f'RMSE: {rmse}')"
      ],
      "execution_count": 74,
      "outputs": [
        {
          "output_type": "stream",
          "name": "stdout",
          "text": [
            "R2: 0.2330835595338724\n",
            "RMSE: 6.018605482061035\n"
          ]
        }
      ]
    },
    {
      "cell_type": "markdown",
      "metadata": {
        "id": "6dTnLlL-UD0C"
      },
      "source": [
        "### 3.4 - Modelo Ridge"
      ]
    },
    {
      "cell_type": "code",
      "metadata": {
        "id": "jn_pw0i3kND0",
        "colab": {
          "base_uri": "https://localhost:8080/"
        },
        "outputId": "76f3cd1f-c113-450b-cbed-c6a5faddcacf"
      },
      "source": [
        "reg = Ridge()\n",
        "reg.fit(X_train_scaled, y_train)\n",
        "\n",
        "score_reg_modelo_ridge = reg.score(X_test_scaled, y_test)\n",
        "y_pred = reg.predict(X_test_scaled)\n",
        "rmse = np.sqrt(mean_squared_error(y_test, y_pred))\n",
        "print(f'R2: {score_reg_modelo_ridge}')\n",
        "print(f'RMSE: {rmse}')"
      ],
      "execution_count": 75,
      "outputs": [
        {
          "output_type": "stream",
          "name": "stdout",
          "text": [
            "R2: 0.2330603992045187\n",
            "RMSE: 6.01869636017075\n"
          ]
        }
      ]
    },
    {
      "cell_type": "markdown",
      "metadata": {
        "id": "Brzs2YAPUNwP"
      },
      "source": [
        "### 3.5 - Modelo ElasticNet"
      ]
    },
    {
      "cell_type": "code",
      "metadata": {
        "colab": {
          "base_uri": "https://localhost:8080/"
        },
        "id": "fDU7rSxQUKz4",
        "outputId": "451aef9c-a309-4c9c-cbbf-1d2620106703"
      },
      "source": [
        "reg = ElasticNet()\n",
        "reg.fit(X_train_scaled, y_train)\n",
        "\n",
        "score_reg_model_elasticNet = reg.score(X_test_scaled, y_test)\n",
        "y_pred = reg.predict(X_test_scaled)\n",
        "rmse = np.sqrt(mean_squared_error(y_test, y_pred))\n",
        "print(f'R2: {score_reg_model_elasticNet}')\n",
        "print(f'RMSE: {rmse}')"
      ],
      "execution_count": 76,
      "outputs": [
        {
          "output_type": "stream",
          "name": "stdout",
          "text": [
            "R2: 0.13980170895574318\n",
            "RMSE: 6.374133280251526\n"
          ]
        }
      ]
    },
    {
      "cell_type": "markdown",
      "metadata": {
        "id": "N8O-P4LhVUCk"
      },
      "source": [
        "### 3.6 - Modelo de árvore"
      ]
    },
    {
      "cell_type": "code",
      "metadata": {
        "colab": {
          "base_uri": "https://localhost:8080/"
        },
        "id": "-kCEskLxU0-C",
        "outputId": "4c0d130e-966a-4137-a68f-739b04ad294e"
      },
      "source": [
        "regTree = DecisionTreeRegressor()\n",
        "regTree.fit(X_train, y_train)\n",
        "\n",
        "score_reg_tree = regTree.score(X_test, y_test)\n",
        "y_pred = regTree.predict(X_test)\n",
        "rmse = np.sqrt(mean_squared_error(y_test, y_pred))\n",
        "print(f'R2: {score_reg_tree}')\n",
        "print(f'RMSE: {rmse}')"
      ],
      "execution_count": 77,
      "outputs": [
        {
          "output_type": "stream",
          "name": "stdout",
          "text": [
            "R2: -0.6240477416493477\n",
            "RMSE: 8.758328864572283\n"
          ]
        }
      ]
    },
    {
      "cell_type": "markdown",
      "metadata": {
        "id": "57JS53DGWRV9"
      },
      "source": [
        "### 3.7 Modelos ensemble"
      ]
    },
    {
      "cell_type": "code",
      "metadata": {
        "id": "RRtn85KSVucO"
      },
      "source": [
        "def avaliando_modelos(modelo):\n",
        "  reg = modelo()\n",
        "  reg.fit(X_train_scaled, y_train.values.ravel())\n",
        "\n",
        "  score_reg = reg.score(X_test_scaled, y_test)\n",
        "  y_pred = reg.predict(X_test_scaled)\n",
        "  rmse = np.sqrt(mean_squared_error(y_test, y_pred))\n",
        "  print(f'R2: {score_reg}')\n",
        "  print(f'RMSE: {rmse}')"
      ],
      "execution_count": 78,
      "outputs": []
    },
    {
      "cell_type": "code",
      "metadata": {
        "colab": {
          "base_uri": "https://localhost:8080/"
        },
        "id": "beil8HajWsxD",
        "outputId": "77ad8e2c-a4c8-4e28-a799-4803d296657f"
      },
      "source": [
        "avaliando_modelos(AdaBoostRegressor)"
      ],
      "execution_count": 79,
      "outputs": [
        {
          "output_type": "stream",
          "name": "stdout",
          "text": [
            "R2: 0.16957260416316433\n",
            "RMSE: 6.26285975354531\n"
          ]
        }
      ]
    },
    {
      "cell_type": "code",
      "metadata": {
        "colab": {
          "base_uri": "https://localhost:8080/"
        },
        "id": "90W9bas-W_JF",
        "outputId": "6c494e2d-70c0-487f-9d31-77173fff78ae"
      },
      "source": [
        "avaliando_modelos(BaggingRegressor)"
      ],
      "execution_count": 80,
      "outputs": [
        {
          "output_type": "stream",
          "name": "stdout",
          "text": [
            "R2: 0.07954399971121706\n",
            "RMSE: 6.593611718170854\n"
          ]
        }
      ]
    },
    {
      "cell_type": "code",
      "metadata": {
        "colab": {
          "base_uri": "https://localhost:8080/"
        },
        "id": "nD0zaHKOXZvS",
        "outputId": "f6a32db4-e7ea-425e-d6db-0d8d825d8909"
      },
      "source": [
        "avaliando_modelos(ExtraTreesRegressor)"
      ],
      "execution_count": 81,
      "outputs": [
        {
          "output_type": "stream",
          "name": "stdout",
          "text": [
            "R2: 0.16278223111413392\n",
            "RMSE: 6.288413204812682\n"
          ]
        }
      ]
    },
    {
      "cell_type": "code",
      "metadata": {
        "colab": {
          "base_uri": "https://localhost:8080/"
        },
        "id": "tYvl-tWsX152",
        "outputId": "7d048b71-2869-485b-b1b3-67369aa842cc"
      },
      "source": [
        "avaliando_modelos(GradientBoostingRegressor)"
      ],
      "execution_count": 82,
      "outputs": [
        {
          "output_type": "stream",
          "name": "stdout",
          "text": [
            "R2: 0.20416944111017177\n",
            "RMSE: 6.131011887350179\n"
          ]
        }
      ]
    },
    {
      "cell_type": "code",
      "metadata": {
        "colab": {
          "base_uri": "https://localhost:8080/"
        },
        "id": "18kbTgQcZCu7",
        "outputId": "fa9df87f-85ed-49c6-ca0a-9844ebe658a7"
      },
      "source": [
        "avaliando_modelos(RandomForestRegressor)"
      ],
      "execution_count": 83,
      "outputs": [
        {
          "output_type": "stream",
          "name": "stdout",
          "text": [
            "R2: 0.17966070712530846\n",
            "RMSE: 6.224702637759093\n"
          ]
        }
      ]
    },
    {
      "cell_type": "markdown",
      "metadata": {
        "id": "iKgmIo6AcA63"
      },
      "source": [
        "## 4 - Tunando os hyper parametros dos melhores modelos\n",
        "* Ridge\n",
        "* GradientBoostingRegressor"
      ]
    },
    {
      "cell_type": "code",
      "metadata": {
        "colab": {
          "base_uri": "https://localhost:8080/"
        },
        "id": "MmWlx8iPZDBi",
        "outputId": "6cc6a32b-527c-4e7a-94d4-2c5f6a53bb06"
      },
      "source": [
        "reg_ridge_cv = RidgeCV(cv=5)\n",
        "reg_ridge_cv.fit(X_train_scaled, y_train)\n",
        "\n",
        "score_reg_ridge_cv = reg_ridge_cv.score(X_test_scaled, y_test)\n",
        "y_pred = reg_ridge_cv.predict(X_test_scaled)\n",
        "rmse = np.sqrt(mean_squared_error(y_test, y_pred))\n",
        "print(f'R2: {score_reg_ridge_cv}')\n",
        "print(f'RMSE: {rmse}')"
      ],
      "execution_count": 102,
      "outputs": [
        {
          "output_type": "stream",
          "name": "stdout",
          "text": [
            "R2: 0.2330603992045187\n",
            "RMSE: 6.01869636017075\n"
          ]
        }
      ]
    },
    {
      "cell_type": "code",
      "metadata": {
        "id": "cZDYUCoNcbkF"
      },
      "source": [
        "param_grid = {'loss': ['squared_error', 'absolute_error', 'huber', 'quantile'], \n",
        "              'learning_rate': np.linspace(0.001, 0.5, 200),\n",
        "              'criterion': ['friedman_mse', 'squared_error'],\n",
        "              'min_samples_split': np.linspace(0.0001, 0.03, 200),\n",
        "              'min_samples_leaf': np.linspace(0.0001, 0.05, 200),\n",
        "              'max_depth': range(1, 10),\n",
        "              'max_features': ['auto', 'sqrt', 'log2']}"
      ],
      "execution_count": 144,
      "outputs": []
    },
    {
      "cell_type": "code",
      "metadata": {
        "colab": {
          "base_uri": "https://localhost:8080/"
        },
        "id": "611_e68WjUqc",
        "outputId": "8abdc909-cfcc-4944-c85f-9aa9ce8d81f3"
      },
      "source": [
        "reg = GradientBoostingRegressor()\n",
        "\n",
        "search = RandomizedSearchCV(reg, param_grid, n_iter=30, cv=5)\n",
        "search.fit(X_train, y_train.values.ravel())\n",
        "\n",
        "melhor_modelo = search.best_estimator_\n",
        "\n",
        "score = melhor_modelo.score(X_test, y_test)\n",
        "y_pred = melhor_modelo.predict(X_test)\n",
        "rmse = np.sqrt(mean_squared_error(y_test, y_pred))\n",
        "print(f'R2: {score_reg_model2}')\n",
        "print(f'RMSE: {rmse}')"
      ],
      "execution_count": 150,
      "outputs": [
        {
          "output_type": "stream",
          "name": "stdout",
          "text": [
            "R2: 0.2330835595338724\n",
            "RMSE: 6.085569535791791\n"
          ]
        }
      ]
    },
    {
      "cell_type": "code",
      "metadata": {
        "colab": {
          "base_uri": "https://localhost:8080/",
          "height": 359
        },
        "id": "VmVn8LeIJ9zp",
        "outputId": "295fd531-83cf-49f2-a0cb-abcf5133a446"
      },
      "source": [
        "df_pred = pd.DataFrame(y_test.values, columns=['y_true'])\n",
        "df_pred['y_pred'] = y_pred.round(2)\n",
        "df_pred.tail(10)"
      ],
      "execution_count": 178,
      "outputs": [
        {
          "output_type": "execute_result",
          "data": {
            "text/html": [
              "<div>\n",
              "<style scoped>\n",
              "    .dataframe tbody tr th:only-of-type {\n",
              "        vertical-align: middle;\n",
              "    }\n",
              "\n",
              "    .dataframe tbody tr th {\n",
              "        vertical-align: top;\n",
              "    }\n",
              "\n",
              "    .dataframe thead th {\n",
              "        text-align: right;\n",
              "    }\n",
              "</style>\n",
              "<table border=\"1\" class=\"dataframe\">\n",
              "  <thead>\n",
              "    <tr style=\"text-align: right;\">\n",
              "      <th></th>\n",
              "      <th>y_true</th>\n",
              "      <th>y_pred</th>\n",
              "    </tr>\n",
              "  </thead>\n",
              "  <tbody>\n",
              "    <tr>\n",
              "      <th>790</th>\n",
              "      <td>83.08</td>\n",
              "      <td>80.50</td>\n",
              "    </tr>\n",
              "    <tr>\n",
              "      <th>791</th>\n",
              "      <td>82.34</td>\n",
              "      <td>76.31</td>\n",
              "    </tr>\n",
              "    <tr>\n",
              "      <th>792</th>\n",
              "      <td>76.65</td>\n",
              "      <td>81.69</td>\n",
              "    </tr>\n",
              "    <tr>\n",
              "      <th>793</th>\n",
              "      <td>88.42</td>\n",
              "      <td>83.21</td>\n",
              "    </tr>\n",
              "    <tr>\n",
              "      <th>794</th>\n",
              "      <td>95.14</td>\n",
              "      <td>85.58</td>\n",
              "    </tr>\n",
              "    <tr>\n",
              "      <th>795</th>\n",
              "      <td>78.45</td>\n",
              "      <td>81.31</td>\n",
              "    </tr>\n",
              "    <tr>\n",
              "      <th>796</th>\n",
              "      <td>89.98</td>\n",
              "      <td>81.68</td>\n",
              "    </tr>\n",
              "    <tr>\n",
              "      <th>797</th>\n",
              "      <td>80.32</td>\n",
              "      <td>84.42</td>\n",
              "    </tr>\n",
              "    <tr>\n",
              "      <th>798</th>\n",
              "      <td>67.07</td>\n",
              "      <td>80.92</td>\n",
              "    </tr>\n",
              "    <tr>\n",
              "      <th>799</th>\n",
              "      <td>81.47</td>\n",
              "      <td>84.73</td>\n",
              "    </tr>\n",
              "  </tbody>\n",
              "</table>\n",
              "</div>"
            ],
            "text/plain": [
              "     y_true  y_pred\n",
              "790   83.08   80.50\n",
              "791   82.34   76.31\n",
              "792   76.65   81.69\n",
              "793   88.42   83.21\n",
              "794   95.14   85.58\n",
              "795   78.45   81.31\n",
              "796   89.98   81.68\n",
              "797   80.32   84.42\n",
              "798   67.07   80.92\n",
              "799   81.47   84.73"
            ]
          },
          "metadata": {},
          "execution_count": 178
        }
      ]
    },
    {
      "cell_type": "markdown",
      "metadata": {
        "id": "5tjndWd1IKqf"
      },
      "source": [
        "## 5 - Prevendos os valores do dataset answer.csv"
      ]
    },
    {
      "cell_type": "code",
      "metadata": {
        "colab": {
          "base_uri": "https://localhost:8080/",
          "height": 204
        },
        "id": "zBFtLASxxHAA",
        "outputId": "8edeb0cf-2fd6-4639-d409-faea0ebcbbae"
      },
      "source": [
        "answers = pd.read_csv('answers.csv')\n",
        "answers.head()"
      ],
      "execution_count": 154,
      "outputs": [
        {
          "output_type": "execute_result",
          "data": {
            "text/html": [
              "<div>\n",
              "<style scoped>\n",
              "    .dataframe tbody tr th:only-of-type {\n",
              "        vertical-align: middle;\n",
              "    }\n",
              "\n",
              "    .dataframe tbody tr th {\n",
              "        vertical-align: top;\n",
              "    }\n",
              "\n",
              "    .dataframe thead th {\n",
              "        text-align: right;\n",
              "    }\n",
              "</style>\n",
              "<table border=\"1\" class=\"dataframe\">\n",
              "  <thead>\n",
              "    <tr style=\"text-align: right;\">\n",
              "      <th></th>\n",
              "      <th>ID</th>\n",
              "      <th>ILLUM</th>\n",
              "      <th>HUMID</th>\n",
              "      <th>CO2</th>\n",
              "      <th>SOUND</th>\n",
              "      <th>TEMP</th>\n",
              "      <th>RYTHM</th>\n",
              "    </tr>\n",
              "  </thead>\n",
              "  <tbody>\n",
              "    <tr>\n",
              "      <th>0</th>\n",
              "      <td>0</td>\n",
              "      <td>337.90</td>\n",
              "      <td>63.29</td>\n",
              "      <td>518.13</td>\n",
              "      <td>22.38</td>\n",
              "      <td>18.59</td>\n",
              "      <td>0.0</td>\n",
              "    </tr>\n",
              "    <tr>\n",
              "      <th>1</th>\n",
              "      <td>1</td>\n",
              "      <td>342.96</td>\n",
              "      <td>63.19</td>\n",
              "      <td>488.85</td>\n",
              "      <td>37.36</td>\n",
              "      <td>20.41</td>\n",
              "      <td>0.0</td>\n",
              "    </tr>\n",
              "    <tr>\n",
              "      <th>2</th>\n",
              "      <td>2</td>\n",
              "      <td>369.86</td>\n",
              "      <td>57.39</td>\n",
              "      <td>516.86</td>\n",
              "      <td>26.45</td>\n",
              "      <td>20.89</td>\n",
              "      <td>0.0</td>\n",
              "    </tr>\n",
              "    <tr>\n",
              "      <th>3</th>\n",
              "      <td>3</td>\n",
              "      <td>304.65</td>\n",
              "      <td>67.80</td>\n",
              "      <td>517.50</td>\n",
              "      <td>32.98</td>\n",
              "      <td>22.52</td>\n",
              "      <td>0.0</td>\n",
              "    </tr>\n",
              "    <tr>\n",
              "      <th>4</th>\n",
              "      <td>4</td>\n",
              "      <td>442.25</td>\n",
              "      <td>68.21</td>\n",
              "      <td>500.91</td>\n",
              "      <td>37.28</td>\n",
              "      <td>21.88</td>\n",
              "      <td>0.0</td>\n",
              "    </tr>\n",
              "  </tbody>\n",
              "</table>\n",
              "</div>"
            ],
            "text/plain": [
              "   ID   ILLUM  HUMID     CO2  SOUND   TEMP  RYTHM\n",
              "0   0  337.90  63.29  518.13  22.38  18.59    0.0\n",
              "1   1  342.96  63.19  488.85  37.36  20.41    0.0\n",
              "2   2  369.86  57.39  516.86  26.45  20.89    0.0\n",
              "3   3  304.65  67.80  517.50  32.98  22.52    0.0\n",
              "4   4  442.25  68.21  500.91  37.28  21.88    0.0"
            ]
          },
          "metadata": {},
          "execution_count": 154
        }
      ]
    },
    {
      "cell_type": "code",
      "metadata": {
        "id": "y4qF-TnJIU9Z"
      },
      "source": [
        "def preparando_dados(dados):\n",
        "  dados = dados[['ILLUM', 'ILLUM', 'HUMID', 'CO2', 'SOUND']].copy()\n",
        "  return dados "
      ],
      "execution_count": 164,
      "outputs": []
    },
    {
      "cell_type": "code",
      "metadata": {
        "colab": {
          "base_uri": "https://localhost:8080/",
          "height": 204
        },
        "id": "JHlbrWneJPCM",
        "outputId": "119d7de5-20c6-46cc-d11c-f276a6864848"
      },
      "source": [
        "X_new_scaled = preparando_dados(answers)\n",
        "X_new_scaled.head()"
      ],
      "execution_count": 167,
      "outputs": [
        {
          "output_type": "execute_result",
          "data": {
            "text/html": [
              "<div>\n",
              "<style scoped>\n",
              "    .dataframe tbody tr th:only-of-type {\n",
              "        vertical-align: middle;\n",
              "    }\n",
              "\n",
              "    .dataframe tbody tr th {\n",
              "        vertical-align: top;\n",
              "    }\n",
              "\n",
              "    .dataframe thead th {\n",
              "        text-align: right;\n",
              "    }\n",
              "</style>\n",
              "<table border=\"1\" class=\"dataframe\">\n",
              "  <thead>\n",
              "    <tr style=\"text-align: right;\">\n",
              "      <th></th>\n",
              "      <th>ILLUM</th>\n",
              "      <th>ILLUM</th>\n",
              "      <th>HUMID</th>\n",
              "      <th>CO2</th>\n",
              "      <th>SOUND</th>\n",
              "    </tr>\n",
              "  </thead>\n",
              "  <tbody>\n",
              "    <tr>\n",
              "      <th>0</th>\n",
              "      <td>337.90</td>\n",
              "      <td>337.90</td>\n",
              "      <td>63.29</td>\n",
              "      <td>518.13</td>\n",
              "      <td>22.38</td>\n",
              "    </tr>\n",
              "    <tr>\n",
              "      <th>1</th>\n",
              "      <td>342.96</td>\n",
              "      <td>342.96</td>\n",
              "      <td>63.19</td>\n",
              "      <td>488.85</td>\n",
              "      <td>37.36</td>\n",
              "    </tr>\n",
              "    <tr>\n",
              "      <th>2</th>\n",
              "      <td>369.86</td>\n",
              "      <td>369.86</td>\n",
              "      <td>57.39</td>\n",
              "      <td>516.86</td>\n",
              "      <td>26.45</td>\n",
              "    </tr>\n",
              "    <tr>\n",
              "      <th>3</th>\n",
              "      <td>304.65</td>\n",
              "      <td>304.65</td>\n",
              "      <td>67.80</td>\n",
              "      <td>517.50</td>\n",
              "      <td>32.98</td>\n",
              "    </tr>\n",
              "    <tr>\n",
              "      <th>4</th>\n",
              "      <td>442.25</td>\n",
              "      <td>442.25</td>\n",
              "      <td>68.21</td>\n",
              "      <td>500.91</td>\n",
              "      <td>37.28</td>\n",
              "    </tr>\n",
              "  </tbody>\n",
              "</table>\n",
              "</div>"
            ],
            "text/plain": [
              "    ILLUM   ILLUM  HUMID     CO2  SOUND\n",
              "0  337.90  337.90  63.29  518.13  22.38\n",
              "1  342.96  342.96  63.19  488.85  37.36\n",
              "2  369.86  369.86  57.39  516.86  26.45\n",
              "3  304.65  304.65  67.80  517.50  32.98\n",
              "4  442.25  442.25  68.21  500.91  37.28"
            ]
          },
          "metadata": {},
          "execution_count": 167
        }
      ]
    },
    {
      "cell_type": "code",
      "metadata": {
        "colab": {
          "base_uri": "https://localhost:8080/",
          "height": 289
        },
        "id": "i2Pr-HE3JP6f",
        "outputId": "e8aaf9b6-2799-4309-b32e-90d399bea586"
      },
      "source": [
        "y_pred_answers = melhor_modelo.predict(X_new_scaled).round(2)\n",
        "answers_predicted = answers.copy()\n",
        "answers_predicted['RYTHM'] = y_pred_answers\n",
        "answers_predicted.head()"
      ],
      "execution_count": 177,
      "outputs": [
        {
          "output_type": "stream",
          "name": "stderr",
          "text": [
            "/usr/local/lib/python3.7/dist-packages/sklearn/base.py:488: FutureWarning: The feature names should match those that were passed during fit. Starting version 1.2, an error will be raised.\n",
            "Feature names seen at fit time, yet now missing:\n",
            "- TEMP\n",
            "\n",
            "  warnings.warn(message, FutureWarning)\n"
          ]
        },
        {
          "output_type": "execute_result",
          "data": {
            "text/html": [
              "<div>\n",
              "<style scoped>\n",
              "    .dataframe tbody tr th:only-of-type {\n",
              "        vertical-align: middle;\n",
              "    }\n",
              "\n",
              "    .dataframe tbody tr th {\n",
              "        vertical-align: top;\n",
              "    }\n",
              "\n",
              "    .dataframe thead th {\n",
              "        text-align: right;\n",
              "    }\n",
              "</style>\n",
              "<table border=\"1\" class=\"dataframe\">\n",
              "  <thead>\n",
              "    <tr style=\"text-align: right;\">\n",
              "      <th></th>\n",
              "      <th>ID</th>\n",
              "      <th>ILLUM</th>\n",
              "      <th>HUMID</th>\n",
              "      <th>CO2</th>\n",
              "      <th>SOUND</th>\n",
              "      <th>TEMP</th>\n",
              "      <th>RYTHM</th>\n",
              "    </tr>\n",
              "  </thead>\n",
              "  <tbody>\n",
              "    <tr>\n",
              "      <th>0</th>\n",
              "      <td>0</td>\n",
              "      <td>337.90</td>\n",
              "      <td>63.29</td>\n",
              "      <td>518.13</td>\n",
              "      <td>22.38</td>\n",
              "      <td>18.59</td>\n",
              "      <td>77.22</td>\n",
              "    </tr>\n",
              "    <tr>\n",
              "      <th>1</th>\n",
              "      <td>1</td>\n",
              "      <td>342.96</td>\n",
              "      <td>63.19</td>\n",
              "      <td>488.85</td>\n",
              "      <td>37.36</td>\n",
              "      <td>20.41</td>\n",
              "      <td>81.11</td>\n",
              "    </tr>\n",
              "    <tr>\n",
              "      <th>2</th>\n",
              "      <td>2</td>\n",
              "      <td>369.86</td>\n",
              "      <td>57.39</td>\n",
              "      <td>516.86</td>\n",
              "      <td>26.45</td>\n",
              "      <td>20.89</td>\n",
              "      <td>81.50</td>\n",
              "    </tr>\n",
              "    <tr>\n",
              "      <th>3</th>\n",
              "      <td>3</td>\n",
              "      <td>304.65</td>\n",
              "      <td>67.80</td>\n",
              "      <td>517.50</td>\n",
              "      <td>32.98</td>\n",
              "      <td>22.52</td>\n",
              "      <td>80.51</td>\n",
              "    </tr>\n",
              "    <tr>\n",
              "      <th>4</th>\n",
              "      <td>4</td>\n",
              "      <td>442.25</td>\n",
              "      <td>68.21</td>\n",
              "      <td>500.91</td>\n",
              "      <td>37.28</td>\n",
              "      <td>21.88</td>\n",
              "      <td>81.82</td>\n",
              "    </tr>\n",
              "  </tbody>\n",
              "</table>\n",
              "</div>"
            ],
            "text/plain": [
              "   ID   ILLUM  HUMID     CO2  SOUND   TEMP  RYTHM\n",
              "0   0  337.90  63.29  518.13  22.38  18.59  77.22\n",
              "1   1  342.96  63.19  488.85  37.36  20.41  81.11\n",
              "2   2  369.86  57.39  516.86  26.45  20.89  81.50\n",
              "3   3  304.65  67.80  517.50  32.98  22.52  80.51\n",
              "4   4  442.25  68.21  500.91  37.28  21.88  81.82"
            ]
          },
          "metadata": {},
          "execution_count": 177
        }
      ]
    },
    {
      "cell_type": "code",
      "metadata": {
        "id": "OuMpK6GILj0y"
      },
      "source": [
        "answers_predicted.to_csv('answers_predicted.csv', index=False)"
      ],
      "execution_count": 180,
      "outputs": []
    },
    {
      "cell_type": "code",
      "metadata": {
        "id": "LXsP_z7vM6u4"
      },
      "source": [
        ""
      ],
      "execution_count": null,
      "outputs": []
    }
  ]
}